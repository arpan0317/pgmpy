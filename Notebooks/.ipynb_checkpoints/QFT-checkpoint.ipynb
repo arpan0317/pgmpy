{
 "cells": [
  {
   "cell_type": "code",
   "execution_count": 1,
   "id": "7499e1d6",
   "metadata": {},
   "outputs": [
    {
     "name": "stderr",
     "output_type": "stream",
     "text": [
      "C:\\Users\\masch\\anaconda3\\lib\\site-packages\\pgmpy\\factors\\discrete\\DiscreteFactor.py:88: ComplexWarning: Casting complex values to real discards the imaginary part\n",
      "  values = np.array(values, dtype=float)\n"
     ]
    },
    {
     "name": "stdout",
     "output_type": "stream",
     "text": [
      "+---------+---+\n",
      "| q0m0(0) | 1 |\n",
      "+---------+---+\n",
      "| q0m0(1) | 0 |\n",
      "+---------+---+\n",
      "+---------+--------------------+---------------------+\n",
      "| q0m0    | q0m0(0)            | q0m0(1)             |\n",
      "+---------+--------------------+---------------------+\n",
      "| q0m1(0) | 0.7071067811865475 | 0.7071067811865475  |\n",
      "+---------+--------------------+---------------------+\n",
      "| q0m1(1) | 0.7071067811865475 | -0.7071067811865475 |\n",
      "+---------+--------------------+---------------------+\n"
     ]
    },
    {
     "ename": "ValueError",
     "evalue": "Sum or integral of conditional probabilites for node q0m1 is not equal to 1.",
     "output_type": "error",
     "traceback": [
      "\u001b[1;31m---------------------------------------------------------------------------\u001b[0m",
      "\u001b[1;31mValueError\u001b[0m                                Traceback (most recent call last)",
      "\u001b[1;32m<ipython-input-1-5eb2db0d9ddc>\u001b[0m in \u001b[0;36m<module>\u001b[1;34m\u001b[0m\n\u001b[0;32m     25\u001b[0m \u001b[0mprint\u001b[0m\u001b[1;33m(\u001b[0m\u001b[0mcpd_q0m1\u001b[0m\u001b[1;33m)\u001b[0m\u001b[1;33m\u001b[0m\u001b[1;33m\u001b[0m\u001b[0m\n\u001b[0;32m     26\u001b[0m \u001b[0mqft\u001b[0m\u001b[1;33m.\u001b[0m\u001b[0madd_cpds\u001b[0m\u001b[1;33m(\u001b[0m\u001b[0mcpd_q0m0\u001b[0m\u001b[1;33m,\u001b[0m\u001b[0mcpd_q0m1\u001b[0m\u001b[1;33m)\u001b[0m\u001b[1;33m\u001b[0m\u001b[1;33m\u001b[0m\u001b[0m\n\u001b[1;32m---> 27\u001b[1;33m \u001b[0mqftInfer\u001b[0m \u001b[1;33m=\u001b[0m \u001b[0mVariableElimination\u001b[0m\u001b[1;33m(\u001b[0m\u001b[0mqft\u001b[0m\u001b[1;33m)\u001b[0m\u001b[1;33m\u001b[0m\u001b[1;33m\u001b[0m\u001b[0m\n\u001b[0m\u001b[0;32m     28\u001b[0m \u001b[0mprint\u001b[0m\u001b[1;33m(\u001b[0m\u001b[0mqftInfer\u001b[0m\u001b[1;33m.\u001b[0m\u001b[0mquery\u001b[0m\u001b[1;33m(\u001b[0m\u001b[1;33m[\u001b[0m\u001b[1;34m'q0m1'\u001b[0m\u001b[1;33m]\u001b[0m\u001b[1;33m)\u001b[0m\u001b[1;33m)\u001b[0m\u001b[1;33m\u001b[0m\u001b[1;33m\u001b[0m\u001b[0m\n",
      "\u001b[1;32m~\\anaconda3\\lib\\site-packages\\pgmpy\\inference\\base.py\u001b[0m in \u001b[0;36m__init__\u001b[1;34m(self, model)\u001b[0m\n\u001b[0;32m     63\u001b[0m     \u001b[1;32mdef\u001b[0m \u001b[0m__init__\u001b[0m\u001b[1;33m(\u001b[0m\u001b[0mself\u001b[0m\u001b[1;33m,\u001b[0m \u001b[0mmodel\u001b[0m\u001b[1;33m)\u001b[0m\u001b[1;33m:\u001b[0m\u001b[1;33m\u001b[0m\u001b[1;33m\u001b[0m\u001b[0m\n\u001b[0;32m     64\u001b[0m         \u001b[0mself\u001b[0m\u001b[1;33m.\u001b[0m\u001b[0mmodel\u001b[0m \u001b[1;33m=\u001b[0m \u001b[0mmodel\u001b[0m\u001b[1;33m\u001b[0m\u001b[1;33m\u001b[0m\u001b[0m\n\u001b[1;32m---> 65\u001b[1;33m         \u001b[0mmodel\u001b[0m\u001b[1;33m.\u001b[0m\u001b[0mcheck_model\u001b[0m\u001b[1;33m(\u001b[0m\u001b[1;33m)\u001b[0m\u001b[1;33m\u001b[0m\u001b[1;33m\u001b[0m\u001b[0m\n\u001b[0m\u001b[0;32m     66\u001b[0m \u001b[1;33m\u001b[0m\u001b[0m\n\u001b[0;32m     67\u001b[0m         \u001b[1;32mif\u001b[0m \u001b[0misinstance\u001b[0m\u001b[1;33m(\u001b[0m\u001b[0mself\u001b[0m\u001b[1;33m.\u001b[0m\u001b[0mmodel\u001b[0m\u001b[1;33m,\u001b[0m \u001b[0mJunctionTree\u001b[0m\u001b[1;33m)\u001b[0m\u001b[1;33m:\u001b[0m\u001b[1;33m\u001b[0m\u001b[1;33m\u001b[0m\u001b[0m\n",
      "\u001b[1;32m~\\anaconda3\\lib\\site-packages\\pgmpy\\models\\BayesianNetwork.py\u001b[0m in \u001b[0;36mcheck_model\u001b[1;34m(self)\u001b[0m\n\u001b[0;32m    398\u001b[0m                     )\n\u001b[0;32m    399\u001b[0m                 \u001b[1;32mif\u001b[0m \u001b[1;32mnot\u001b[0m \u001b[0mcpd\u001b[0m\u001b[1;33m.\u001b[0m\u001b[0mis_valid_cpd\u001b[0m\u001b[1;33m(\u001b[0m\u001b[1;33m)\u001b[0m\u001b[1;33m:\u001b[0m\u001b[1;33m\u001b[0m\u001b[1;33m\u001b[0m\u001b[0m\n\u001b[1;32m--> 400\u001b[1;33m                     raise ValueError(\n\u001b[0m\u001b[0;32m    401\u001b[0m                         \u001b[1;34mf\"Sum or integral of conditional probabilites for node {node} is not equal to 1.\"\u001b[0m\u001b[1;33m\u001b[0m\u001b[1;33m\u001b[0m\u001b[0m\n\u001b[0;32m    402\u001b[0m                     )\n",
      "\u001b[1;31mValueError\u001b[0m: Sum or integral of conditional probabilites for node q0m1 is not equal to 1."
     ]
    }
   ],
   "source": [
    "import sys\n",
    "#sys.path.insert(0, '/Users/arpan/Desktop/Aresty_Quantum/pgmpy/pgmpy')\n",
    "\n",
    "#QFT with one qubit\n",
    "\n",
    "\n",
    "\n",
    "import cmath\n",
    "import math\n",
    "from pgmpy.models import BayesianNetwork\n",
    "from pgmpy.factors.discrete.CPD import TabularCPD\n",
    "import numpy as np\n",
    "from pgmpy.inference import VariableElimination\n",
    "from pgmpy.inference import BeliefPropagation\n",
    "\n",
    "N = 2\n",
    "omega_N = cmath.exp(2*math.pi*1j/N)\n",
    "qft = BayesianNetwork([('q0m0','q0m1')])\n",
    "cpd_q0m0 = TabularCPD(variable = 'q0m0', variable_card = 2, values = [[1], [0]])\n",
    "cpd_q0m1 = TabularCPD(variable='q0m1', variable_card = 2, values = [[1/np.sqrt(N),1/np.sqrt(N)], [1/np.sqrt(N),omega_N/np.sqrt(N)]], evidence = ['q0m0'], evidence_card = [2])\n",
    "\n",
    "\"\"\"\n",
    "U_QFT =\n",
    "[1/sqrt(2)   1/sqrt(2)]\n",
    "[1/sqrt(2)   -1/sqrt(2)]\n",
    "\"\"\"\n",
    "\n",
    "\n",
    "print(cpd_q0m0)\n",
    "print(cpd_q0m1)\n",
    "qft.add_cpds(cpd_q0m0,cpd_q0m1)\n",
    "qftInfer = VariableElimination(qft)\n",
    "print(qftInfer.query(['q0m1']))"
   ]
  },
  {
   "cell_type": "code",
   "execution_count": 2,
   "id": "497937f5",
   "metadata": {},
   "outputs": [
    {
     "name": "stdout",
     "output_type": "stream",
     "text": [
      "+---------+--------+\n",
      "| q0m0(0) | (1+0j) |\n",
      "+---------+--------+\n",
      "| q0m0(1) | 0j     |\n",
      "+---------+--------+\n",
      "+---------+--------+\n",
      "| q1m0(0) | (1+0j) |\n",
      "+---------+--------+\n",
      "| q1m0(1) | 0j     |\n",
      "+---------+--------+\n",
      "+---------+-------------------------+-----+-----------------------------------------------+\n",
      "| q0m0    | q0m0(0)                 | ... | q0m0(1)                                       |\n",
      "+---------+-------------------------+-----+-----------------------------------------------+\n",
      "| q1m0    | q1m0(0)                 | ... | q1m0(1)                                       |\n",
      "+---------+-------------------------+-----+-----------------------------------------------+\n",
      "| q0m1(0) | (0.7071067811865475+0j) | ... | (0.7071067811865475+0j)                       |\n",
      "+---------+-------------------------+-----+-----------------------------------------------+\n",
      "| q0m1(1) | (0.7071067811865475+0j) | ... | (-0.7071067811865475+2.5978681687064796e-16j) |\n",
      "+---------+-------------------------+-----+-----------------------------------------------+\n",
      "+---------+-------------------------+-----+-----------------------------------------------+\n",
      "| q0m0    | q0m0(0)                 | ... | q0m0(1)                                       |\n",
      "+---------+-------------------------+-----+-----------------------------------------------+\n",
      "| q1m0    | q1m0(0)                 | ... | q1m0(1)                                       |\n",
      "+---------+-------------------------+-----+-----------------------------------------------+\n",
      "| q1m1(0) | (0.7071067811865475+0j) | ... | (0.7071067811865475+0j)                       |\n",
      "+---------+-------------------------+-----+-----------------------------------------------+\n",
      "| q1m1(1) | (0.7071067811865475+0j) | ... | (-1.2989340843532398e-16-0.7071067811865475j) |\n",
      "+---------+-------------------------+-----+-----------------------------------------------+\n"
     ]
    },
    {
     "data": {
      "application/vnd.jupyter.widget-view+json": {
       "model_id": "281f8c3bd0ef49cbb48c8de457933355",
       "version_major": 2,
       "version_minor": 0
      },
      "text/plain": [
       "  0%|          | 0/2 [00:00<?, ?it/s]"
      ]
     },
     "metadata": {},
     "output_type": "display_data"
    },
    {
     "data": {
      "application/vnd.jupyter.widget-view+json": {
       "model_id": "7dc0e53df8984c2387e86f26febba367",
       "version_major": 2,
       "version_minor": 0
      },
      "text/plain": [
       "  0%|          | 0/2 [00:00<?, ?it/s]"
      ]
     },
     "metadata": {},
     "output_type": "display_data"
    },
    {
     "name": "stdout",
     "output_type": "stream",
     "text": [
      "+---------+---------+------------------+\n",
      "| q1m1    | q0m1    |   phi(q1m1,q0m1) |\n",
      "+=========+=========+==================+\n",
      "| q1m1(0) | q0m1(0) |   0.5000+0.0000j |\n",
      "+---------+---------+------------------+\n",
      "| q1m1(0) | q0m1(1) |   0.5000+0.0000j |\n",
      "+---------+---------+------------------+\n",
      "| q1m1(1) | q0m1(0) |   0.5000+0.0000j |\n",
      "+---------+---------+------------------+\n",
      "| q1m1(1) | q0m1(1) |   0.5000+0.0000j |\n",
      "+---------+---------+------------------+\n"
     ]
    }
   ],
   "source": [
    "#QFT with 2 qubits\n",
    "\n",
    "N = 4\n",
    "omega_N = cmath.exp(2*math.pi*1j/N)\n",
    "qft = BayesianNetwork([('q0m0','q0m1'), ('q1m0','q0m1'), ('q0m0','q1m1'), ('q1m0','q1m1')])\n",
    "cpd_q0m0 = TabularCPD(variable = 'q0m0', variable_card = 2, values = [[1], [0]])\n",
    "cpd_q1m0 = TabularCPD(variable = 'q1m0', variable_card = 2, values = [[1], [0]])\n",
    "cpd_q0m1 = TabularCPD(variable='q0m1', variable_card = 2, values = [[1/np.sqrt(2),1/np.sqrt(2),1/np.sqrt(2),1/np.sqrt(2)], [1/np.sqrt(2),(omega_N**2)/np.sqrt(2),(omega_N**4)/np.sqrt(2),(omega_N**6)/np.sqrt(2)]], evidence = ['q0m0','q1m0'], evidence_card = [2,2])\n",
    "cpd_q1m1 = TabularCPD(variable='q1m1', variable_card = 2, values = [[1/np.sqrt(2),1/np.sqrt(2),1/np.sqrt(2),1/np.sqrt(2)], [1/np.sqrt(2),(omega_N**1)/np.sqrt(2),(omega_N**2)/np.sqrt(2),(omega_N**3)/np.sqrt(2)]], evidence = ['q0m0','q1m0'], evidence_card = [2,2])\n",
    "\n",
    "\"\"\"\n",
    "U_QFT =\n",
    "[1/2   1/2   1/2   1/2]\n",
    "[1/2   i/2   -1/2   -i/2]\n",
    "[1/2   -1/2   1/2   -1/2]\n",
    "[1/2   -i/2   -1/2   i/2]\n",
    "\"\"\"\n",
    "\n",
    "\n",
    "print(cpd_q0m0)\n",
    "print(cpd_q1m0)\n",
    "print(cpd_q0m1)\n",
    "print(cpd_q1m1)\n",
    "qft.add_cpds(cpd_q0m0,cpd_q0m1,cpd_q1m0,cpd_q1m1)\n",
    "qftInfer = VariableElimination(qft)\n",
    "print(qftInfer.query(['q0m1','q1m1']))\n",
    "\n",
    "\"\"\"\n",
    "U_QFT(00) = 1/2 00 + 1/2 01 + 1/2 10 + 1/2 11 = (1/sqrt(2)* (0 + 1)) * (1/sqrt(2)* (0 + 1))\n",
    "U_QFT(01) = 1/2 00 + i/2 01 - 1/2 10 - i/2 11 = (1/sqrt(2)* (0 - 1)) * (1/sqrt(2)* (0 + i*1))\n",
    "...\n",
    "\"\"\""
   ]
  },
  {
   "cell_type": "code",
   "execution_count": 3,
   "id": "dd2cdbac",
   "metadata": {},
   "outputs": [
    {
     "name": "stdout",
     "output_type": "stream",
     "text": [
      "+---------+--------+\n",
      "| q0m0(0) | (1+0j) |\n",
      "+---------+--------+\n",
      "| q0m0(1) | 0j     |\n",
      "+---------+--------+\n",
      "+---------+---------+---------+\n",
      "| q0m0    | q0m0(0) | q0m0(1) |\n",
      "+---------+---------+---------+\n",
      "| q0m1(0) | 0j      | (-0-1j) |\n",
      "+---------+---------+---------+\n",
      "| q0m1(1) | 1j      | 0j      |\n",
      "+---------+---------+---------+\n"
     ]
    },
    {
     "data": {
      "application/vnd.jupyter.widget-view+json": {
       "model_id": "ad57f1ef88544e41a03694b737865d3e",
       "version_major": 2,
       "version_minor": 0
      },
      "text/plain": [
       "  0%|          | 0/1 [00:00<?, ?it/s]"
      ]
     },
     "metadata": {},
     "output_type": "display_data"
    },
    {
     "data": {
      "application/vnd.jupyter.widget-view+json": {
       "model_id": "e651441dfbb64cf0a3425092d5b3fadf",
       "version_major": 2,
       "version_minor": 0
      },
      "text/plain": [
       "  0%|          | 0/1 [00:00<?, ?it/s]"
      ]
     },
     "metadata": {},
     "output_type": "display_data"
    },
    {
     "name": "stdout",
     "output_type": "stream",
     "text": [
      "+---------+----------------+\n",
      "| q0m1    |      phi(q0m1) |\n",
      "+=========+================+\n",
      "| q0m1(0) | 0.0000+0.0000j |\n",
      "+---------+----------------+\n",
      "| q0m1(1) | 0.0000+1.0000j |\n",
      "+---------+----------------+\n"
     ]
    }
   ],
   "source": [
    "#Y gate example\n",
    "\n",
    "N = 2\n",
    "omega_N = cmath.exp(2*math.pi*1j/N)\n",
    "qft = BayesianNetwork([('q0m0','q0m1')])\n",
    "cpd_q0m0 = TabularCPD(variable = 'q0m0', variable_card = 2, values = [[1], [0]])\n",
    "cpd_q0m1 = TabularCPD(variable='q0m1', variable_card = 2, values = [[0,-1j], [1j,0]], evidence = ['q0m0'], evidence_card = [2])\n",
    "\n",
    "print(cpd_q0m0)\n",
    "print(cpd_q0m1)\n",
    "qft.add_cpds(cpd_q0m0,cpd_q0m1)\n",
    "qftInfer = VariableElimination(qft)\n",
    "print(qftInfer.query(['q0m1']))"
   ]
  },
  {
   "cell_type": "code",
   "execution_count": 4,
   "id": "efd5293e",
   "metadata": {},
   "outputs": [
    {
     "name": "stdout",
     "output_type": "stream",
     "text": [
      "+---------+--------+\n",
      "| q0m0(0) | 0j     |\n",
      "+---------+--------+\n",
      "| q0m0(1) | (1+0j) |\n",
      "+---------+--------+\n",
      "+---------+--------+\n",
      "| q1m0(0) | (1+0j) |\n",
      "+---------+--------+\n",
      "| q1m0(1) | 0j     |\n",
      "+---------+--------+\n",
      "+---------+---------+---------+---------+---------+\n",
      "| q0m0    | q0m0(0) | q0m0(0) | q0m0(1) | q0m0(1) |\n",
      "+---------+---------+---------+---------+---------+\n",
      "| q1m0    | q1m0(0) | q1m0(1) | q1m0(0) | q1m0(1) |\n",
      "+---------+---------+---------+---------+---------+\n",
      "| q0m1(0) | (1+0j)  | (1+0j)  | 0j      | 0j      |\n",
      "+---------+---------+---------+---------+---------+\n",
      "| q0m1(1) | 0j      | 0j      | (1+0j)  | (1+0j)  |\n",
      "+---------+---------+---------+---------+---------+\n",
      "+---------+---------+---------+---------+---------+\n",
      "| q0m0    | q0m0(0) | q0m0(0) | q0m0(1) | q0m0(1) |\n",
      "+---------+---------+---------+---------+---------+\n",
      "| q1m0    | q1m0(0) | q1m0(1) | q1m0(0) | q1m0(1) |\n",
      "+---------+---------+---------+---------+---------+\n",
      "| q1m1(0) | (1+0j)  | 0j      | (1+0j)  | 0j      |\n",
      "+---------+---------+---------+---------+---------+\n",
      "| q1m1(1) | 0j      | (1+0j)  | 0j      | (1+0j)  |\n",
      "+---------+---------+---------+---------+---------+\n"
     ]
    },
    {
     "data": {
      "application/vnd.jupyter.widget-view+json": {
       "model_id": "d94a12a8a22140b591755fd5f185452e",
       "version_major": 2,
       "version_minor": 0
      },
      "text/plain": [
       "  0%|          | 0/2 [00:00<?, ?it/s]"
      ]
     },
     "metadata": {},
     "output_type": "display_data"
    },
    {
     "data": {
      "application/vnd.jupyter.widget-view+json": {
       "model_id": "0bcccdba3adb4b3fbe219e4990c17655",
       "version_major": 2,
       "version_minor": 0
      },
      "text/plain": [
       "  0%|          | 0/2 [00:00<?, ?it/s]"
      ]
     },
     "metadata": {},
     "output_type": "display_data"
    },
    {
     "name": "stdout",
     "output_type": "stream",
     "text": [
      "+---------+---------+------------------+\n",
      "| q1m1    | q0m1    |   phi(q1m1,q0m1) |\n",
      "+=========+=========+==================+\n",
      "| q1m1(0) | q0m1(0) |   0.0000+0.0000j |\n",
      "+---------+---------+------------------+\n",
      "| q1m1(0) | q0m1(1) |   1.0000+0.0000j |\n",
      "+---------+---------+------------------+\n",
      "| q1m1(1) | q0m1(0) |   0.0000+0.0000j |\n",
      "+---------+---------+------------------+\n",
      "| q1m1(1) | q0m1(1) |   0.0000+0.0000j |\n",
      "+---------+---------+------------------+\n"
     ]
    }
   ],
   "source": [
    "#Identity Gate on 2 qubits\n",
    "\n",
    "N = 4\n",
    "omega_N = cmath.exp(2*math.pi*1j/N)\n",
    "qft = BayesianNetwork([('q0m0','q0m1'), ('q1m0','q0m1'), ('q0m0','q1m1'), ('q1m0','q1m1')])\n",
    "cpd_q0m0 = TabularCPD(variable = 'q0m0', variable_card = 2, values = [[0], [1]])\n",
    "cpd_q1m0 = TabularCPD(variable = 'q1m0', variable_card = 2, values = [[1], [0]])\n",
    "cpd_q0m1 = TabularCPD(variable='q0m1', variable_card = 2, values = [[1,1,0,0], [0,0,1,1]], evidence = ['q0m0','q1m0'], evidence_card = [2,2])\n",
    "cpd_q1m1 = TabularCPD(variable='q1m1', variable_card = 2, values = [[1,0,1,0], [0,1,0,1]], evidence = ['q0m0','q1m0'], evidence_card = [2,2])\n",
    "\n",
    "print(cpd_q0m0)\n",
    "print(cpd_q1m0)\n",
    "print(cpd_q0m1)\n",
    "print(cpd_q1m1)\n",
    "qft.add_cpds(cpd_q0m0,cpd_q0m1,cpd_q1m0,cpd_q1m1)\n",
    "qftInfer = VariableElimination(qft)\n",
    "print(qftInfer.query(['q0m1','q1m1']))"
   ]
  },
  {
   "cell_type": "code",
   "execution_count": 5,
   "id": "26a1a87f",
   "metadata": {},
   "outputs": [
    {
     "name": "stdout",
     "output_type": "stream",
     "text": [
      "+---------+--------+\n",
      "| q0m0(0) | (1+0j) |\n",
      "+---------+--------+\n",
      "| q0m0(1) | 0j     |\n",
      "+---------+--------+\n",
      "+---------+-------------------------+----------------------------------------------+\n",
      "| q0m0    | q0m0(0)                 | q0m0(1)                                      |\n",
      "+---------+-------------------------+----------------------------------------------+\n",
      "| q0m1(0) | (0.7071067811865475+0j) | (0.7071067811865475+0j)                      |\n",
      "+---------+-------------------------+----------------------------------------------+\n",
      "| q0m1(1) | (0.7071067811865475+0j) | (-0.7071067811865475+8.659560562354933e-17j) |\n",
      "+---------+-------------------------+----------------------------------------------+\n"
     ]
    },
    {
     "data": {
      "application/vnd.jupyter.widget-view+json": {
       "model_id": "ade1df4050f34515bd4f5ca61140d96c",
       "version_major": 2,
       "version_minor": 0
      },
      "text/plain": [
       "  0%|          | 0/1 [00:00<?, ?it/s]"
      ]
     },
     "metadata": {},
     "output_type": "display_data"
    },
    {
     "name": "stdout",
     "output_type": "stream",
     "text": [
      "+---------+----------------+\n",
      "| q0m1    |      phi(q0m1) |\n",
      "+=========+================+\n",
      "| q0m1(0) | 0.7071+0.0000j |\n",
      "+---------+----------------+\n",
      "| q0m1(1) | 0.7071+0.0000j |\n",
      "+---------+----------------+\n"
     ]
    }
   ],
   "source": [
    "#Belief Propagation for QFT on 1 qubit\n",
    "\n",
    "N = 2\n",
    "omega_N = cmath.exp(2*math.pi*1j/N)\n",
    "qft = BayesianNetwork([('q0m0','q0m1')])\n",
    "cpd_q0m0 = TabularCPD(variable = 'q0m0', variable_card = 2, values = [[1], [0]])\n",
    "cpd_q0m1 = TabularCPD(variable='q0m1', variable_card = 2, values = [[1/np.sqrt(N),1/np.sqrt(N)], [1/np.sqrt(N),omega_N/np.sqrt(N)]], evidence = ['q0m0'], evidence_card = [2])\n",
    "\n",
    "print(cpd_q0m0)\n",
    "print(cpd_q0m1)\n",
    "qft.add_cpds(cpd_q0m0,cpd_q0m1)\n",
    "qftInfer = BeliefPropagation(qft)\n",
    "print(qftInfer.query(['q0m1']))"
   ]
  },
  {
   "cell_type": "code",
   "execution_count": 6,
   "id": "2a7ba45f",
   "metadata": {},
   "outputs": [
    {
     "name": "stdout",
     "output_type": "stream",
     "text": [
      "+---------+--------+\n",
      "| q0m0(0) | 0j     |\n",
      "+---------+--------+\n",
      "| q0m0(1) | (1+0j) |\n",
      "+---------+--------+\n",
      "+---------+--------+\n",
      "| q1m0(0) | 0j     |\n",
      "+---------+--------+\n",
      "| q1m0(1) | (1+0j) |\n",
      "+---------+--------+\n",
      "+---------+-------------------------+-----+-----------------------------------------------+\n",
      "| q0m0    | q0m0(0)                 | ... | q0m0(1)                                       |\n",
      "+---------+-------------------------+-----+-----------------------------------------------+\n",
      "| q1m0    | q1m0(0)                 | ... | q1m0(1)                                       |\n",
      "+---------+-------------------------+-----+-----------------------------------------------+\n",
      "| q0m1(0) | (0.7071067811865475+0j) | ... | (0.7071067811865475+0j)                       |\n",
      "+---------+-------------------------+-----+-----------------------------------------------+\n",
      "| q0m1(1) | (0.7071067811865475+0j) | ... | (-0.7071067811865475+2.5978681687064796e-16j) |\n",
      "+---------+-------------------------+-----+-----------------------------------------------+\n",
      "+---------+-------------------------+-----+-----------------------------------------------+\n",
      "| q0m0    | q0m0(0)                 | ... | q0m0(1)                                       |\n",
      "+---------+-------------------------+-----+-----------------------------------------------+\n",
      "| q1m0    | q1m0(0)                 | ... | q1m0(1)                                       |\n",
      "+---------+-------------------------+-----+-----------------------------------------------+\n",
      "| q1m1(0) | (0.7071067811865475+0j) | ... | (0.7071067811865475+0j)                       |\n",
      "+---------+-------------------------+-----+-----------------------------------------------+\n",
      "| q1m1(1) | (0.7071067811865475+0j) | ... | (-1.2989340843532398e-16-0.7071067811865475j) |\n",
      "+---------+-------------------------+-----+-----------------------------------------------+\n"
     ]
    },
    {
     "name": "stderr",
     "output_type": "stream",
     "text": [
      "C:\\Users\\masch\\Quantum Computing\\pgmpy\\pgmpy\\pgmpy\\pgmpy\\factors\\discrete\\DiscreteFactor.py:825: RuntimeWarning: invalid value encountered in true_divide\n",
      "  phi.values = phi.values / phi1.values\n"
     ]
    },
    {
     "data": {
      "application/vnd.jupyter.widget-view+json": {
       "model_id": "8cdeda4d101649fd8d76e0f4b97945af",
       "version_major": 2,
       "version_minor": 0
      },
      "text/plain": [
       "  0%|          | 0/2 [00:00<?, ?it/s]"
      ]
     },
     "metadata": {},
     "output_type": "display_data"
    },
    {
     "name": "stdout",
     "output_type": "stream",
     "text": [
      "+---------+---------+------------------+\n",
      "| q0m1    | q1m1    |   phi(q0m1,q1m1) |\n",
      "+=========+=========+==================+\n",
      "| q0m1(0) | q1m1(0) |   0.5000+0.0000j |\n",
      "+---------+---------+------------------+\n",
      "| q0m1(0) | q1m1(1) |  -0.0000-0.5000j |\n",
      "+---------+---------+------------------+\n",
      "| q0m1(1) | q1m1(0) |  -0.5000+0.0000j |\n",
      "+---------+---------+------------------+\n",
      "| q0m1(1) | q1m1(1) |   0.0000+0.5000j |\n",
      "+---------+---------+------------------+\n"
     ]
    }
   ],
   "source": [
    "#Belief Propagation with QFT on 2 qubits\n",
    "\n",
    "N = 4\n",
    "omega_N = cmath.exp(2*math.pi*1j/N)\n",
    "qft = BayesianNetwork([('q0m0','q0m1'), ('q1m0','q0m1'), ('q0m0','q1m1'), ('q1m0','q1m1')])\n",
    "cpd_q0m0 = TabularCPD(variable = 'q0m0', variable_card = 2, values = [[0], [1]])\n",
    "cpd_q1m0 = TabularCPD(variable = 'q1m0', variable_card = 2, values = [[0], [1]])\n",
    "cpd_q0m1 = TabularCPD(variable='q0m1', variable_card = 2, values = [[1/np.sqrt(2),1/np.sqrt(2),1/np.sqrt(2),1/np.sqrt(2)], [1/np.sqrt(2),(omega_N**2)/np.sqrt(2),(omega_N**4)/np.sqrt(2),(omega_N**6)/np.sqrt(2)]], evidence = ['q0m0','q1m0'], evidence_card = [2,2])\n",
    "cpd_q1m1 = TabularCPD(variable='q1m1', variable_card = 2, values = [[1/np.sqrt(2),1/np.sqrt(2),1/np.sqrt(2),1/np.sqrt(2)], [1/np.sqrt(2),(omega_N**1)/np.sqrt(2),(omega_N**2)/np.sqrt(2),(omega_N**3)/np.sqrt(2)]], evidence = ['q0m0','q1m0'], evidence_card = [2,2])\n",
    "\n",
    "print(cpd_q0m0)\n",
    "print(cpd_q1m0)\n",
    "print(cpd_q0m1)\n",
    "print(cpd_q1m1)\n",
    "qft.add_cpds(cpd_q0m0,cpd_q0m1,cpd_q1m0,cpd_q1m1)\n",
    "qftInfer = BeliefPropagation(qft)\n",
    "print(qftInfer.query(['q0m1','q1m1']))"
   ]
  },
  {
   "cell_type": "code",
   "execution_count": 18,
   "id": "a0f18e6c",
   "metadata": {},
   "outputs": [
    {
     "data": {
      "application/vnd.jupyter.widget-view+json": {
       "model_id": "34213c4c7c0440ceae399fa470100bf5",
       "version_major": 2,
       "version_minor": 0
      },
      "text/plain": [
       "  0%|          | 0/3 [00:00<?, ?it/s]"
      ]
     },
     "metadata": {},
     "output_type": "display_data"
    },
    {
     "data": {
      "application/vnd.jupyter.widget-view+json": {
       "model_id": "500745e7d48542b1a631ca69bb9bf30b",
       "version_major": 2,
       "version_minor": 0
      },
      "text/plain": [
       "  0%|          | 0/3 [00:00<?, ?it/s]"
      ]
     },
     "metadata": {},
     "output_type": "display_data"
    },
    {
     "name": "stdout",
     "output_type": "stream",
     "text": [
      "+---------+---------+---------+-----------------------+\n",
      "| q1m1    | q0m1    | q2m1    |   phi(q1m1,q0m1,q2m1) |\n",
      "+=========+=========+=========+=======================+\n",
      "| q1m1(0) | q0m1(0) | q2m1(0) |        0.3536+0.0000j |\n",
      "+---------+---------+---------+-----------------------+\n",
      "| q1m1(0) | q0m1(0) | q2m1(1) |       -0.2500+0.2500j |\n",
      "+---------+---------+---------+-----------------------+\n",
      "| q1m1(0) | q0m1(1) | q2m1(0) |       -0.3536+0.0000j |\n",
      "+---------+---------+---------+-----------------------+\n",
      "| q1m1(0) | q0m1(1) | q2m1(1) |        0.2500-0.2500j |\n",
      "+---------+---------+---------+-----------------------+\n",
      "| q1m1(1) | q0m1(0) | q2m1(0) |        0.0000-0.3536j |\n",
      "+---------+---------+---------+-----------------------+\n",
      "| q1m1(1) | q0m1(0) | q2m1(1) |        0.2500+0.2500j |\n",
      "+---------+---------+---------+-----------------------+\n",
      "| q1m1(1) | q0m1(1) | q2m1(0) |        0.0000+0.3536j |\n",
      "+---------+---------+---------+-----------------------+\n",
      "| q1m1(1) | q0m1(1) | q2m1(1) |       -0.2500-0.2500j |\n",
      "+---------+---------+---------+-----------------------+\n"
     ]
    }
   ],
   "source": [
    "#QFT with 2 qubits\n",
    "\n",
    "N = 8\n",
    "A = 1/(np.sqrt(2))\n",
    "omega_N = cmath.exp(2*math.pi*1j/N)\n",
    "qft = BayesianNetwork([('q0m0','q0m1'), ('q0m0','q1m1'), ('q0m0','q2m1'), ('q1m0','q0m1'), ('q1m0','q1m1'), ('q1m0','q2m1'), ('q2m0','q0m1'), ('q2m0','q1m1'), ('q2m0','q2m1')])\n",
    "cpd_q0m0 = TabularCPD(variable = 'q0m0', variable_card = 2, values = [[1], [0]])\n",
    "cpd_q1m0 = TabularCPD(variable = 'q1m0', variable_card = 2, values = [[0], [1]])\n",
    "cpd_q2m0 = TabularCPD(variable = 'q2m0', variable_card = 2, values = [[0], [1]])\n",
    "cpd_q0m1 = TabularCPD(variable='q0m1', variable_card = 2, values = [[A,A,A,A,A,A,A,A], [A,A*(omega_N**4),A*(omega_N**8),A*(omega_N**12),A*(omega_N**16),A*(omega_N**20),A*(omega_N**24),A*(omega_N**28)]], evidence = ['q0m0','q1m0','q2m0'], evidence_card = [2,2,2])\n",
    "cpd_q1m1 = TabularCPD(variable='q1m1', variable_card = 2, values = [[A,A,A,A,A,A,A,A], [A,A*(omega_N**2),A*(omega_N**4),A*(omega_N**6),A*(omega_N**8),A*(omega_N**10),A*(omega_N**12),A*(omega_N**14)]], evidence = ['q0m0','q1m0','q2m0'], evidence_card = [2,2,2])\n",
    "cpd_q2m1 = TabularCPD(variable='q2m1', variable_card = 2, values = [[A,A,A,A,A,A,A,A], [A,A*(omega_N**1),A*(omega_N**2),A*(omega_N**3),A*(omega_N**4),A*(omega_N**5),A*(omega_N**6),A*(omega_N**7)]], evidence = ['q0m0','q1m0','q2m0'], evidence_card = [2,2,2])\n",
    "\n",
    "\"\"\"\n",
    "Let w = e^(i*pi/3)\n",
    "U_QFT =\n",
    "1/(2*sqrt(2))*\n",
    "[1 1   1    1    1    1    1    1   ] \n",
    "[1 w   w^2  w^3  w^4  w^5  w^6  w^7 ]\n",
    "[1 w^2 w^4  w^6  w^8  w^10 w^12 w^14]\n",
    "[1 w^3 w^6  w^9  w^12 w^15 w^18 w^21]\n",
    "[1 w^4 w^8  w^12 w^16 w^20 w^24 w^28]\n",
    "[1 w^5 w^10 w^15 w^20 w^25 w^30 w^35]\n",
    "[1 w^6 w^12 w^18 w^24 w^30 w^36 w^42]\n",
    "[1 w^7 w^14 w^21 w^28 w^35 w^42 w^49]\n",
    "\"\"\"\n",
    "\n",
    "qft.add_cpds(cpd_q0m0,cpd_q0m1,cpd_q1m0,cpd_q1m1,cpd_q2m0,cpd_q2m1)\n",
    "qftInfer = VariableElimination(qft)\n",
    "print(qftInfer.query(['q0m1','q1m1','q2m1']))"
   ]
  },
  {
   "cell_type": "code",
   "execution_count": 11,
   "id": "088ac5c0",
   "metadata": {},
   "outputs": [
    {
     "name": "stdout",
     "output_type": "stream",
     "text": [
      "0.35355339059327373\n"
     ]
    }
   ],
   "source": [
    "print(1/(2*np.sqrt(2)))"
   ]
  },
  {
   "cell_type": "code",
   "execution_count": null,
   "id": "e80a7688",
   "metadata": {},
   "outputs": [],
   "source": []
  }
 ],
 "metadata": {
  "kernelspec": {
   "display_name": "Python 3",
   "language": "python",
   "name": "python3"
  },
  "language_info": {
   "codemirror_mode": {
    "name": "ipython",
    "version": 3
   },
   "file_extension": ".py",
   "mimetype": "text/x-python",
   "name": "python",
   "nbconvert_exporter": "python",
   "pygments_lexer": "ipython3",
   "version": "3.8.8"
  }
 },
 "nbformat": 4,
 "nbformat_minor": 5
}
