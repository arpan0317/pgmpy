{
 "cells": [
  {
   "cell_type": "code",
   "execution_count": 1,
   "id": "a6352c27",
   "metadata": {},
   "outputs": [
    {
     "data": {
      "application/vnd.jupyter.widget-view+json": {
       "model_id": "e98eb1e018cb48cc84104c00059276c8",
       "version_major": 2,
       "version_minor": 0
      },
      "text/plain": [
       "0it [00:00, ?it/s]"
      ]
     },
     "metadata": {},
     "output_type": "display_data"
    },
    {
     "data": {
      "application/vnd.jupyter.widget-view+json": {
       "model_id": "76877aed04fd4107b3e8bca05305e707",
       "version_major": 2,
       "version_minor": 0
      },
      "text/plain": [
       "0it [00:00, ?it/s]"
      ]
     },
     "metadata": {},
     "output_type": "display_data"
    },
    {
     "name": "stdout",
     "output_type": "stream",
     "text": [
      "+---------+---------+------------------+\n",
      "| q1m1    | q0m1    |   phi(q1m1,q0m1) |\n",
      "+=========+=========+==================+\n",
      "| q1m1(0) | q0m1(0) |   0.7071+0.0000j |\n",
      "+---------+---------+------------------+\n",
      "| q1m1(0) | q0m1(1) |   0.7071+0.0000j |\n",
      "+---------+---------+------------------+\n",
      "| q1m1(1) | q0m1(0) |   0.0000+0.0000j |\n",
      "+---------+---------+------------------+\n",
      "| q1m1(1) | q0m1(1) |   0.0000+0.0000j |\n",
      "+---------+---------+------------------+\n"
     ]
    },
    {
     "name": "stderr",
     "output_type": "stream",
     "text": [
      "C:\\Users\\masch\\Quantum Computing\\pgmpy\\pgmpy\\pgmpy\\pgmpy\\extern\\tabulate.py:282: ComplexWarning: Casting complex values to real discards the imaginary part\n",
      "  n = conv(string)\n",
      "C:\\Users\\masch\\Quantum Computing\\pgmpy\\pgmpy\\pgmpy\\pgmpy\\factors\\discrete\\DiscreteFactor.py:827: RuntimeWarning: invalid value encountered in true_divide\n",
      "  phi.values = phi.values / phi1.values\n"
     ]
    },
    {
     "data": {
      "application/vnd.jupyter.widget-view+json": {
       "model_id": "86b9b992c587460898acbcbea862c28e",
       "version_major": 2,
       "version_minor": 0
      },
      "text/plain": [
       "  0%|          | 0/2 [00:00<?, ?it/s]"
      ]
     },
     "metadata": {},
     "output_type": "display_data"
    },
    {
     "name": "stdout",
     "output_type": "stream",
     "text": [
      "[[0.70710678+0.j 0.        +0.j]\n",
      " [0.70710678+0.j 0.        +0.j]]\n",
      "+---------+---------+------------------+\n",
      "| q0m1    | q1m1    |   phi(q0m1,q1m1) |\n",
      "+=========+=========+==================+\n",
      "| q0m1(0) | q1m1(0) |   0.7071+0.0000j |\n",
      "+---------+---------+------------------+\n",
      "| q0m1(0) | q1m1(1) |   0.0000+0.0000j |\n",
      "+---------+---------+------------------+\n",
      "| q0m1(1) | q1m1(0) |   0.7071+0.0000j |\n",
      "+---------+---------+------------------+\n",
      "| q0m1(1) | q1m1(1) |   0.0000+0.0000j |\n",
      "+---------+---------+------------------+\n"
     ]
    }
   ],
   "source": [
    "#bell states --> variable elimination\n",
    "\n",
    "\n",
    "from pgmpy.models import BayesianNetwork\n",
    "from pgmpy.factors.discrete.CPD import TabularCPD\n",
    "import numpy as np\n",
    "from pgmpy.inference import VariableElimination\n",
    "from pgmpy.inference import BeliefPropagation\n",
    "\n",
    "\n",
    "bellState = BayesianNetwork([('q0m0', 'q0m1'), ('q0m1', 'q0m2'), ('q1m0', 'q1m1'), ('q1m1', 'q1m2'), ('q0m1', 'q1m2')])\n",
    "\n",
    "cpd_q0m0 = TabularCPD(variable = 'q0m0', variable_card = 2, values = [[1], [0]])\n",
    "cpd_q1m0 = TabularCPD(variable = 'q1m0', variable_card = 2, values = [[1], [0]])\n",
    "cpd_q0m1 = TabularCPD(variable='q0m1', variable_card = 2, values = [[1/np.sqrt(2), 1/np.sqrt(2)], [1/np.sqrt(2), -1/np.sqrt(2)]], evidence = ['q0m0'], evidence_card = [2])\n",
    "cpd_q1m1 = TabularCPD(variable = 'q1m1', variable_card = 2, values = [[1, 0], [0,1]], evidence = ['q1m0'], evidence_card = [2])\n",
    "cpd_q1m2 = TabularCPD(variable='q1m2', variable_card = 2, values = [[1,0,0,1], [0,1,1,0]], evidence = ['q0m1', 'q1m1'], evidence_card = [2,2])\n",
    "cpd_q0m2 = TabularCPD(variable='q0m2', variable_card = 2, values = [[1, 0], [0, 1]], evidence = ['q0m1'], evidence_card = [2])\n",
    "\n",
    "bellState.add_cpds(cpd_q0m0, cpd_q1m0, cpd_q0m1, cpd_q0m2, cpd_q1m2, cpd_q1m1)\n",
    "bellStateInfer = VariableElimination(bellState)\n",
    "\n",
    "q = bellStateInfer.query(['q1m1', 'q0m1'], evidence = {'q0m0': 0, 'q1m0': 0})\n",
    "print(q)\n",
    "\n",
    "bellStateInfer = BeliefPropagation(bellState)\n",
    "q = bellStateInfer.query(['q1m1', 'q0m1'], evidence = {'q0m0': 0, 'q1m0': 0})\n",
    "print(q)"
   ]
  },
  {
   "cell_type": "code",
   "execution_count": 25,
   "id": "23a52afe",
   "metadata": {},
   "outputs": [
    {
     "data": {
      "application/vnd.jupyter.widget-view+json": {
       "model_id": "885143e283bd47aabb768cf4ca218a93",
       "version_major": 2,
       "version_minor": 0
      },
      "text/plain": [
       "  0%|          | 0/3 [00:00<?, ?it/s]"
      ]
     },
     "metadata": {},
     "output_type": "display_data"
    },
    {
     "data": {
      "application/vnd.jupyter.widget-view+json": {
       "model_id": "c76a23cb34274682a4d6a10079c9ce07",
       "version_major": 2,
       "version_minor": 0
      },
      "text/plain": [
       "  0%|          | 0/3 [00:00<?, ?it/s]"
      ]
     },
     "metadata": {},
     "output_type": "display_data"
    },
    {
     "name": "stdout",
     "output_type": "stream",
     "text": [
      "+---------+---------+------------------+\n",
      "| q1m2    | q0m3    |   phi(q1m2,q0m3) |\n",
      "+=========+=========+==================+\n",
      "| q1m2(0) | q0m3(0) |           0.0000 |\n",
      "+---------+---------+------------------+\n",
      "| q1m2(0) | q0m3(1) |          -0.7071 |\n",
      "+---------+---------+------------------+\n",
      "| q1m2(1) | q0m3(0) |           0.0000 |\n",
      "+---------+---------+------------------+\n",
      "| q1m2(1) | q0m3(1) |           0.7071 |\n",
      "+---------+---------+------------------+\n"
     ]
    }
   ],
   "source": [
    "#deutsch jozsa --> variable elimination\n",
    "\n",
    "from pgmpy.models import BayesianNetwork\n",
    "from pgmpy.factors.discrete.CPD import TabularCPD\n",
    "import numpy as np\n",
    "from pgmpy.inference import VariableElimination\n",
    "\n",
    "dj = BayesianNetwork([('q0m0', 'q0m1'), ('q1m0', 'q1m1'), ('q0m1', 'q1m2'), ('q0m1', 'q0m2'), ('q0m2', 'q0m3'), ('q1m1', 'q1m2')])\n",
    "\n",
    "cpd_q0m0 = TabularCPD(variable = 'q0m0', variable_card = 2, values = [[1], [0]])\n",
    "cpd_q1m0 = TabularCPD(variable = 'q1m0', variable_card = 2, values = [[0], [1]])\n",
    "cpd_q0m1 = TabularCPD(variable='q0m1', variable_card = 2, values = [[1/np.sqrt(2), 1/np.sqrt(2)], [1/np.sqrt(2), 1/-np.sqrt(2)]], evidence = ['q0m0'], evidence_card = [2])\n",
    "cpd_q1m1 = TabularCPD(variable='q1m1', variable_card = 2, values = [[1/np.sqrt(2), 1/np.sqrt(2)], [1/np.sqrt(2), 1/-np.sqrt(2)]], evidence = ['q1m0'], evidence_card = [2])\n",
    "cpd_q0m2 = TabularCPD(variable='q0m2', variable_card = 2, values = [[1, 0], [0, 1]], evidence = ['q0m1'], evidence_card = [2])\n",
    "cpd_q1m2 = TabularCPD(variable='q1m2', variable_card = 2, values = [[0,1,1,0], [1,0,0,1]], evidence = ['q0m1', 'q1m1'], evidence_card = [2,2])\n",
    "cpd_q0m3 = TabularCPD(variable = 'q0m3', variable_card = 2, values = [[1/np.sqrt(2), 1/np.sqrt(2)], [1/np.sqrt(2), 1/-np.sqrt(2)]], evidence = ['q0m2'], evidence_card = [2])\n",
    "\n",
    "\n",
    "dj.add_cpds(cpd_q0m0, cpd_q1m0, cpd_q0m1, cpd_q0m2, cpd_q1m2, cpd_q1m1, cpd_q0m3)\n",
    "\n",
    "djInfer = VariableElimination(dj)\n",
    "\n",
    "q = djInfer.query(['q0m3','q1m2'], evidence = {'q0m0': 0, 'q1m0': 1})\n",
    "print(q)"
   ]
  },
  {
   "cell_type": "code",
   "execution_count": 20,
   "id": "77d29308",
   "metadata": {},
   "outputs": [
    {
     "data": {
      "application/vnd.jupyter.widget-view+json": {
       "model_id": "7442ed113d8a45b0913b287054cf1eb3",
       "version_major": 2,
       "version_minor": 0
      },
      "text/plain": [
       "  0%|          | 0/3 [00:00<?, ?it/s]"
      ]
     },
     "metadata": {},
     "output_type": "display_data"
    },
    {
     "data": {
      "application/vnd.jupyter.widget-view+json": {
       "model_id": "33b5d4b69eb74e06b5d51e82858caed5",
       "version_major": 2,
       "version_minor": 0
      },
      "text/plain": [
       "  0%|          | 0/3 [00:00<?, ?it/s]"
      ]
     },
     "metadata": {},
     "output_type": "display_data"
    },
    {
     "name": "stdout",
     "output_type": "stream",
     "text": [
      "+---------+---------+------------------+\n",
      "| q0m3    | q1m2    |   phi(q0m3,q1m2) |\n",
      "+=========+=========+==================+\n",
      "| q0m3(0) | q1m2(0) |          -0.7071 |\n",
      "+---------+---------+------------------+\n",
      "| q0m3(0) | q1m2(1) |           0.7071 |\n",
      "+---------+---------+------------------+\n",
      "| q0m3(1) | q1m2(0) |           0.0000 |\n",
      "+---------+---------+------------------+\n",
      "| q0m3(1) | q1m2(1) |           0.0000 |\n",
      "+---------+---------+------------------+\n"
     ]
    }
   ],
   "source": [
    "#deutsch jozsa --> variable elimination\n",
    "\n",
    "from pgmpy.models import BayesianNetwork\n",
    "from pgmpy.factors.discrete.CPD import TabularCPD\n",
    "import numpy as np\n",
    "from pgmpy.inference import VariableElimination\n",
    "\n",
    "dj = BayesianNetwork([('q0m0', 'q0m1'), ('q1m0', 'q1m1'), ('q0m1', 'q1m2'), ('q0m1', 'q0m2'), ('q0m2', 'q0m3'), ('q1m1', 'q1m2')])\n",
    "\n",
    "cpd_q0m0 = TabularCPD(variable = 'q0m0', variable_card = 2, values = [[1], [0]])\n",
    "cpd_q1m0 = TabularCPD(variable = 'q1m0', variable_card = 2, values = [[0], [1]])\n",
    "cpd_q0m1 = TabularCPD(variable='q0m1', variable_card = 2, values = [[1/np.sqrt(2), 1/np.sqrt(2)], [1/np.sqrt(2), 1/-np.sqrt(2)]], evidence = ['q0m0'], evidence_card = [2])\n",
    "cpd_q1m1 = TabularCPD(variable='q1m1', variable_card = 2, values = [[1/np.sqrt(2), 1/np.sqrt(2)], [1/np.sqrt(2), 1/-np.sqrt(2)]], evidence = ['q1m0'], evidence_card = [2])\n",
    "cpd_q0m2 = TabularCPD(variable='q0m2', variable_card = 2, values = [[1, 0], [0, 1]], evidence = ['q0m1'], evidence_card = [2])\n",
    "cpd_q1m2 = TabularCPD(variable='q1m2', variable_card = 2, values = [[0,1,0,1], [1,0,1,0]], evidence = ['q0m1', 'q1m1'], evidence_card = [2,2])\n",
    "cpd_q0m3 = TabularCPD(variable = 'q0m3', variable_card = 2, values = [[1/np.sqrt(2), 1/np.sqrt(2)], [1/np.sqrt(2), 1/-np.sqrt(2)]], evidence = ['q0m2'], evidence_card = [2])\n",
    "\n",
    "\n",
    "dj.add_cpds(cpd_q0m0, cpd_q1m0, cpd_q0m1, cpd_q0m2, cpd_q1m2, cpd_q1m1, cpd_q0m3)\n",
    "\n",
    "djInfer = VariableElimination(dj)\n",
    "\n",
    "q = djInfer.query(['q0m3', 'q1m2'], evidence = {'q0m0': 0, 'q1m0': 1})\n",
    "print(q)"
   ]
  }
 ],
 "metadata": {
  "kernelspec": {
   "display_name": "Python 3",
   "language": "python",
   "name": "python3"
  },
  "language_info": {
   "codemirror_mode": {
    "name": "ipython",
    "version": 3
   },
   "file_extension": ".py",
   "mimetype": "text/x-python",
   "name": "python",
   "nbconvert_exporter": "python",
   "pygments_lexer": "ipython3",
   "version": "3.8.8"
  }
 },
 "nbformat": 4,
 "nbformat_minor": 5
}
