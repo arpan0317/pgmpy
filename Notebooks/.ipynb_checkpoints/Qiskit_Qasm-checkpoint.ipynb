{
 "cells": [
  {
   "cell_type": "code",
   "execution_count": 1,
   "id": "30dad9d7",
   "metadata": {},
   "outputs": [
    {
     "data": {
      "text/html": [
       "<pre style=\"word-wrap: normal;white-space: pre;background: #fff0;line-height: 1.1;font-family: &quot;Courier New&quot;,Courier,monospace\">     ┌───┐ ░ ┌───┐      ░ \n",
       "q_0: ┤ X ├─░─┤ H ├──■───░─\n",
       "     └───┘ ░ └───┘┌─┴─┐ ░ \n",
       "q_1: ──────░──────┤ X ├─░─\n",
       "           ░      └───┘ ░ </pre>"
      ],
      "text/plain": [
       "     ┌───┐ ░ ┌───┐      ░ \n",
       "q_0: ┤ X ├─░─┤ H ├──■───░─\n",
       "     └───┘ ░ └───┘┌─┴─┐ ░ \n",
       "q_1: ──────░──────┤ X ├─░─\n",
       "           ░      └───┘ ░ "
      ]
     },
     "execution_count": 1,
     "metadata": {},
     "output_type": "execute_result"
    }
   ],
   "source": [
    "import numpy as np\n",
    "import math\n",
    "import cmath\n",
    "from qiskit import IBMQ, Aer\n",
    "from qiskit.providers.ibmq import least_busy\n",
    "from qiskit import QuantumCircuit, assemble, transpile\n",
    "from qiskit.visualization import plot_histogram\n",
    "import qiskit.quantum_info as qi\n",
    "from qiskit.dagcircuit import DAGCircuit\n",
    "from qiskit.converters import circuit_to_dag\n",
    "\n",
    "inputString = \"10\"\n",
    "\n",
    "circ = QuantumCircuit(2)\n",
    "if(inputString == \"01\"):\n",
    "    circ.x(1)\n",
    "elif(inputString == \"10\"):\n",
    "    circ.x(0)\n",
    "elif(inputString == \"11\"):\n",
    "    circ.x(0)\n",
    "    circ.x(1)\n",
    "\n",
    "circ.barrier()\n",
    "circ.h(0)\n",
    "circ.cx(0,1)\n",
    "circ.barrier()\n",
    "circ.draw()"
   ]
  },
  {
   "cell_type": "code",
   "execution_count": 2,
   "id": "abb42cde",
   "metadata": {},
   "outputs": [
    {
     "data": {
      "text/plain": [
       "'OPENQASM 2.0;\\ninclude \"qelib1.inc\";\\nqreg q[2];\\nx q[0];\\nbarrier q[0],q[1];\\nh q[0];\\ncx q[0],q[1];\\nbarrier q[0],q[1];\\n'"
      ]
     },
     "execution_count": 2,
     "metadata": {},
     "output_type": "execute_result"
    }
   ],
   "source": [
    "circ.qasm(filename='bellState.qasm')"
   ]
  },
  {
   "cell_type": "code",
   "execution_count": 3,
   "id": "e2642b85",
   "metadata": {},
   "outputs": [],
   "source": [
    "def qft_rotations(circuit, n):\n",
    "    \"\"\"Performs qft on the first n qubits in circuit (without swaps)\"\"\"\n",
    "    if n == 0:\n",
    "        return circuit\n",
    "    n -= 1\n",
    "    circuit.h(n)\n",
    "    for qubit in range(n):\n",
    "        circuit.cp(math.pi/2**(n-qubit), qubit, n)\n",
    "    # At the end of our function, we call the same function again on\n",
    "    # the next qubits (we reduced n by one earlier in the function)\n",
    "    qft_rotations(circuit, n)\n",
    "    \n",
    "def swap_registers(circuit, n):\n",
    "    for qubit in range(n//2):\n",
    "        circuit.swap(qubit, n-qubit-1)\n",
    "    return circuit\n",
    "\n",
    "def qftCircuit(circuit, n):\n",
    "    \"\"\"QFT on the first n qubits in circuit\"\"\"\n",
    "    qft_rotations(circuit, n)\n",
    "    swap_registers(circuit, n)\n",
    "    return circuit"
   ]
  },
  {
   "cell_type": "code",
   "execution_count": 4,
   "id": "3adf530a",
   "metadata": {},
   "outputs": [
    {
     "data": {
      "text/html": [
       "<pre style=\"word-wrap: normal;white-space: pre;background: #fff0;line-height: 1.1;font-family: &quot;Courier New&quot;,Courier,monospace\">                                                                               »\n",
       "q_0: ──────■─────────────────────────────────────────■─────────────────────────»\n",
       "           │                                         │                         »\n",
       "q_1: ──────┼─────────■───────────────────────────────┼────────■────────────────»\n",
       "           │         │                               │        │                »\n",
       "q_2: ──────┼─────────┼────────■──────────────────────┼────────┼────────■───────»\n",
       "           │         │        │                ┌───┐ │P(π/8)  │P(π/4)  │P(π/2) »\n",
       "q_3: ──────┼─────────┼────────┼────────■───────┤ H ├─■────────■────────■───────»\n",
       "     ┌───┐ │P(π/16)  │P(π/8)  │P(π/4)  │P(π/2) └───┘                           »\n",
       "q_4: ┤ H ├─■─────────■────────■────────■───────────────────────────────────────»\n",
       "     └───┘                                                                     »\n",
       "c: 5/══════════════════════════════════════════════════════════════════════════»\n",
       "                                                                               »\n",
       "«                                          ┌───┐   \n",
       "«q_0: ──────■──────────────────────■───────┤ H ├─X─\n",
       "«           │                ┌───┐ │P(π/2) └───┘ │ \n",
       "«q_1: ──────┼────────■───────┤ H ├─■─────────X───┼─\n",
       "«     ┌───┐ │P(π/4)  │P(π/2) └───┘           │   │ \n",
       "«q_2: ┤ H ├─■────────■───────────────────────┼───┼─\n",
       "«     └───┘                                  │   │ \n",
       "«q_3: ───────────────────────────────────────X───┼─\n",
       "«                                                │ \n",
       "«q_4: ───────────────────────────────────────────X─\n",
       "«                                                  \n",
       "«c: 5/═════════════════════════════════════════════\n",
       "«                                                  </pre>"
      ],
      "text/plain": [
       "                                                                               »\n",
       "q_0: ──────■─────────────────────────────────────────■─────────────────────────»\n",
       "           │                                         │                         »\n",
       "q_1: ──────┼─────────■───────────────────────────────┼────────■────────────────»\n",
       "           │         │                               │        │                »\n",
       "q_2: ──────┼─────────┼────────■──────────────────────┼────────┼────────■───────»\n",
       "           │         │        │                ┌───┐ │P(π/8)  │P(π/4)  │P(π/2) »\n",
       "q_3: ──────┼─────────┼────────┼────────■───────┤ H ├─■────────■────────■───────»\n",
       "     ┌───┐ │P(π/16)  │P(π/8)  │P(π/4)  │P(π/2) └───┘                           »\n",
       "q_4: ┤ H ├─■─────────■────────■────────■───────────────────────────────────────»\n",
       "     └───┘                                                                     »\n",
       "c: 5/══════════════════════════════════════════════════════════════════════════»\n",
       "                                                                               »\n",
       "«                                          ┌───┐   \n",
       "«q_0: ──────■──────────────────────■───────┤ H ├─X─\n",
       "«           │                ┌───┐ │P(π/2) └───┘ │ \n",
       "«q_1: ──────┼────────■───────┤ H ├─■─────────X───┼─\n",
       "«     ┌───┐ │P(π/4)  │P(π/2) └───┘           │   │ \n",
       "«q_2: ┤ H ├─■────────■───────────────────────┼───┼─\n",
       "«     └───┘                                  │   │ \n",
       "«q_3: ───────────────────────────────────────X───┼─\n",
       "«                                                │ \n",
       "«q_4: ───────────────────────────────────────────X─\n",
       "«                                                  \n",
       "«c: 5/═════════════════════════════════════════════\n",
       "«                                                  "
      ]
     },
     "execution_count": 4,
     "metadata": {},
     "output_type": "execute_result"
    }
   ],
   "source": [
    "n = 5\n",
    "\n",
    "qc3 = QuantumCircuit(n,n)\n",
    "qftCircuit(qc3,n)\n",
    "qc3.draw()"
   ]
  },
  {
   "cell_type": "code",
   "execution_count": 5,
   "id": "88e58ab9",
   "metadata": {},
   "outputs": [
    {
     "data": {
      "text/plain": [
       "'OPENQASM 2.0;\\ninclude \"qelib1.inc\";\\nqreg q[5];\\ncreg c[5];\\nh q[4];\\ncp(pi/16) q[0],q[4];\\ncp(pi/8) q[1],q[4];\\ncp(pi/4) q[2],q[4];\\ncp(pi/2) q[3],q[4];\\nh q[3];\\ncp(pi/8) q[0],q[3];\\ncp(pi/4) q[1],q[3];\\ncp(pi/2) q[2],q[3];\\nh q[2];\\ncp(pi/4) q[0],q[2];\\ncp(pi/2) q[1],q[2];\\nh q[1];\\ncp(pi/2) q[0],q[1];\\nh q[0];\\nswap q[0],q[4];\\nswap q[1],q[3];\\n'"
      ]
     },
     "execution_count": 5,
     "metadata": {},
     "output_type": "execute_result"
    }
   ],
   "source": [
    "qc3.qasm(filename='qft3.qasm')"
   ]
  },
  {
   "cell_type": "code",
   "execution_count": 31,
   "id": "120b6852",
   "metadata": {},
   "outputs": [],
   "source": [
    "def gateToCAT(gate):\n",
    "    validGates = {'h', 'x', 'cx', 'id', 'y', 'z', 'swap'}\n",
    "    if(gate in validGates):\n",
    "        if(gate == 'h'):\n",
    "            arr = np.array([1/np.sqrt(2),1/np.sqrt(2),1/np.sqrt(2),-1/np.sqrt(2)],dtype=complex)\n",
    "            return [arr]\n",
    "        elif(gate == 'x'):\n",
    "            arr = np.array([0,1,1,0],dtype=complex)\n",
    "            return [arr]\n",
    "        elif(gate == 'cx'):\n",
    "            arr = np.array([1,0,0,1],dtype=complex)\n",
    "            arr2 = np.array([1,0,0,1,0,1,1,0],dtype=complex)\n",
    "            return [arr, arr2]\n",
    "        elif(gate == 'id'):\n",
    "            arr = np.array([1,0,0,1],dtype=complex)\n",
    "            return [arr]\n",
    "        elif(gate == 'y'):\n",
    "            arr = np.array([0,1j,-1j,0],dtype=complex)\n",
    "            return [arr]\n",
    "        elif(gate == 'z'):\n",
    "            arr = np.array([1,0,0,-1],dtype=complex)\n",
    "            return [arr]\n",
    "        elif(gate == 'swap'):\n",
    "            arr = np.array([1,0,1,0,0,1,0,1],dtype=complex)\n",
    "            arr2 = np.array([1,0,1,0,0,1,0,1],dtype=complex)\n",
    "            return [arr, arr2]\n",
    "    elif(len(gate) > 4 and gate[0:3] == 'cp(' and gate[-1:] == ')'):\n",
    "        if(len(gate) > 7 and gate[3:6] == 'pi/' and gate[6:-1].isnumeric()):\n",
    "            theta = math.pi/int(gate[6:-1])\n",
    "            omega = cmath.exp(1j*theta)\n",
    "            arr = np.array([1,1,0,0,0,0,1,omega],dtype=complex)\n",
    "            arr2 = np.array([1,0,1,0,0,1,0,omega],dtype=complex)\n",
    "            return [arr, arr2]\n",
    "    else:\n",
    "        print(\"Invalid Gate\")"
   ]
  },
  {
   "cell_type": "code",
   "execution_count": 33,
   "id": "45a2129c",
   "metadata": {},
   "outputs": [
    {
     "data": {
      "text/plain": [
       "array([1.        +0.j        , 1.        +0.j        ,\n",
       "       0.        +0.j        , 0.        +0.j        ,\n",
       "       0.        +0.j        , 0.        +0.j        ,\n",
       "       1.        +0.j        , 0.98078528+0.19509032j])"
      ]
     },
     "execution_count": 33,
     "metadata": {},
     "output_type": "execute_result"
    }
   ],
   "source": [
    "gateToCAT('cp(pi/16)')[0]"
   ]
  }
 ],
 "metadata": {
  "kernelspec": {
   "display_name": "Python 3",
   "language": "python",
   "name": "python3"
  },
  "language_info": {
   "codemirror_mode": {
    "name": "ipython",
    "version": 3
   },
   "file_extension": ".py",
   "mimetype": "text/x-python",
   "name": "python",
   "nbconvert_exporter": "python",
   "pygments_lexer": "ipython3",
   "version": "3.8.8"
  }
 },
 "nbformat": 4,
 "nbformat_minor": 5
}
