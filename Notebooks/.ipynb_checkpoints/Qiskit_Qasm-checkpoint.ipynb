{
 "cells": [
  {
   "cell_type": "code",
   "execution_count": null,
   "id": "ed976f12",
   "metadata": {},
   "outputs": [],
   "source": [
    "import numpy as np\n",
    "from qiskit import IBMQ, Aer\n",
    "from qiskit.providers.ibmq import least_busy\n",
    "from qiskit import QuantumCircuit, assemble, transpile\n",
    "from qiskit.visualization import plot_histogram\n",
    "import qiskit.quantum_info as qi\n",
    "\n",
    "inputString = \"10\"\n",
    "\n",
    "circ = QuantumCircuit(2,2)\n",
    "if(inputString == \"01\"):\n",
    "    circ.x(1)\n",
    "elif(inputString == \"10\"):\n",
    "    circ.x(0)\n",
    "elif(inputString == \"11\"):\n",
    "    circ.x(0)\n",
    "    circ.x(1)\n",
    "\n",
    "circ.barrier()\n",
    "circ.h(0)\n",
    "circ.cx(0,1)\n",
    "circ.barrier()\n",
    "circ.draw()"
   ]
  }
 ],
 "metadata": {
  "kernelspec": {
   "display_name": "Python 3",
   "language": "python",
   "name": "python3"
  },
  "language_info": {
   "codemirror_mode": {
    "name": "ipython",
    "version": 3
   },
   "file_extension": ".py",
   "mimetype": "text/x-python",
   "name": "python",
   "nbconvert_exporter": "python",
   "pygments_lexer": "ipython3",
   "version": "3.8.8"
  }
 },
 "nbformat": 4,
 "nbformat_minor": 5
}
