{
 "cells": [
  {
   "cell_type": "code",
   "execution_count": 5,
   "id": "7f0dccbf",
   "metadata": {},
   "outputs": [
    {
     "data": {
      "application/vnd.jupyter.widget-view+json": {
       "model_id": "c82185ac037c4100829780298217bc13",
       "version_major": 2,
       "version_minor": 0
      },
      "text/plain": [
       "  0%|          | 0/4 [00:00<?, ?it/s]"
      ]
     },
     "metadata": {},
     "output_type": "display_data"
    },
    {
     "data": {
      "application/vnd.jupyter.widget-view+json": {
       "model_id": "b16aef958a8a47d88393503dbf74bad3",
       "version_major": 2,
       "version_minor": 0
      },
      "text/plain": [
       "  0%|          | 0/4 [00:00<?, ?it/s]"
      ]
     },
     "metadata": {},
     "output_type": "display_data"
    },
    {
     "name": "stdout",
     "output_type": "stream",
     "text": [
      "+---------+---------+------------------+\n",
      "| q1m2    | q0m2    |   phi(q1m2,q0m2) |\n",
      "+=========+=========+==================+\n",
      "| q1m2(0) | q0m2(0) |   1.0000+0.0000j |\n",
      "+---------+---------+------------------+\n",
      "| q1m2(0) | q0m2(1) |   0.0000+0.0000j |\n",
      "+---------+---------+------------------+\n",
      "| q1m2(1) | q0m2(0) |   0.0000+0.0000j |\n",
      "+---------+---------+------------------+\n",
      "| q1m2(1) | q0m2(1) |   0.0000+0.0000j |\n",
      "+---------+---------+------------------+\n"
     ]
    }
   ],
   "source": [
    "# Comment out these lines\n",
    "import sys\n",
    "sys.path.insert(0, 'C:\\\\Users\\\\masch\\\\QuantumComputing\\\\QComp\\\\pgmpy')\n",
    "\n",
    "# Imports\n",
    "import cmath\n",
    "import math\n",
    "import numpy as np\n",
    "from pgmpy.models import BayesianNetwork\n",
    "from pgmpy.factors.discrete.CPD import TabularCPD\n",
    "from pgmpy.inference import VariableElimination\n",
    "from pgmpy.inference import BeliefPropagation\n",
    "\n",
    "theta = (math.pi)/4\n",
    "\n",
    "amp_damping = BayesianNetwork([('q0m0','q0m1'),('q1m0','q1m1'),('q0m1','q0m2'), ('q1m1', 'q1m2'), ('q0m0', 'q1m1'), ('q1m1', 'q0m2')])\n",
    "cpd_q0m0 = TabularCPD(variable='q0m0',variable_card=2,values=[[1],[0]])\n",
    "cpd_q1m0 = TabularCPD(variable='q1m0',variable_card=2,values=[[1],[0]])\n",
    "cpd_q1m1 = TabularCPD(variable='q1m1',variable_card=2,values=[[1,0,math.cos(theta/2),-1*math.sin(theta/2)],[0,1,math.sin(theta/2),math.cos(theta/2)]],evidence=['q1m0','q0m0'],evidence_card=[2,2])\n",
    "cpd_q0m1 = TabularCPD(variable='q0m1',variable_card=2,values=[[1,0],[0,1]],evidence=['q0m0'],evidence_card=[2])\n",
    "cpd_q0m2 = TabularCPD(variable='q0m2',variable_card=2,values=[[1,0,0,1],[0,1,1,0]],evidence=['q0m1','q1m1'],evidence_card=[2,2])\n",
    "cpd_q1m2 = TabularCPD(variable='q1m2',variable_card=2,values=[[1,0],[0,1]],evidence=['q1m1'],evidence_card=[2])\n",
    "\n",
    "amp_damping.add_cpds(cpd_q0m0,cpd_q1m0,cpd_q1m2,cpd_q0m2,cpd_q0m1,cpd_q1m1)\n",
    "amp_damping_infer = VariableElimination(amp_damping)\n",
    "amp_damping_query = amp_damping_infer.query(['q0m2','q1m2'])\n",
    "print(amp_damping_query)"
   ]
  },
  {
   "cell_type": "code",
   "execution_count": null,
   "id": "261e65c1",
   "metadata": {},
   "outputs": [],
   "source": []
  }
 ],
 "metadata": {
  "kernelspec": {
   "display_name": "Python 3",
   "language": "python",
   "name": "python3"
  },
  "language_info": {
   "codemirror_mode": {
    "name": "ipython",
    "version": 3
   },
   "file_extension": ".py",
   "mimetype": "text/x-python",
   "name": "python",
   "nbconvert_exporter": "python",
   "pygments_lexer": "ipython3",
   "version": "3.8.8"
  }
 },
 "nbformat": 4,
 "nbformat_minor": 5
}
