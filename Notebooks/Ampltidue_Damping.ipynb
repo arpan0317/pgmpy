{
 "cells": [
  {
   "cell_type": "code",
   "execution_count": 28,
   "id": "e123da39",
   "metadata": {},
   "outputs": [
    {
     "data": {
      "application/vnd.jupyter.widget-view+json": {
       "model_id": "079f4c9755a84de0a669e977077a4d83",
       "version_major": 2,
       "version_minor": 0
      },
      "text/plain": [
       "  0%|          | 0/3 [00:00<?, ?it/s]"
      ]
     },
     "metadata": {},
     "output_type": "display_data"
    },
    {
     "data": {
      "application/vnd.jupyter.widget-view+json": {
       "model_id": "5644d8a534564e209366351888cd0a26",
       "version_major": 2,
       "version_minor": 0
      },
      "text/plain": [
       "  0%|          | 0/3 [00:00<?, ?it/s]"
      ]
     },
     "metadata": {},
     "output_type": "display_data"
    },
    {
     "name": "stdout",
     "output_type": "stream",
     "text": [
      "+---------+-------+----------------+\n",
      "| q0m2    | rv    |   phi(q0m2,rv) |\n",
      "+=========+=======+================+\n",
      "| q0m2(0) | rv(0) | 0.0000+0.0000j |\n",
      "+---------+-------+----------------+\n",
      "| q0m2(0) | rv(1) | 0.8367+0.0000j |\n",
      "+---------+-------+----------------+\n",
      "| q0m2(1) | rv(0) | 0.5477+0.0000j |\n",
      "+---------+-------+----------------+\n",
      "| q0m2(1) | rv(1) | 0.0000+0.0000j |\n",
      "+---------+-------+----------------+\n"
     ]
    }
   ],
   "source": [
    "# Comment out these lines\n",
    "import sys\n",
    "sys.path.insert(0, 'C:\\\\Users\\\\masch\\\\QuantumComputing\\\\QComp\\\\pgmpy')\n",
    "\n",
    "# Imports\n",
    "import cmath\n",
    "import math\n",
    "import numpy as np\n",
    "from pgmpy.models import BayesianNetwork\n",
    "from pgmpy.factors.discrete.CPD import TabularCPD\n",
    "from pgmpy.inference import VariableElimination\n",
    "from pgmpy.inference import BeliefPropagation\n",
    "\n",
    "gamma = 0.7\n",
    "theta = 2*math.asin(np.sqrt(gamma))\n",
    "\n",
    "amp_damping = BayesianNetwork([('q1m0','q1m1'),('q0m0','q0m2'), ('q1m1', 'rv'), ('q0m0', 'q1m1'), ('q1m1', 'q0m2')])\n",
    "cpd_q0m0 = TabularCPD(variable='q0m0',variable_card=2,values=[[0],[1]])\n",
    "cpd_q1m0 = TabularCPD(variable='q1m0',variable_card=2,values=[[1],[0]])\n",
    "cpd_q1m1 = TabularCPD(variable='q1m1',variable_card=2,values=[[1,0,math.cos(theta/2),-1*math.sin(theta/2)],[0,1,math.sin(theta/2),math.cos(theta/2)]],evidence=['q0m0','q1m0'],evidence_card=[2,2])\n",
    "cpd_q0m2 = TabularCPD(variable='q0m2',variable_card=2,values=[[1,0,0,1],[0,1,1,0]],evidence=['q0m0','q1m1'],evidence_card=[2,2])\n",
    "cpd_rv = TabularCPD(variable='rv',variable_card=2,values=[[1,0],[0,1]],evidence=['q1m1'],evidence_card=[2])\n",
    "\n",
    "amp_damping.add_cpds(cpd_q0m0,cpd_q1m0,cpd_q0m2,cpd_q1m1,cpd_rv)\n",
    "amp_damping_infer = VariableElimination(amp_damping)\n",
    "amp_damping_query = amp_damping_infer.query(['rv','q0m2'])\n",
    "print(amp_damping_query)"
   ]
  },
  {
   "cell_type": "code",
   "execution_count": 12,
   "id": "5936907b",
   "metadata": {},
   "outputs": [],
   "source": [
    "def cpd_2_dm(obj,rvs,var):\n",
    "    numQubits = len(var)\n",
    "    numRVs = len(rvs)\n",
    "    varOrder = obj.variables\n",
    "    numVars = len(varOrder)\n",
    "    qubitOrdering = []\n",
    "    rvsOrdering = []\n",
    "    \n",
    "    for i in range(numQubits):\n",
    "        v = var[i]\n",
    "        j = 0\n",
    "        while(j < numVars and v != varOrder[j]):\n",
    "            j += 1\n",
    "        qubitOrdering.append(2**(numVars - j - 1))\n",
    "        \n",
    "    for i in range(numRVs):\n",
    "        v = rvs[i]\n",
    "        j = 0\n",
    "        while(j < numVars and v != varOrder[j]):\n",
    "            j += 1\n",
    "        rvsOrdering.append(2**(numVars - j - 1))\n",
    "\n",
    "    vals = (obj.values).flatten()\n",
    "    dm = np.zeros((2**numQubits,2**numQubits),dtype=\"complex_\")\n",
    "    numEvents = 2**numRVs\n",
    "    numPermutations = 2**numQubits\n",
    "    \n",
    "    for i in range(numEvents):\n",
    "        val1 = 0\n",
    "        for j in range(numRVs):\n",
    "            val1 += ((i//(2**j))%2)*rvsOrdering[numRVs - j - 1]\n",
    "        arr1 = np.zeros((numPermutations,1),dtype=\"complex_\")\n",
    "        arr2 = np.zeros((1,numPermutations),dtype=\"complex_\")\n",
    "        for j in range(numPermutations):\n",
    "            val2 = val1\n",
    "            for k in range(numQubits):\n",
    "                val2 += ((j//(2**k))%2)*qubitOrdering[numQubits - k - 1]\n",
    "            arr1[j][0] = vals[val2]\n",
    "            arr2[0][j] = np.conj(vals[val2])\n",
    "        dm += np.matmul(arr1,arr2)\n",
    "        \n",
    "    return dm"
   ]
  },
  {
   "cell_type": "code",
   "execution_count": 29,
   "id": "e1c7492a",
   "metadata": {},
   "outputs": [
    {
     "name": "stdout",
     "output_type": "stream",
     "text": [
      "[[0.7+0.j 0. +0.j]\n",
      " [0. +0.j 0.3+0.j]]\n"
     ]
    }
   ],
   "source": [
    "X = cpd_2_dm(amp_damping_query,['rv'],['q0m2']).round(4)\n",
    "print(X)"
   ]
  },
  {
   "cell_type": "code",
   "execution_count": null,
   "id": "5621479f",
   "metadata": {},
   "outputs": [],
   "source": []
  }
 ],
 "metadata": {
  "kernelspec": {
   "display_name": "Python 3",
   "language": "python",
   "name": "python3"
  },
  "language_info": {
   "codemirror_mode": {
    "name": "ipython",
    "version": 3
   },
   "file_extension": ".py",
   "mimetype": "text/x-python",
   "name": "python",
   "nbconvert_exporter": "python",
   "pygments_lexer": "ipython3",
   "version": "3.8.8"
  }
 },
 "nbformat": 4,
 "nbformat_minor": 5
}
