{
 "cells": [
  {
   "cell_type": "code",
   "execution_count": 1,
   "id": "4d8776dc",
   "metadata": {},
   "outputs": [],
   "source": [
    "import sys\n",
    "sys.path.insert(0, 'C:\\\\Users\\\\arpan\\\\Desktop\\\\Aresty_Quantum_Git\\\\pgmpy\\\\pgmpy')"
   ]
  },
  {
   "cell_type": "code",
   "execution_count": 2,
   "id": "28eeee31",
   "metadata": {},
   "outputs": [],
   "source": [
    "from pgmpy.models import BayesianNetwork\n",
    "from pgmpy.factors.discrete.CPD import TabularCPD\n",
    "import numpy as np\n",
    "from pgmpy.inference import VariableElimination\n",
    "from math import sqrt"
   ]
  },
  {
   "cell_type": "code",
   "execution_count": 3,
   "id": "502cd211",
   "metadata": {},
   "outputs": [
    {
     "data": {
      "application/json": {
       "ascii": false,
       "bar_format": null,
       "colour": null,
       "elapsed": 0.01595616340637207,
       "initial": 0,
       "n": 0,
       "ncols": null,
       "nrows": 29,
       "postfix": null,
       "prefix": "",
       "rate": null,
       "total": 1,
       "unit": "it",
       "unit_divisor": 1000,
       "unit_scale": false
      },
      "application/vnd.jupyter.widget-view+json": {
       "model_id": "8f90c3659c984d9da84510ab4a9cc4c2",
       "version_major": 2,
       "version_minor": 0
      },
      "text/plain": [
       "  0%|          | 0/1 [00:00<?, ?it/s]"
      ]
     },
     "metadata": {},
     "output_type": "display_data"
    },
    {
     "data": {
      "application/json": {
       "ascii": false,
       "bar_format": null,
       "colour": null,
       "elapsed": 0.011969566345214844,
       "initial": 0,
       "n": 0,
       "ncols": null,
       "nrows": 29,
       "postfix": null,
       "prefix": "",
       "rate": null,
       "total": 1,
       "unit": "it",
       "unit_divisor": 1000,
       "unit_scale": false
      },
      "application/vnd.jupyter.widget-view+json": {
       "model_id": "de48459ce59f4393b6da79e8eaefd65a",
       "version_major": 2,
       "version_minor": 0
      },
      "text/plain": [
       "  0%|          | 0/1 [00:00<?, ?it/s]"
      ]
     },
     "metadata": {},
     "output_type": "display_data"
    },
    {
     "name": "stdout",
     "output_type": "stream",
     "text": [
      "+---------+-----------------+\n",
      "| q0m1    |       phi(q0m1) |\n",
      "+=========+=================+\n",
      "| q0m1(0) |  0.5000+0.0000j |\n",
      "+---------+-----------------+\n",
      "| q0m1(1) | -0.5000+0.0000j |\n",
      "+---------+-----------------+\n",
      "| q0m1(2) |  0.0000+0.0000j |\n",
      "+---------+-----------------+\n",
      "| q0m1(3) |  0.0000+0.0000j |\n",
      "+---------+-----------------+\n"
     ]
    },
    {
     "name": "stderr",
     "output_type": "stream",
     "text": [
      "C:\\Users\\arpan\\Desktop\\Aresty_Quantum_Git\\pgmpy\\pgmpy\\pgmpy\\extern\\tabulate.py:282: ComplexWarning: Casting complex values to real discards the imaginary part\n",
      "  n = conv(string)\n"
     ]
    }
   ],
   "source": [
    "# Hadamard gate new\n",
    "hNew = BayesianNetwork([('q0m0', 'q0m1')])\n",
    "\n",
    "cpd_q0m0New = TabularCPD(variable = 'q0m0', variable_card = 4, values = [[1/2], [0], [0], [-1/2]]) #initialized to state 0\n",
    "cpd_q0m1New = TabularCPD(variable = 'q0m1', variable_card = 4, values = [[1,0,0,0], [0,0,0,1], [0,0,-1,0], [0,1,0,0]], evidence = ['q0m0'], evidence_card = [4])\n",
    "\n",
    "hNew.add_cpds(cpd_q0m0New, cpd_q0m1New)\n",
    "hNewInfer = VariableElimination(hNew)\n",
    "h2 = hNewInfer.query(['q0m1'])\n",
    "print(h2)"
   ]
  },
  {
   "cell_type": "code",
   "execution_count": 4,
   "id": "dcea2ae7",
   "metadata": {},
   "outputs": [
    {
     "ename": "NameError",
     "evalue": "name 'inputString' is not defined",
     "output_type": "error",
     "traceback": [
      "\u001b[1;31m---------------------------------------------------------------------------\u001b[0m",
      "\u001b[1;31mNameError\u001b[0m                                 Traceback (most recent call last)",
      "Input \u001b[1;32mIn [4]\u001b[0m, in \u001b[0;36m<cell line: 4>\u001b[1;34m()\u001b[0m\n\u001b[0;32m      1\u001b[0m \u001b[38;5;66;03m# attempt at bell state\u001b[39;00m\n\u001b[0;32m      2\u001b[0m bellState \u001b[38;5;241m=\u001b[39m BayesianNetwork([(\u001b[38;5;124m'\u001b[39m\u001b[38;5;124mq0m0\u001b[39m\u001b[38;5;124m'\u001b[39m, \u001b[38;5;124m'\u001b[39m\u001b[38;5;124mq0m1\u001b[39m\u001b[38;5;124m'\u001b[39m)])\n\u001b[1;32m----> 4\u001b[0m \u001b[38;5;28;01mif\u001b[39;00m(\u001b[43minputString\u001b[49m \u001b[38;5;241m==\u001b[39m \u001b[38;5;124m\"\u001b[39m\u001b[38;5;124m00\u001b[39m\u001b[38;5;124m\"\u001b[39m):\n\u001b[0;32m      5\u001b[0m     cpd_q0m0 \u001b[38;5;241m=\u001b[39m TabularCPD(variable \u001b[38;5;241m=\u001b[39m \u001b[38;5;124m'\u001b[39m\u001b[38;5;124mq0m0\u001b[39m\u001b[38;5;124m'\u001b[39m, variable_card \u001b[38;5;241m=\u001b[39m \u001b[38;5;241m4\u001b[39m, values \u001b[38;5;241m=\u001b[39m [[\u001b[38;5;241m1\u001b[39m\u001b[38;5;241m/\u001b[39m\u001b[38;5;241m2\u001b[39m], [\u001b[38;5;241m0\u001b[39m], [\u001b[38;5;241m0\u001b[39m], [\u001b[38;5;241m1\u001b[39m\u001b[38;5;241m/\u001b[39m\u001b[38;5;241m2\u001b[39m]])\u001b[38;5;66;03m#, state_names={'q0m0': ['I', 'X', 'Y', 'Z']})\u001b[39;00m\n\u001b[0;32m      7\u001b[0m     cpd_q0m1 \u001b[38;5;241m=\u001b[39m TabularCPD(variable\u001b[38;5;241m=\u001b[39m\u001b[38;5;124m'\u001b[39m\u001b[38;5;124mq0m1\u001b[39m\u001b[38;5;124m'\u001b[39m, variable_card \u001b[38;5;241m=\u001b[39m \u001b[38;5;241m4\u001b[39m, values \u001b[38;5;241m=\u001b[39m [[\u001b[38;5;241m1\u001b[39m, \u001b[38;5;241m0\u001b[39m, \u001b[38;5;241m0\u001b[39m, \u001b[38;5;241m0\u001b[39m], [\u001b[38;5;241m0\u001b[39m, \u001b[38;5;241m1\u001b[39m\u001b[38;5;241m/\u001b[39msqrt(\u001b[38;5;241m2\u001b[39m), \u001b[38;5;241m1\u001b[39m\u001b[38;5;241m/\u001b[39msqrt(\u001b[38;5;241m2\u001b[39m), \u001b[38;5;241m0\u001b[39m], [\u001b[38;5;241m0\u001b[39m, \u001b[38;5;241m-\u001b[39m\u001b[38;5;241m1\u001b[39m\u001b[38;5;241m/\u001b[39msqrt(\u001b[38;5;241m2\u001b[39m), \u001b[38;5;241m1\u001b[39m\u001b[38;5;241m/\u001b[39msqrt(\u001b[38;5;241m2\u001b[39m), \u001b[38;5;241m0\u001b[39m], [\u001b[38;5;241m0\u001b[39m, \u001b[38;5;241m0\u001b[39m, \u001b[38;5;241m0\u001b[39m, \u001b[38;5;241m0\u001b[39m]], evidence \u001b[38;5;241m=\u001b[39m [\u001b[38;5;124m'\u001b[39m\u001b[38;5;124mq0m0\u001b[39m\u001b[38;5;124m'\u001b[39m], evidence_card \u001b[38;5;241m=\u001b[39m [\u001b[38;5;241m4\u001b[39m])\n",
      "\u001b[1;31mNameError\u001b[0m: name 'inputString' is not defined"
     ]
    }
   ],
   "source": [
    "# attempt at bell state\n",
    "bellState = BayesianNetwork([('q0m0', 'q0m1'), ('q0m1', 'q0m2'), ('q1m0', 'q1m1'), ('q1m1', 'q1m2'), ('q0m1', 'q1m2')])\n",
    "\n",
    "# |00>\n",
    "cpd_q0m0 = TabularCPD(variable = 'q0m0', variable_card = 4, values = [[1/2], [0], [0], [1/2]])#, state_names={'q0m0': ['I', 'X', 'Y', 'Z']})    \n",
    "cpd_q1m0 = TabularCPD(variable = 'q1m0', variable_card = 4, values = [[1/2], [0], [0], [1/2]])#, state_names={'q0m0': ['I', 'X', 'Y', 'Z']})    \n",
    "\n",
    "cpd_q0m1 = TabularCPD(variable = 'q0m1', variable_card = 4, values = [[1,0,0,0], [0,0,0,1], [0,0,-1,0], [0,1,0,0]], evidence = ['q0m0'], evidence_card = [4])\n",
    "cpd_q0m2 = TabularCPD(variable = 'q0m2', variable_card = 4, values = [[1, 0, 0, 0], [0, 1, 0, 0], [0, 0, 1, 0], [0, 0, 0, 1]], evidence = ['q0m1'], evidence_card = [4])\n",
    "\n",
    "cpd_q1m1 = TabularCPD(variable = 'q1m1', variable_card = 4, values = [[1, 0, 0, 0], [0, 1, 0, 0], [0, 0, 1, 0], [0, 0, 0, 1]], evidence = ['q1m0'], evidence_card = [4])\n",
    "cpd_q1m2 = TabularCPD() #cpd for cnot gate\n",
    "\n",
    "\n",
    "bellState.add_cpds(cpd_q0m0, cpd_q1m0, cpd_q0m1, cpd_q0m2, cpd_q1m2, cpd_q1m1)\n",
    "bellStateInfer = VariableElimination(bellState)\n",
    "q1 = bellStateInfer.query(['q1m2', 'q0m2'])\n",
    "\n",
    "print(q1)\n",
    "\n",
    "q1Vars = q1.variables\n",
    "q1Values = q1.values\n",
    "\n",
    "print(q1Vars)\n",
    "print(q1Values)\n"
   ]
  }
 ],
 "metadata": {
  "kernelspec": {
   "display_name": "Python 3 (ipykernel)",
   "language": "python",
   "name": "python3"
  },
  "language_info": {
   "codemirror_mode": {
    "name": "ipython",
    "version": 3
   },
   "file_extension": ".py",
   "mimetype": "text/x-python",
   "name": "python",
   "nbconvert_exporter": "python",
   "pygments_lexer": "ipython3",
   "version": "3.8.8"
  }
 },
 "nbformat": 4,
 "nbformat_minor": 5
}
