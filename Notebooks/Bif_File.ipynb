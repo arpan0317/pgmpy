{
 "cells": [
  {
   "cell_type": "code",
   "execution_count": 1,
   "id": "c3278858",
   "metadata": {},
   "outputs": [
    {
     "data": {
      "application/vnd.jupyter.widget-view+json": {
       "model_id": "974e208e092246f8b6be40e4ccd3010b",
       "version_major": 2,
       "version_minor": 0
      },
      "text/plain": [
       "  0%|          | 0/4 [00:00<?, ?it/s]"
      ]
     },
     "metadata": {},
     "output_type": "display_data"
    },
    {
     "data": {
      "application/vnd.jupyter.widget-view+json": {
       "model_id": "e7802fb02fbb4f1abc436d21b0a4553b",
       "version_major": 2,
       "version_minor": 0
      },
      "text/plain": [
       "  0%|          | 0/4 [00:00<?, ?it/s]"
      ]
     },
     "metadata": {},
     "output_type": "display_data"
    },
    {
     "name": "stdout",
     "output_type": "stream",
     "text": [
      "+---------+---------+------------------+\n",
      "| q0m2    | q1m2    |   phi(q0m2,q1m2) |\n",
      "+=========+=========+==================+\n",
      "| q0m2(0) | q1m2(0) |   0.7071+0.0000j |\n",
      "+---------+---------+------------------+\n",
      "| q0m2(0) | q1m2(1) |   0.0000+0.0000j |\n",
      "+---------+---------+------------------+\n",
      "| q0m2(1) | q1m2(0) |   0.0000+0.0000j |\n",
      "+---------+---------+------------------+\n",
      "| q0m2(1) | q1m2(1) |   0.7071+0.0000j |\n",
      "+---------+---------+------------------+\n"
     ]
    },
    {
     "name": "stderr",
     "output_type": "stream",
     "text": [
      "C:\\Users\\masch\\QuantumComputing\\QComp\\pgmpy\\pgmpy\\extern\\tabulate.py:282: ComplexWarning: Casting complex values to real discards the imaginary part\n",
      "  n = conv(string)\n"
     ]
    }
   ],
   "source": [
    "import sys\n",
    "sys.path.insert(0, 'C:\\\\Users\\\\masch\\\\QuantumComputing\\\\QComp\\\\pgmpy')\n",
    "\n",
    "# Imports\n",
    "import cmath\n",
    "import math\n",
    "import numpy as np\n",
    "from pgmpy.models import BayesianNetwork\n",
    "from pgmpy.factors.discrete.CPD import TabularCPD\n",
    "from pgmpy.inference import VariableElimination\n",
    "from pgmpy.inference import BeliefPropagation\n",
    "from pgmpy.readwrite import BIFReader, BIFWriter\n",
    "\n",
    "\n",
    "bellState = BayesianNetwork([('q0m0', 'q0m1'), ('q0m1', 'q0m2'), ('q1m0', 'q1m1'), ('q1m1', 'q1m2'), ('q0m1', 'q1m2')])\n",
    "\n",
    "cpd_q0m0 = TabularCPD(variable = 'q0m0', variable_card = 2, values = [[1], [0]])\n",
    "cpd_q1m0 = TabularCPD(variable = 'q1m0', variable_card = 2, values = [[1], [0]])\n",
    "cpd_q0m1 = TabularCPD(variable='q0m1', variable_card = 2, values = [[1/np.sqrt(2), 1/np.sqrt(2)], [1/np.sqrt(2), -1/np.sqrt(2)]], evidence = ['q0m0'], evidence_card = [2])\n",
    "cpd_q1m1 = TabularCPD(variable = 'q1m1', variable_card = 2, values = [[1, 0], [0,1]], evidence = ['q1m0'], evidence_card = [2])\n",
    "cpd_q1m2 = TabularCPD(variable='q1m2', variable_card = 2, values = [[1,0,0,1], [0,1,1,0]], evidence = ['q0m1', 'q1m1'], evidence_card = [2,2])\n",
    "cpd_q0m2 = TabularCPD(variable='q0m2', variable_card = 2, values = [[1, 0], [0, 1]], evidence = ['q0m1'], evidence_card = [2])\n",
    "\n",
    "bellState.add_cpds(cpd_q0m0, cpd_q1m0, cpd_q0m1, cpd_q0m2, cpd_q1m2, cpd_q1m1)\n",
    "bellStateInfer = VariableElimination(bellState)\n",
    "q1 = bellStateInfer.query(['q1m2', 'q0m2'])\n",
    "\n",
    "print(q1)"
   ]
  },
  {
   "cell_type": "code",
   "execution_count": 2,
   "id": "3286b3eb",
   "metadata": {},
   "outputs": [],
   "source": [
    "writer = BIFWriter(bellState)\n",
    "writer.write_bif(filename='bellState.bif')"
   ]
  },
  {
   "cell_type": "code",
   "execution_count": 3,
   "id": "e70f4e4d",
   "metadata": {},
   "outputs": [
    {
     "data": {
      "text/plain": [
       "{'q0m0': array([[1.+0.j],\n",
       "        [0.+0.j]]),\n",
       " 'q0m1': array([[ 0.70710678+0.j,  0.70710678+0.j],\n",
       "        [ 0.70710678+0.j, -0.70710678+0.j]]),\n",
       " 'q0m2': array([[1.+0.j, 0.+0.j],\n",
       "        [0.+0.j, 1.+0.j]]),\n",
       " 'q1m0': array([[1.+0.j],\n",
       "        [0.+0.j]]),\n",
       " 'q1m1': array([[1.+0.j, 0.+0.j],\n",
       "        [0.+0.j, 1.+0.j]]),\n",
       " 'q1m2': array([[1.+0.j, 0.+0.j, 0.+0.j, 1.+0.j],\n",
       "        [0.+0.j, 1.+0.j, 1.+0.j, 0.+0.j]])}"
      ]
     },
     "execution_count": 3,
     "metadata": {},
     "output_type": "execute_result"
    }
   ],
   "source": [
    "reader = BIFReader(\"bellState.bif\")\n",
    "reader.get_values()"
   ]
  },
  {
   "cell_type": "code",
   "execution_count": 4,
   "id": "23cf4b32",
   "metadata": {},
   "outputs": [],
   "source": [
    "bellState2 = reader.get_model()"
   ]
  },
  {
   "cell_type": "code",
   "execution_count": 5,
   "id": "8df6d56c",
   "metadata": {},
   "outputs": [
    {
     "data": {
      "application/vnd.jupyter.widget-view+json": {
       "model_id": "a55d4fceec8f4d77bf1c00fb9b486d2f",
       "version_major": 2,
       "version_minor": 0
      },
      "text/plain": [
       "  0%|          | 0/4 [00:00<?, ?it/s]"
      ]
     },
     "metadata": {},
     "output_type": "display_data"
    },
    {
     "data": {
      "application/vnd.jupyter.widget-view+json": {
       "model_id": "2c200964d9f645e8a27e62ef757346c7",
       "version_major": 2,
       "version_minor": 0
      },
      "text/plain": [
       "  0%|          | 0/4 [00:00<?, ?it/s]"
      ]
     },
     "metadata": {},
     "output_type": "display_data"
    },
    {
     "name": "stdout",
     "output_type": "stream",
     "text": [
      "+---------+---------+------------------+\n",
      "| q0m2    | q1m2    |   phi(q0m2,q1m2) |\n",
      "+=========+=========+==================+\n",
      "| q0m2(0) | q1m2(0) |   0.7071+0.0000j |\n",
      "+---------+---------+------------------+\n",
      "| q0m2(0) | q1m2(1) |   0.0000+0.0000j |\n",
      "+---------+---------+------------------+\n",
      "| q0m2(1) | q1m2(0) |   0.0000+0.0000j |\n",
      "+---------+---------+------------------+\n",
      "| q0m2(1) | q1m2(1) |   0.7071+0.0000j |\n",
      "+---------+---------+------------------+\n"
     ]
    }
   ],
   "source": [
    "bellState2Infer = VariableElimination(bellState2)\n",
    "q2 = bellState2Infer.query(['q1m2', 'q0m2'])\n",
    "\n",
    "print(q2)"
   ]
  },
  {
   "cell_type": "code",
   "execution_count": 6,
   "id": "b371b4d3",
   "metadata": {},
   "outputs": [
    {
     "data": {
      "application/vnd.jupyter.widget-view+json": {
       "model_id": "5bf53a126b01406aba41d8917eb6c8aa",
       "version_major": 2,
       "version_minor": 0
      },
      "text/plain": [
       "  0%|          | 0/2 [00:00<?, ?it/s]"
      ]
     },
     "metadata": {},
     "output_type": "display_data"
    },
    {
     "data": {
      "application/vnd.jupyter.widget-view+json": {
       "model_id": "6f522f1433cd42abb6b767f4f117be8e",
       "version_major": 2,
       "version_minor": 0
      },
      "text/plain": [
       "  0%|          | 0/2 [00:00<?, ?it/s]"
      ]
     },
     "metadata": {},
     "output_type": "display_data"
    },
    {
     "name": "stdout",
     "output_type": "stream",
     "text": [
      "+--------+---------+--------+---------+--------------------------+\n",
      "| rv1    | q1m1    | rv2    | q0m1    |   phi(rv1,q1m1,rv2,q0m1) |\n",
      "+========+=========+========+=========+==========================+\n",
      "| rv1(0) | q1m1(0) | rv2(0) | q0m1(0) |           0.9000+0.0000j |\n",
      "+--------+---------+--------+---------+--------------------------+\n",
      "| rv1(0) | q1m1(0) | rv2(0) | q0m1(1) |           0.0000+0.0000j |\n",
      "+--------+---------+--------+---------+--------------------------+\n",
      "| rv1(0) | q1m1(0) | rv2(1) | q0m1(0) |           0.0000+0.0000j |\n",
      "+--------+---------+--------+---------+--------------------------+\n",
      "| rv1(0) | q1m1(0) | rv2(1) | q0m1(1) |           0.0000+0.0000j |\n",
      "+--------+---------+--------+---------+--------------------------+\n",
      "| rv1(0) | q1m1(1) | rv2(0) | q0m1(0) |           0.0000+0.0000j |\n",
      "+--------+---------+--------+---------+--------------------------+\n",
      "| rv1(0) | q1m1(1) | rv2(0) | q0m1(1) |           0.0000+0.0000j |\n",
      "+--------+---------+--------+---------+--------------------------+\n",
      "| rv1(0) | q1m1(1) | rv2(1) | q0m1(0) |           0.3000+0.0000j |\n",
      "+--------+---------+--------+---------+--------------------------+\n",
      "| rv1(0) | q1m1(1) | rv2(1) | q0m1(1) |           0.0000+0.0000j |\n",
      "+--------+---------+--------+---------+--------------------------+\n",
      "| rv1(1) | q1m1(0) | rv2(0) | q0m1(0) |           0.0000+0.0000j |\n",
      "+--------+---------+--------+---------+--------------------------+\n",
      "| rv1(1) | q1m1(0) | rv2(0) | q0m1(1) |           0.2646+0.0000j |\n",
      "+--------+---------+--------+---------+--------------------------+\n",
      "| rv1(1) | q1m1(0) | rv2(1) | q0m1(0) |           0.0000+0.0000j |\n",
      "+--------+---------+--------+---------+--------------------------+\n",
      "| rv1(1) | q1m1(0) | rv2(1) | q0m1(1) |           0.0000+0.0000j |\n",
      "+--------+---------+--------+---------+--------------------------+\n",
      "| rv1(1) | q1m1(1) | rv2(0) | q0m1(0) |           0.0000+0.0000j |\n",
      "+--------+---------+--------+---------+--------------------------+\n",
      "| rv1(1) | q1m1(1) | rv2(0) | q0m1(1) |           0.0000+0.0000j |\n",
      "+--------+---------+--------+---------+--------------------------+\n",
      "| rv1(1) | q1m1(1) | rv2(1) | q0m1(0) |           0.0000+0.0000j |\n",
      "+--------+---------+--------+---------+--------------------------+\n",
      "| rv1(1) | q1m1(1) | rv2(1) | q0m1(1) |           0.1732+0.0000j |\n",
      "+--------+---------+--------+---------+--------------------------+\n"
     ]
    }
   ],
   "source": [
    "pA = 0.1\n",
    "pB = 0.1\n",
    "pB_givenA = 0.3\n",
    "pA_givenB = pB_givenA*pA/pB\n",
    "pB_givenNotA = (1-pA_givenB)*pB/(1-pA)\n",
    "#p(B|!A) = p(B,!A)/p(!A) = p(!A|B)*p(B)/p(!A) = (1-p(A|B))*p(B)/(1-p(A)) = (p(B)-p(A,B))/(1-p(A))\n",
    "\n",
    "corr_bit_flip = BayesianNetwork([('q0m0','q0m1'),('q1m0','q1m1'),('rv1','rv2'),('rv1','q0m1'),('rv2','q1m1')])\n",
    "cpd_q0m0 = TabularCPD(variable='q0m0',variable_card=2,values=[[1],[0]])\n",
    "cpd_q1m0 = TabularCPD(variable='q1m0',variable_card=2,values=[[1],[0]])\n",
    "cpd_rv1 = TabularCPD(variable='rv1',variable_card=2,values=[[np.sqrt(1-pA)],[np.sqrt(pA)]])\n",
    "cpd_rv2 = TabularCPD(variable='rv2',variable_card=2,values=[[np.sqrt(1-pB),np.sqrt(1-pB_givenA)],[np.sqrt(pB),np.sqrt(pB_givenA)]],evidence=['rv1'],evidence_card=[2])\n",
    "cpd_q0m1 = TabularCPD(variable='q0m1',variable_card=2,values=[[1,0,0,1],[0,1,1,0]],evidence=['q0m0','rv1'],evidence_card=[2,2])\n",
    "cpd_q1m1 = TabularCPD(variable='q1m1',variable_card=2,values=[[1,0,0,1],[0,1,1,0]],evidence=['q1m0','rv2'],evidence_card=[2,2])\n",
    "\n",
    "corr_bit_flip.add_cpds(cpd_q0m0,cpd_q1m0,cpd_rv1,cpd_rv2,cpd_q0m1,cpd_q1m1)\n",
    "corr_infer = VariableElimination(corr_bit_flip)\n",
    "corr_query = corr_infer.query(['rv1','rv2','q0m1','q1m1'])\n",
    "print(corr_query)"
   ]
  },
  {
   "cell_type": "code",
   "execution_count": 7,
   "id": "159045c0",
   "metadata": {},
   "outputs": [
    {
     "data": {
      "text/plain": [
       "{'q0m0': array([[1.+0.j],\n",
       "        [0.+0.j]]),\n",
       " 'q0m1': array([[1.+0.j, 0.+0.j, 0.+0.j, 1.+0.j],\n",
       "        [0.+0.j, 1.+0.j, 1.+0.j, 0.+0.j]]),\n",
       " 'q1m0': array([[1.+0.j],\n",
       "        [0.+0.j]]),\n",
       " 'q1m1': array([[1.+0.j, 0.+0.j, 0.+0.j, 1.+0.j],\n",
       "        [0.+0.j, 1.+0.j, 1.+0.j, 0.+0.j]]),\n",
       " 'rv1': array([[0.9486833 +0.j],\n",
       "        [0.31622777+0.j]]),\n",
       " 'rv2': array([[0.9486833 +0.j, 0.83666003+0.j],\n",
       "        [0.31622777+0.j, 0.54772256+0.j]])}"
      ]
     },
     "execution_count": 7,
     "metadata": {},
     "output_type": "execute_result"
    }
   ],
   "source": [
    "writer = BIFWriter(corr_bit_flip)\n",
    "writer.write_bif(filename='corr_bit_flip.bif')\n",
    "reader = BIFReader(\"corr_bit_flip.bif\")\n",
    "reader.get_values()"
   ]
  },
  {
   "cell_type": "code",
   "execution_count": 8,
   "id": "2cef59fc",
   "metadata": {},
   "outputs": [
    {
     "data": {
      "application/vnd.jupyter.widget-view+json": {
       "model_id": "db1585b071aa41aa83fb1b817758ce70",
       "version_major": 2,
       "version_minor": 0
      },
      "text/plain": [
       "  0%|          | 0/2 [00:00<?, ?it/s]"
      ]
     },
     "metadata": {},
     "output_type": "display_data"
    },
    {
     "data": {
      "application/vnd.jupyter.widget-view+json": {
       "model_id": "8e206f34a9ba4d4090f70642936ec7b8",
       "version_major": 2,
       "version_minor": 0
      },
      "text/plain": [
       "  0%|          | 0/2 [00:00<?, ?it/s]"
      ]
     },
     "metadata": {},
     "output_type": "display_data"
    },
    {
     "name": "stdout",
     "output_type": "stream",
     "text": [
      "+--------+---------+--------+---------+--------------------------+\n",
      "| rv1    | q1m1    | rv2    | q0m1    |   phi(rv1,q1m1,rv2,q0m1) |\n",
      "+========+=========+========+=========+==========================+\n",
      "| rv1(0) | q1m1(0) | rv2(0) | q0m1(0) |           0.9000+0.0000j |\n",
      "+--------+---------+--------+---------+--------------------------+\n",
      "| rv1(0) | q1m1(0) | rv2(0) | q0m1(1) |           0.0000+0.0000j |\n",
      "+--------+---------+--------+---------+--------------------------+\n",
      "| rv1(0) | q1m1(0) | rv2(1) | q0m1(0) |           0.0000+0.0000j |\n",
      "+--------+---------+--------+---------+--------------------------+\n",
      "| rv1(0) | q1m1(0) | rv2(1) | q0m1(1) |           0.0000+0.0000j |\n",
      "+--------+---------+--------+---------+--------------------------+\n",
      "| rv1(0) | q1m1(1) | rv2(0) | q0m1(0) |           0.0000+0.0000j |\n",
      "+--------+---------+--------+---------+--------------------------+\n",
      "| rv1(0) | q1m1(1) | rv2(0) | q0m1(1) |           0.0000+0.0000j |\n",
      "+--------+---------+--------+---------+--------------------------+\n",
      "| rv1(0) | q1m1(1) | rv2(1) | q0m1(0) |           0.3000+0.0000j |\n",
      "+--------+---------+--------+---------+--------------------------+\n",
      "| rv1(0) | q1m1(1) | rv2(1) | q0m1(1) |           0.0000+0.0000j |\n",
      "+--------+---------+--------+---------+--------------------------+\n",
      "| rv1(1) | q1m1(0) | rv2(0) | q0m1(0) |           0.0000+0.0000j |\n",
      "+--------+---------+--------+---------+--------------------------+\n",
      "| rv1(1) | q1m1(0) | rv2(0) | q0m1(1) |           0.2646+0.0000j |\n",
      "+--------+---------+--------+---------+--------------------------+\n",
      "| rv1(1) | q1m1(0) | rv2(1) | q0m1(0) |           0.0000+0.0000j |\n",
      "+--------+---------+--------+---------+--------------------------+\n",
      "| rv1(1) | q1m1(0) | rv2(1) | q0m1(1) |           0.0000+0.0000j |\n",
      "+--------+---------+--------+---------+--------------------------+\n",
      "| rv1(1) | q1m1(1) | rv2(0) | q0m1(0) |           0.0000+0.0000j |\n",
      "+--------+---------+--------+---------+--------------------------+\n",
      "| rv1(1) | q1m1(1) | rv2(0) | q0m1(1) |           0.0000+0.0000j |\n",
      "+--------+---------+--------+---------+--------------------------+\n",
      "| rv1(1) | q1m1(1) | rv2(1) | q0m1(0) |           0.0000+0.0000j |\n",
      "+--------+---------+--------+---------+--------------------------+\n",
      "| rv1(1) | q1m1(1) | rv2(1) | q0m1(1) |           0.1732+0.0000j |\n",
      "+--------+---------+--------+---------+--------------------------+\n"
     ]
    }
   ],
   "source": [
    "corr_bit_flip2 = reader.get_model()\n",
    "corr_bit_flipInfer2 = VariableElimination(corr_bit_flip2)\n",
    "corr_query2 = corr_bit_flipInfer2.query(['rv1','rv2','q0m1','q1m1'])\n",
    "print(corr_query2)"
   ]
  },
  {
   "cell_type": "code",
   "execution_count": null,
   "id": "c8837b55",
   "metadata": {},
   "outputs": [],
   "source": []
  }
 ],
 "metadata": {
  "kernelspec": {
   "display_name": "Python 3",
   "language": "python",
   "name": "python3"
  },
  "language_info": {
   "codemirror_mode": {
    "name": "ipython",
    "version": 3
   },
   "file_extension": ".py",
   "mimetype": "text/x-python",
   "name": "python",
   "nbconvert_exporter": "python",
   "pygments_lexer": "ipython3",
   "version": "3.8.8"
  }
 },
 "nbformat": 4,
 "nbformat_minor": 5
}
