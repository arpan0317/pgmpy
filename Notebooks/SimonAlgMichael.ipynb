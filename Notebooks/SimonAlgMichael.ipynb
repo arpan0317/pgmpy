{
 "cells": [
  {
   "cell_type": "code",
   "execution_count": 1,
   "id": "0af41dab",
   "metadata": {},
   "outputs": [
    {
     "data": {
      "text/html": [
       "<pre style=\"word-wrap: normal;white-space: pre;background: #fff0;line-height: 1.1;font-family: &quot;Courier New&quot;,Courier,monospace\">      ░                      ░ \n",
       "q_0: ─░───■────■─────────────░─\n",
       "      ░   │    │             ░ \n",
       "q_1: ─░───┼────┼────■────■───░─\n",
       "      ░ ┌─┴─┐  │  ┌─┴─┐  │   ░ \n",
       "q_2: ─░─┤ X ├──┼──┤ X ├──┼───░─\n",
       "      ░ └───┘┌─┴─┐└───┘┌─┴─┐ ░ \n",
       "q_3: ─░──────┤ X ├─────┤ X ├─░─\n",
       "      ░      └───┘     └───┘ ░ </pre>"
      ],
      "text/plain": [
       "      ░                      ░ \n",
       "q_0: ─░───■────■─────────────░─\n",
       "      ░   │    │             ░ \n",
       "q_1: ─░───┼────┼────■────■───░─\n",
       "      ░ ┌─┴─┐  │  ┌─┴─┐  │   ░ \n",
       "q_2: ─░─┤ X ├──┼──┤ X ├──┼───░─\n",
       "      ░ └───┘┌─┴─┐└───┘┌─┴─┐ ░ \n",
       "q_3: ─░──────┤ X ├─────┤ X ├─░─\n",
       "      ░      └───┘     └───┘ ░ "
      ]
     },
     "execution_count": 1,
     "metadata": {},
     "output_type": "execute_result"
    }
   ],
   "source": [
    "# initialization\n",
    "import numpy as np\n",
    "\n",
    "# importing Qiskit\n",
    "from qiskit import IBMQ, Aer\n",
    "from qiskit.providers.ibmq import least_busy\n",
    "from qiskit import QuantumCircuit, assemble, transpile\n",
    "\n",
    "# import basic plot tools\n",
    "from qiskit.visualization import plot_histogram\n",
    "# set the length of the n-bit input string. \n",
    "\n",
    "n = 2\n",
    "m = 2\n",
    "\n",
    "oracle = QuantumCircuit(n+m)\n",
    "oracle.barrier()\n",
    "oracle.cx(0,2)\n",
    "oracle.cx(0,3)\n",
    "oracle.cx(1,2)\n",
    "oracle.cx(1,3)\n",
    "oracle.barrier()\n",
    "oracle.draw()"
   ]
  },
  {
   "cell_type": "code",
   "execution_count": 2,
   "id": "20aa14bf",
   "metadata": {},
   "outputs": [
    {
     "name": "stderr",
     "output_type": "stream",
     "text": [
      "<ipython-input-2-8ae0990264e6>:4: DeprecationWarning: The QuantumCircuit.__iadd__() method is being deprecated. Use the compose() (potentially with the inplace=True argument) and tensor() methods which are more flexible w.r.t circuit register compatibility.\n",
      "  simonAlg += oracle\n",
      "C:\\Users\\masch\\anaconda3\\lib\\site-packages\\qiskit\\circuit\\quantumcircuit.py:942: DeprecationWarning: The QuantumCircuit.extend() method is being deprecated. Use the compose() (potentially with the inplace=True argument) and tensor() methods which are more flexible w.r.t circuit register compatibility.\n",
      "  return self.extend(rhs)\n"
     ]
    },
    {
     "data": {
      "text/html": [
       "<pre style=\"word-wrap: normal;white-space: pre;background: #fff0;line-height: 1.1;font-family: &quot;Courier New&quot;,Courier,monospace\">     ┌───┐ ░                      ░ \n",
       "q_0: ┤ H ├─░───■────■─────────────░─\n",
       "     ├───┤ ░   │    │             ░ \n",
       "q_1: ┤ H ├─░───┼────┼────■────■───░─\n",
       "     └───┘ ░ ┌─┴─┐  │  ┌─┴─┐  │   ░ \n",
       "q_2: ──────░─┤ X ├──┼──┤ X ├──┼───░─\n",
       "           ░ └───┘┌─┴─┐└───┘┌─┴─┐ ░ \n",
       "q_3: ──────░──────┤ X ├─────┤ X ├─░─\n",
       "           ░      └───┘     └───┘ ░ \n",
       "c: 4/═══════════════════════════════\n",
       "                                    </pre>"
      ],
      "text/plain": [
       "     ┌───┐ ░                      ░ \n",
       "q_0: ┤ H ├─░───■────■─────────────░─\n",
       "     ├───┤ ░   │    │             ░ \n",
       "q_1: ┤ H ├─░───┼────┼────■────■───░─\n",
       "     └───┘ ░ ┌─┴─┐  │  ┌─┴─┐  │   ░ \n",
       "q_2: ──────░─┤ X ├──┼──┤ X ├──┼───░─\n",
       "           ░ └───┘┌─┴─┐└───┘┌─┴─┐ ░ \n",
       "q_3: ──────░──────┤ X ├─────┤ X ├─░─\n",
       "           ░      └───┘     └───┘ ░ \n",
       "c: 4/═══════════════════════════════\n",
       "                                    "
      ]
     },
     "execution_count": 2,
     "metadata": {},
     "output_type": "execute_result"
    }
   ],
   "source": [
    "simonAlg = QuantumCircuit(n+m,n+m)\n",
    "for qubit in range(n):\n",
    "    simonAlg.h(qubit)\n",
    "simonAlg += oracle\n",
    "simonAlg.draw()"
   ]
  },
  {
   "cell_type": "code",
   "execution_count": 3,
   "id": "2845bf84",
   "metadata": {},
   "outputs": [
    {
     "data": {
      "text/html": [
       "<pre style=\"word-wrap: normal;white-space: pre;background: #fff0;line-height: 1.1;font-family: &quot;Courier New&quot;,Courier,monospace\">     ┌───┐ ░                      ░        ░ \n",
       "q_0: ┤ H ├─░───■────■─────────────░────────░─\n",
       "     ├───┤ ░   │    │             ░        ░ \n",
       "q_1: ┤ H ├─░───┼────┼────■────■───░────────░─\n",
       "     └───┘ ░ ┌─┴─┐  │  ┌─┴─┐  │   ░ ┌─┐    ░ \n",
       "q_2: ──────░─┤ X ├──┼──┤ X ├──┼───░─┤M├────░─\n",
       "           ░ └───┘┌─┴─┐└───┘┌─┴─┐ ░ └╥┘┌─┐ ░ \n",
       "q_3: ──────░──────┤ X ├─────┤ X ├─░──╫─┤M├─░─\n",
       "           ░      └───┘     └───┘ ░  ║ └╥┘ ░ \n",
       "c: 4/════════════════════════════════╩══╩════\n",
       "                                     2  3    </pre>"
      ],
      "text/plain": [
       "     ┌───┐ ░                      ░        ░ \n",
       "q_0: ┤ H ├─░───■────■─────────────░────────░─\n",
       "     ├───┤ ░   │    │             ░        ░ \n",
       "q_1: ┤ H ├─░───┼────┼────■────■───░────────░─\n",
       "     └───┘ ░ ┌─┴─┐  │  ┌─┴─┐  │   ░ ┌─┐    ░ \n",
       "q_2: ──────░─┤ X ├──┼──┤ X ├──┼───░─┤M├────░─\n",
       "           ░ └───┘┌─┴─┐└───┘┌─┴─┐ ░ └╥┘┌─┐ ░ \n",
       "q_3: ──────░──────┤ X ├─────┤ X ├─░──╫─┤M├─░─\n",
       "           ░      └───┘     └───┘ ░  ║ └╥┘ ░ \n",
       "c: 4/════════════════════════════════╩══╩════\n",
       "                                     2  3    "
      ]
     },
     "execution_count": 3,
     "metadata": {},
     "output_type": "execute_result"
    }
   ],
   "source": [
    "for qubit in range(m):\n",
    "    simonAlg.measure(n+qubit,n+qubit)\n",
    "simonAlg.barrier()\n",
    "simonAlg.draw()"
   ]
  },
  {
   "cell_type": "code",
   "execution_count": 4,
   "id": "55ba2ac5",
   "metadata": {},
   "outputs": [
    {
     "data": {
      "text/html": [
       "<pre style=\"word-wrap: normal;white-space: pre;background: #fff0;line-height: 1.1;font-family: &quot;Courier New&quot;,Courier,monospace\">     ┌───┐ ░                      ░        ░ ┌───┐ ░ ┌─┐   \n",
       "q_0: ┤ H ├─░───■────■─────────────░────────░─┤ H ├─░─┤M├───\n",
       "     ├───┤ ░   │    │             ░        ░ ├───┤ ░ └╥┘┌─┐\n",
       "q_1: ┤ H ├─░───┼────┼────■────■───░────────░─┤ H ├─░──╫─┤M├\n",
       "     └───┘ ░ ┌─┴─┐  │  ┌─┴─┐  │   ░ ┌─┐    ░ └───┘ ░  ║ └╥┘\n",
       "q_2: ──────░─┤ X ├──┼──┤ X ├──┼───░─┤M├────░───────░──╫──╫─\n",
       "           ░ └───┘┌─┴─┐└───┘┌─┴─┐ ░ └╥┘┌─┐ ░       ░  ║  ║ \n",
       "q_3: ──────░──────┤ X ├─────┤ X ├─░──╫─┤M├─░───────░──╫──╫─\n",
       "           ░      └───┘     └───┘ ░  ║ └╥┘ ░       ░  ║  ║ \n",
       "c: 4/════════════════════════════════╩══╩═════════════╩══╩═\n",
       "                                     2  3             0  1 </pre>"
      ],
      "text/plain": [
       "     ┌───┐ ░                      ░        ░ ┌───┐ ░ ┌─┐   \n",
       "q_0: ┤ H ├─░───■────■─────────────░────────░─┤ H ├─░─┤M├───\n",
       "     ├───┤ ░   │    │             ░        ░ ├───┤ ░ └╥┘┌─┐\n",
       "q_1: ┤ H ├─░───┼────┼────■────■───░────────░─┤ H ├─░──╫─┤M├\n",
       "     └───┘ ░ ┌─┴─┐  │  ┌─┴─┐  │   ░ ┌─┐    ░ └───┘ ░  ║ └╥┘\n",
       "q_2: ──────░─┤ X ├──┼──┤ X ├──┼───░─┤M├────░───────░──╫──╫─\n",
       "           ░ └───┘┌─┴─┐└───┘┌─┴─┐ ░ └╥┘┌─┐ ░       ░  ║  ║ \n",
       "q_3: ──────░──────┤ X ├─────┤ X ├─░──╫─┤M├─░───────░──╫──╫─\n",
       "           ░      └───┘     └───┘ ░  ║ └╥┘ ░       ░  ║  ║ \n",
       "c: 4/════════════════════════════════╩══╩═════════════╩══╩═\n",
       "                                     2  3             0  1 "
      ]
     },
     "execution_count": 4,
     "metadata": {},
     "output_type": "execute_result"
    }
   ],
   "source": [
    "for qubit in range(n):\n",
    "    simonAlg.h(qubit)\n",
    "simonAlg.barrier()\n",
    "for qubit in range(n):\n",
    "    simonAlg.measure(qubit,qubit)\n",
    "simonAlg.draw()"
   ]
  },
  {
   "cell_type": "code",
   "execution_count": 5,
   "id": "6ee17aa9",
   "metadata": {},
   "outputs": [
    {
     "data": {
      "image/png": "[encoded data removed]",
      "text/plain": [
       "<Figure size 504x360 with 1 Axes>"
      ]
     },
     "execution_count": 5,
     "metadata": {},
     "output_type": "execute_result"
    }
   ],
   "source": [
    "aer_sim = Aer.get_backend('aer_simulator')\n",
    "transpiled_simon = transpile(simonAlg, aer_sim)\n",
    "results = aer_sim.run(transpiled_simon).result()\n",
    "counts = results.get_counts()\n",
    "plot_histogram(counts)"
   ]
  },
  {
   "cell_type": "code",
   "execution_count": 1,
   "id": "6689db44",
   "metadata": {},
   "outputs": [
    {
     "data": {
      "application/vnd.jupyter.widget-view+json": {
       "model_id": "39572526c9854fcd8191bd94ae01f9b3",
       "version_major": 2,
       "version_minor": 0
      },
      "text/plain": [
       "  0%|          | 0/4 [00:00<?, ?it/s]"
      ]
     },
     "metadata": {},
     "output_type": "display_data"
    },
    {
     "data": {
      "application/vnd.jupyter.widget-view+json": {
       "model_id": "d924f8dc6d724316ab322ca103dae1a1",
       "version_major": 2,
       "version_minor": 0
      },
      "text/plain": [
       "  0%|          | 0/4 [00:00<?, ?it/s]"
      ]
     },
     "metadata": {},
     "output_type": "display_data"
    },
    {
     "name": "stdout",
     "output_type": "stream",
     "text": [
      "+---------+---------+---------+---------+----------------------------+\n",
      "| q1m2    | q3m2    | q2m2    | q0m2    |   phi(q1m2,q3m2,q2m2,q0m2) |\n",
      "+=========+=========+=========+=========+============================+\n",
      "| q1m2(0) | q3m2(0) | q2m2(0) | q0m2(0) |             0.5000+0.0000j |\n",
      "+---------+---------+---------+---------+----------------------------+\n",
      "| q1m2(0) | q3m2(0) | q2m2(0) | q0m2(1) |             0.0000+0.0000j |\n",
      "+---------+---------+---------+---------+----------------------------+\n",
      "| q1m2(0) | q3m2(0) | q2m2(1) | q0m2(0) |             0.0000+0.0000j |\n",
      "+---------+---------+---------+---------+----------------------------+\n",
      "| q1m2(0) | q3m2(0) | q2m2(1) | q0m2(1) |             0.0000+0.0000j |\n",
      "+---------+---------+---------+---------+----------------------------+\n",
      "| q1m2(0) | q3m2(1) | q2m2(0) | q0m2(0) |             0.0000+0.0000j |\n",
      "+---------+---------+---------+---------+----------------------------+\n",
      "| q1m2(0) | q3m2(1) | q2m2(0) | q0m2(1) |             0.0000+0.0000j |\n",
      "+---------+---------+---------+---------+----------------------------+\n",
      "| q1m2(0) | q3m2(1) | q2m2(1) | q0m2(0) |             0.0000+0.0000j |\n",
      "+---------+---------+---------+---------+----------------------------+\n",
      "| q1m2(0) | q3m2(1) | q2m2(1) | q0m2(1) |             0.5000+0.0000j |\n",
      "+---------+---------+---------+---------+----------------------------+\n",
      "| q1m2(1) | q3m2(0) | q2m2(0) | q0m2(0) |             0.0000+0.0000j |\n",
      "+---------+---------+---------+---------+----------------------------+\n",
      "| q1m2(1) | q3m2(0) | q2m2(0) | q0m2(1) |             0.5000+0.0000j |\n",
      "+---------+---------+---------+---------+----------------------------+\n",
      "| q1m2(1) | q3m2(0) | q2m2(1) | q0m2(0) |             0.0000+0.0000j |\n",
      "+---------+---------+---------+---------+----------------------------+\n",
      "| q1m2(1) | q3m2(0) | q2m2(1) | q0m2(1) |             0.0000+0.0000j |\n",
      "+---------+---------+---------+---------+----------------------------+\n",
      "| q1m2(1) | q3m2(1) | q2m2(0) | q0m2(0) |             0.0000+0.0000j |\n",
      "+---------+---------+---------+---------+----------------------------+\n",
      "| q1m2(1) | q3m2(1) | q2m2(0) | q0m2(1) |             0.0000+0.0000j |\n",
      "+---------+---------+---------+---------+----------------------------+\n",
      "| q1m2(1) | q3m2(1) | q2m2(1) | q0m2(0) |             0.5000+0.0000j |\n",
      "+---------+---------+---------+---------+----------------------------+\n",
      "| q1m2(1) | q3m2(1) | q2m2(1) | q0m2(1) |             0.0000+0.0000j |\n",
      "+---------+---------+---------+---------+----------------------------+\n"
     ]
    },
    {
     "name": "stderr",
     "output_type": "stream",
     "text": [
      "C:\\Users\\masch\\Quantum Computing\\pgmpy\\pgmpy\\pgmpy\\pgmpy\\extern\\tabulate.py:282: ComplexWarning: Casting complex values to real discards the imaginary part\n",
      "  n = conv(string)\n"
     ]
    }
   ],
   "source": [
    "from pgmpy.models import BayesianNetwork\n",
    "from pgmpy.factors.discrete.CPD import TabularCPD\n",
    "import numpy as np\n",
    "from pgmpy.inference import VariableElimination\n",
    "from pgmpy.inference import BeliefPropagation\n",
    "\n",
    "#Nodes and Edges\n",
    "simon = BayesianNetwork([('q0m0', 'q0m1'), ('q0m1', 'q0m2'), ('q1m0', 'q1m1'), ('q1m1', 'q1m2'),\\\n",
    "                         ('q2m0', 'q2m1'), ('q2m1', 'q2m2'), ('q3m0', 'q3m1'), ('q3m1', 'q3m2'),\\\n",
    "                         ('q0m1', 'q2m2'), ('q0m1', 'q3m2'), ('q1m1', 'q2m2'), ('q1m1', 'q3m2')])\n",
    "#Starting Nodes\n",
    "cpd_q0m0 = TabularCPD(variable = 'q0m0', variable_card = 2, values = [[0], [1]])\n",
    "cpd_q1m0 = TabularCPD(variable = 'q1m0', variable_card = 2, values = [[0], [1]])\n",
    "cpd_q2m0 = TabularCPD(variable = 'q2m0', variable_card = 2, values = [[0], [1]])\n",
    "cpd_q3m0 = TabularCPD(variable = 'q3m0', variable_card = 2, values = [[0], [1]])\n",
    "#After Applying Hadamard Gate\n",
    "cpd_q0m1 = TabularCPD(variable='q0m1', variable_card = 2,\\\n",
    "                      values = [[1/np.sqrt(2), 1/np.sqrt(2)], [1/np.sqrt(2), -1/np.sqrt(2)]],\\\n",
    "                      evidence = ['q0m0'], evidence_card = [2])\n",
    "cpd_q1m1 = TabularCPD(variable='q1m1', variable_card = 2,\\\n",
    "                      values = [[1/np.sqrt(2), 1/np.sqrt(2)], [1/np.sqrt(2), -1/np.sqrt(2)]],\\\n",
    "                      evidence = ['q1m0'], evidence_card = [2])\n",
    "cpd_q2m1 = TabularCPD(variable='q2m1', variable_card = 2,\\\n",
    "                      values = [[1, 0], [0, 1]], evidence = ['q2m0'], evidence_card = [2])\n",
    "cpd_q3m1 = TabularCPD(variable='q3m1', variable_card = 2,\\\n",
    "                      values = [[1, 0], [0, 1]], evidence = ['q3m0'], evidence_card = [2])\n",
    "#After Applying Function f(00)=f(11)=00, f(01)=f(10)=11\n",
    "cpd_q0m2 = TabularCPD(variable='q0m2', variable_card = 2, values = [[1, 0], [0, 1]],\\\n",
    "                      evidence = ['q0m1'], evidence_card = [2])\n",
    "cpd_q1m2 = TabularCPD(variable='q1m2', variable_card = 2, values = [[1, 0], [0, 1]],\\\n",
    "                      evidence = ['q1m1'], evidence_card = [2])\n",
    "cpd_q2m2 = TabularCPD(variable='q2m2', variable_card = 2, values = [[1,0,0,1,0,1,1,0],[0,1,1,0,1,0,0,1]],\\\n",
    "                      evidence = ['q0m1', 'q1m1', 'q2m1'], evidence_card = [2,2,2])\n",
    "cpd_q3m2 = TabularCPD(variable='q3m2', variable_card = 2, values = [[1,0,0,1,0,1,1,0],[0,1,1,0,1,0,0,1]],\\\n",
    "                      evidence = ['q0m1', 'q1m1', 'q3m1'], evidence_card = [2,2,2])\n",
    "#Check Amplitudes so far\n",
    "#Expected result: 0.5|0000> + 0.5|0111> + 0.5|1011> + 0.5|1100>\n",
    "simon.add_cpds(cpd_q0m0, cpd_q1m0, cpd_q2m0, cpd_q3m0,\\\n",
    "               cpd_q0m1, cpd_q1m1, cpd_q2m1, cpd_q3m1, cpd_q0m2, cpd_q1m2, cpd_q2m2, cpd_q3m2)\n",
    "simonInfer = VariableElimination(simon)\n",
    "\n",
    "q = simonInfer.query(['q0m2', 'q1m2', 'q2m2', 'q3m2'], evidence = {'q0m0': 0, 'q1m0': 0, 'q2m0': 0, 'q3m0': 0})\n",
    "print(q)"
   ]
  },
  {
   "cell_type": "code",
   "execution_count": 9,
   "id": "8dd0c737",
   "metadata": {},
   "outputs": [
    {
     "data": {
      "application/vnd.jupyter.widget-view+json": {
       "model_id": "40364c368e3f46818b2f09412df1a64a",
       "version_major": 2,
       "version_minor": 0
      },
      "text/plain": [
       "  0%|          | 0/8 [00:00<?, ?it/s]"
      ]
     },
     "metadata": {},
     "output_type": "display_data"
    },
    {
     "data": {
      "application/vnd.jupyter.widget-view+json": {
       "model_id": "0902a6ce58a04f0aa3392fbc15ff672e",
       "version_major": 2,
       "version_minor": 0
      },
      "text/plain": [
       "  0%|          | 0/8 [00:00<?, ?it/s]"
      ]
     },
     "metadata": {},
     "output_type": "display_data"
    },
    {
     "data": {
      "application/vnd.jupyter.widget-view+json": {
       "model_id": "ca659b8512754b49b4a84b479349089c",
       "version_major": 2,
       "version_minor": 0
      },
      "text/plain": [
       "  0%|          | 0/8 [00:00<?, ?it/s]"
      ]
     },
     "metadata": {},
     "output_type": "display_data"
    },
    {
     "data": {
      "application/vnd.jupyter.widget-view+json": {
       "model_id": "f48caff31fbe474087ee150f41ae6882",
       "version_major": 2,
       "version_minor": 0
      },
      "text/plain": [
       "  0%|          | 0/8 [00:00<?, ?it/s]"
      ]
     },
     "metadata": {},
     "output_type": "display_data"
    },
    {
     "name": "stdout",
     "output_type": "stream",
     "text": [
      "+---------+---------+---------+---------+----------------------------+\n",
      "| q3m6    | q1m6    | q0m6    | q2m6    |   phi(q3m6,q1m6,q0m6,q2m6) |\n",
      "+=========+=========+=========+=========+============================+\n",
      "| q3m6(0) | q1m6(0) | q0m6(0) | q2m6(0) |                     0.7071 |\n",
      "+---------+---------+---------+---------+----------------------------+\n",
      "| q3m6(0) | q1m6(0) | q0m6(0) | q2m6(1) |                     0.0000 |\n",
      "+---------+---------+---------+---------+----------------------------+\n",
      "| q3m6(0) | q1m6(0) | q0m6(1) | q2m6(0) |                     0.0000 |\n",
      "+---------+---------+---------+---------+----------------------------+\n",
      "| q3m6(0) | q1m6(0) | q0m6(1) | q2m6(1) |                     0.0000 |\n",
      "+---------+---------+---------+---------+----------------------------+\n",
      "| q3m6(0) | q1m6(1) | q0m6(0) | q2m6(0) |                     0.0000 |\n",
      "+---------+---------+---------+---------+----------------------------+\n",
      "| q3m6(0) | q1m6(1) | q0m6(0) | q2m6(1) |                     0.0000 |\n",
      "+---------+---------+---------+---------+----------------------------+\n",
      "| q3m6(0) | q1m6(1) | q0m6(1) | q2m6(0) |                     0.7071 |\n",
      "+---------+---------+---------+---------+----------------------------+\n",
      "| q3m6(0) | q1m6(1) | q0m6(1) | q2m6(1) |                     0.0000 |\n",
      "+---------+---------+---------+---------+----------------------------+\n",
      "| q3m6(1) | q1m6(0) | q0m6(0) | q2m6(0) |                     0.0000 |\n",
      "+---------+---------+---------+---------+----------------------------+\n",
      "| q3m6(1) | q1m6(0) | q0m6(0) | q2m6(1) |                     0.0000 |\n",
      "+---------+---------+---------+---------+----------------------------+\n",
      "| q3m6(1) | q1m6(0) | q0m6(1) | q2m6(0) |                     0.0000 |\n",
      "+---------+---------+---------+---------+----------------------------+\n",
      "| q3m6(1) | q1m6(0) | q0m6(1) | q2m6(1) |                     0.0000 |\n",
      "+---------+---------+---------+---------+----------------------------+\n",
      "| q3m6(1) | q1m6(1) | q0m6(0) | q2m6(0) |                     0.0000 |\n",
      "+---------+---------+---------+---------+----------------------------+\n",
      "| q3m6(1) | q1m6(1) | q0m6(0) | q2m6(1) |                     0.0000 |\n",
      "+---------+---------+---------+---------+----------------------------+\n",
      "| q3m6(1) | q1m6(1) | q0m6(1) | q2m6(0) |                     0.0000 |\n",
      "+---------+---------+---------+---------+----------------------------+\n",
      "| q3m6(1) | q1m6(1) | q0m6(1) | q2m6(1) |                     0.0000 |\n",
      "+---------+---------+---------+---------+----------------------------+\n",
      "+---------+---------+---------+---------+----------------------------+\n",
      "| q2m6    | q3m6    | q1m6    | q0m6    |   phi(q2m6,q3m6,q1m6,q0m6) |\n",
      "+=========+=========+=========+=========+============================+\n",
      "| q2m6(0) | q3m6(0) | q1m6(0) | q0m6(0) |                     0.0000 |\n",
      "+---------+---------+---------+---------+----------------------------+\n",
      "| q2m6(0) | q3m6(0) | q1m6(0) | q0m6(1) |                     0.0000 |\n",
      "+---------+---------+---------+---------+----------------------------+\n",
      "| q2m6(0) | q3m6(0) | q1m6(1) | q0m6(0) |                     0.0000 |\n",
      "+---------+---------+---------+---------+----------------------------+\n",
      "| q2m6(0) | q3m6(0) | q1m6(1) | q0m6(1) |                    -0.0000 |\n",
      "+---------+---------+---------+---------+----------------------------+\n",
      "| q2m6(0) | q3m6(1) | q1m6(0) | q0m6(0) |                     0.0000 |\n",
      "+---------+---------+---------+---------+----------------------------+\n",
      "| q2m6(0) | q3m6(1) | q1m6(0) | q0m6(1) |                     0.0000 |\n",
      "+---------+---------+---------+---------+----------------------------+\n",
      "| q2m6(0) | q3m6(1) | q1m6(1) | q0m6(0) |                     0.0000 |\n",
      "+---------+---------+---------+---------+----------------------------+\n",
      "| q2m6(0) | q3m6(1) | q1m6(1) | q0m6(1) |                    -0.0000 |\n",
      "+---------+---------+---------+---------+----------------------------+\n",
      "| q2m6(1) | q3m6(0) | q1m6(0) | q0m6(0) |                     0.0000 |\n",
      "+---------+---------+---------+---------+----------------------------+\n",
      "| q2m6(1) | q3m6(0) | q1m6(0) | q0m6(1) |                     0.0000 |\n",
      "+---------+---------+---------+---------+----------------------------+\n",
      "| q2m6(1) | q3m6(0) | q1m6(1) | q0m6(0) |                     0.0000 |\n",
      "+---------+---------+---------+---------+----------------------------+\n",
      "| q2m6(1) | q3m6(0) | q1m6(1) | q0m6(1) |                    -0.0000 |\n",
      "+---------+---------+---------+---------+----------------------------+\n",
      "| q2m6(1) | q3m6(1) | q1m6(0) | q0m6(0) |                     0.7071 |\n",
      "+---------+---------+---------+---------+----------------------------+\n",
      "| q2m6(1) | q3m6(1) | q1m6(0) | q0m6(1) |                     0.0000 |\n",
      "+---------+---------+---------+---------+----------------------------+\n",
      "| q2m6(1) | q3m6(1) | q1m6(1) | q0m6(0) |                     0.0000 |\n",
      "+---------+---------+---------+---------+----------------------------+\n",
      "| q2m6(1) | q3m6(1) | q1m6(1) | q0m6(1) |                    -0.7071 |\n",
      "+---------+---------+---------+---------+----------------------------+\n"
     ]
    }
   ],
   "source": [
    "simon2 = BayesianNetwork([('q0m3', 'q0m4'), ('q1m3', 'q1m4'), ('q2m3', 'q2m4'), ('q3m3', 'q3m4'), ('q0m4', 'q0m5'), ('q0m4', 'q1m5'), ('q1m4', 'q1m5'), ('q2m4', 'q2m5'), ('q3m4', 'q3m5'), ('q0m5', 'q0m6'), ('q1m5', 'q1m6'), ('q2m5', 'q2m6'), ('q3m5', 'q3m6')])\n",
    "#Moments 3 and 4 Prepare qubits 0,1 into bell states, for preperation only\n",
    "#Moment 5 picks up where moment 2 left off, after the measurement\n",
    "cpd_q0m3 = TabularCPD(variable = 'q0m3', variable_card = 2, values = [[0], [1]])\n",
    "cpd_q1m3 = TabularCPD(variable = 'q1m3', variable_card = 2, values = [[0], [1]])\n",
    "cpd_q2m3 = TabularCPD(variable = 'q2m3', variable_card = 2, values = [[0], [1]])\n",
    "cpd_q3m3 = TabularCPD(variable = 'q3m3', variable_card = 2, values = [[0], [1]])\n",
    "cpd_q0m4 = TabularCPD(variable='q0m4', variable_card = 2,\\\n",
    "                      values = [[1/np.sqrt(2), 1/np.sqrt(2)], [1/np.sqrt(2), -1/np.sqrt(2)]],\\\n",
    "                      evidence = ['q0m3'], evidence_card = [2])\n",
    "cpd_q1m4 = TabularCPD(variable='q1m4', variable_card = 2, values = [[1, 0], [0, 1]], evidence = ['q1m3'],\\\n",
    "                      evidence_card = [2])\n",
    "cpd_q2m4 = TabularCPD(variable='q2m4', variable_card = 2, values = [[1, 0], [0, 1]], evidence = ['q2m3'],\\\n",
    "                      evidence_card = [2])\n",
    "cpd_q3m4 = TabularCPD(variable='q3m4', variable_card = 2, values = [[1, 0], [0, 1]], evidence = ['q3m3'],\\\n",
    "                      evidence_card = [2])\n",
    "#After Measurement of qubits 2, 3\n",
    "cpd_q0m5 = TabularCPD(variable='q0m5', variable_card = 2, values = [[1, 0], [0, 1]], evidence = ['q0m4'],\\\n",
    "                      evidence_card = [2])\n",
    "cpd_q1m5 = TabularCPD(variable='q1m5', variable_card = 2, values = [[1, 0, 0, 1], [0, 1, 1, 0]],\\\n",
    "                      evidence = ['q0m4', 'q1m4'], evidence_card = [2,2])\n",
    "cpd_q2m5 = TabularCPD(variable='q2m5', variable_card = 2, values = [[1, 0], [0, 1]], evidence = ['q2m4'],\\\n",
    "                      evidence_card = [2])\n",
    "cpd_q3m5 = TabularCPD(variable='q3m5', variable_card = 2, values = [[1, 0], [0, 1]], evidence = ['q3m4'],\\\n",
    "                      evidence_card = [2])\n",
    "#After Hadamard Gates\n",
    "cpd_q0m6 = TabularCPD(variable='q0m6', variable_card = 2,\\\n",
    "                      values = [[1/np.sqrt(2), 1/np.sqrt(2)], [1/np.sqrt(2), -1/np.sqrt(2)]],\\\n",
    "                      evidence = ['q0m5'], evidence_card = [2])\n",
    "cpd_q1m6 = TabularCPD(variable='q1m6', variable_card = 2,\\\n",
    "                      values = [[1/np.sqrt(2), 1/np.sqrt(2)], [1/np.sqrt(2), -1/np.sqrt(2)]],\\\n",
    "                      evidence = ['q1m5'], evidence_card = [2])\n",
    "cpd_q2m6 = TabularCPD(variable='q2m6', variable_card = 2, values = [[1, 0], [0, 1]], evidence = ['q2m5'],\\\n",
    "                      evidence_card = [2])\n",
    "cpd_q3m6 = TabularCPD(variable='q3m6', variable_card = 2, values = [[1, 0], [0, 1]], evidence = ['q3m5'],\\\n",
    "                      evidence_card = [2])\n",
    "#Check Final Amplitudes\n",
    "#If |q2q3> = |00>, then |q0q1> = 1/sqrt(2)*|00> + 1/sqrt(2)*|11>\n",
    "#If |q2q3> = |11>, then |q0q1> = 1/sqrt(2)*|00> - 1/sqrt(2)*|11>\n",
    "simon2.add_cpds(cpd_q0m3, cpd_q1m3, cpd_q2m3, cpd_q3m3, cpd_q0m4, cpd_q1m4, cpd_q2m4, cpd_q3m4,\\\n",
    "                cpd_q0m5, cpd_q1m5, cpd_q2m5, cpd_q3m5, cpd_q0m6, cpd_q1m6, cpd_q2m6, cpd_q3m6)\n",
    "simon2Infer = VariableElimination(simon2)\n",
    "q = simon2Infer.query(['q0m6', 'q1m6', 'q2m6', 'q3m6'], evidence = {'q0m3': 0, 'q1m3': 0, 'q2m3': 0, 'q3m3': 0})\n",
    "q1 = simon2Infer.query(['q0m6', 'q1m6', 'q2m6', 'q3m6'], evidence = {'q0m3': 0, 'q1m3': 1, 'q2m3': 1, 'q3m3': 1})\n",
    "print(q)\n",
    "print(q1)"
   ]
  },
  {
   "cell_type": "code",
   "execution_count": null,
   "id": "b2905436",
   "metadata": {},
   "outputs": [],
   "source": []
  },
  {
   "cell_type": "code",
   "execution_count": null,
   "id": "f8c4a767",
   "metadata": {},
   "outputs": [],
   "source": []
  }
 ],
 "metadata": {
  "kernelspec": {
   "display_name": "Python 3",
   "language": "python",
   "name": "python3"
  },
  "language_info": {
   "codemirror_mode": {
    "name": "ipython",
    "version": 3
   },
   "file_extension": ".py",
   "mimetype": "text/x-python",
   "name": "python",
   "nbconvert_exporter": "python",
   "pygments_lexer": "ipython3",
   "version": "3.8.8"
  }
 },
 "nbformat": 4,
 "nbformat_minor": 5
}
