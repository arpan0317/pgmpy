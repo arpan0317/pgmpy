{
 "cells": [
  {
   "cell_type": "code",
   "execution_count": 1,
   "id": "b76fe28a",
   "metadata": {},
   "outputs": [
    {
     "data": {
      "text/plain": [
       "'\\nIn this notebook, the bell state circuit and deutsch algorithm will be modeled using both IBM Qiskit and pgmpy.\\nThe results are compared at the end.\\n'"
      ]
     },
     "execution_count": 1,
     "metadata": {},
     "output_type": "execute_result"
    }
   ],
   "source": [
    "\"\"\"\n",
    "In this notebook, the bell state circuit and deutsch algorithm will be modeled using both IBM Qiskit and pgmpy.\n",
    "The results are compared at the end.\n",
    "\"\"\""
   ]
  },
  {
   "cell_type": "code",
   "execution_count": 1,
   "id": "9e3c45a6",
   "metadata": {},
   "outputs": [
    {
     "data": {
      "text/html": [
       "<pre style=\"word-wrap: normal;white-space: pre;background: #fff0;line-height: 1.1;font-family: &quot;Courier New&quot;,Courier,monospace\">      ░ ┌───┐      ░ \n",
       "q_0: ─░─┤ H ├──■───░─\n",
       "      ░ └───┘┌─┴─┐ ░ \n",
       "q_1: ─░──────┤ X ├─░─\n",
       "      ░      └───┘ ░ \n",
       "c: 2/════════════════\n",
       "                     </pre>"
      ],
      "text/plain": [
       "      ░ ┌───┐      ░ \n",
       "q_0: ─░─┤ H ├──■───░─\n",
       "      ░ └───┘┌─┴─┐ ░ \n",
       "q_1: ─░──────┤ X ├─░─\n",
       "      ░      └───┘ ░ \n",
       "c: 2/════════════════\n",
       "                     "
      ]
     },
     "execution_count": 1,
     "metadata": {},
     "output_type": "execute_result"
    }
   ],
   "source": [
    "# Imports (some imports are probably not necessary)\n",
    "import numpy as np\n",
    "from qiskit import IBMQ, Aer\n",
    "from qiskit.providers.ibmq import least_busy\n",
    "from qiskit import QuantumCircuit, assemble, transpile\n",
    "from qiskit.visualization import plot_histogram\n",
    "import qiskit.quantum_info as qi\n",
    "\n",
    "# Here, we construct the bell state circuit using Qiskit\n",
    "# The bit input string allows us to choose an initialization of either |00>, |01>, |10>, or |11>\n",
    "inputString = \"00\"\n",
    "\n",
    "circ = QuantumCircuit(2,2)\n",
    "if(inputString == \"01\"):\n",
    "    circ.x(1)\n",
    "elif(inputString == \"10\"):\n",
    "    circ.x(0)\n",
    "elif(inputString == \"11\"):\n",
    "    circ.x(0)\n",
    "    circ.x(1)\n",
    "\n",
    "# The rest of the circuit transforms the qubits into a bell state pair\n",
    "circ.barrier()\n",
    "circ.h(0)\n",
    "circ.cx(0,1)\n",
    "circ.barrier()\n",
    "circ.draw()"
   ]
  },
  {
   "cell_type": "code",
   "execution_count": 6,
   "id": "a0e98d5c",
   "metadata": {},
   "outputs": [],
   "source": [
    "import sys\n",
    "sys.path.insert(0, 'C:\\\\Users\\\\arpan\\\\Desktop\\\\Aresty_Quantum_Git\\\\pgmpy\\\\pgmpy')"
   ]
  },
  {
   "cell_type": "code",
   "execution_count": 9,
   "id": "845d0e3f",
   "metadata": {},
   "outputs": [
    {
     "ename": "ValueError",
     "evalue": "Sum or integral of conditional probabilites for node q0m0 is not equal to 1.",
     "output_type": "error",
     "traceback": [
      "\u001b[1;31m---------------------------------------------------------------------------\u001b[0m",
      "\u001b[1;31mValueError\u001b[0m                                Traceback (most recent call last)",
      "Input \u001b[1;32mIn [9]\u001b[0m, in \u001b[0;36m<cell line: 17>\u001b[1;34m()\u001b[0m\n\u001b[0;32m     14\u001b[0m     cpd_q0m1 \u001b[38;5;241m=\u001b[39m TabularCPD(variable\u001b[38;5;241m=\u001b[39m\u001b[38;5;124m'\u001b[39m\u001b[38;5;124mq0m1\u001b[39m\u001b[38;5;124m'\u001b[39m, variable_card \u001b[38;5;241m=\u001b[39m \u001b[38;5;241m4\u001b[39m, values \u001b[38;5;241m=\u001b[39m [[\u001b[38;5;241m1\u001b[39m, \u001b[38;5;241m0\u001b[39m, \u001b[38;5;241m0\u001b[39m, \u001b[38;5;241m0\u001b[39m], [\u001b[38;5;241m0\u001b[39m, \u001b[38;5;241m1\u001b[39m\u001b[38;5;241m/\u001b[39msqrt(\u001b[38;5;241m2\u001b[39m), \u001b[38;5;241m1\u001b[39m\u001b[38;5;241m/\u001b[39msqrt(\u001b[38;5;241m2\u001b[39m), \u001b[38;5;241m0\u001b[39m], [\u001b[38;5;241m0\u001b[39m, \u001b[38;5;241m-\u001b[39m\u001b[38;5;241m1\u001b[39m\u001b[38;5;241m/\u001b[39msqrt(\u001b[38;5;241m2\u001b[39m), \u001b[38;5;241m1\u001b[39m\u001b[38;5;241m/\u001b[39msqrt(\u001b[38;5;241m2\u001b[39m), \u001b[38;5;241m0\u001b[39m], [\u001b[38;5;241m0\u001b[39m, \u001b[38;5;241m0\u001b[39m, \u001b[38;5;241m0\u001b[39m, \u001b[38;5;241m0\u001b[39m]], evidence \u001b[38;5;241m=\u001b[39m [\u001b[38;5;124m'\u001b[39m\u001b[38;5;124mq0m0\u001b[39m\u001b[38;5;124m'\u001b[39m], evidence_card \u001b[38;5;241m=\u001b[39m [\u001b[38;5;241m4\u001b[39m])\n\u001b[0;32m     16\u001b[0m     bellState\u001b[38;5;241m.\u001b[39madd_cpds(cpd_q0m0, cpd_q0m1)\n\u001b[1;32m---> 17\u001b[0m bellStateInfer \u001b[38;5;241m=\u001b[39m \u001b[43mVariableElimination\u001b[49m\u001b[43m(\u001b[49m\u001b[43mbellState\u001b[49m\u001b[43m)\u001b[49m\n\u001b[0;32m     18\u001b[0m q1 \u001b[38;5;241m=\u001b[39m bellStateInfer\u001b[38;5;241m.\u001b[39mquery([\u001b[38;5;124m'\u001b[39m\u001b[38;5;124mq0m1\u001b[39m\u001b[38;5;124m'\u001b[39m])\n\u001b[0;32m     20\u001b[0m \u001b[38;5;28mprint\u001b[39m(q1)\n",
      "File \u001b[1;32m~\\Desktop\\Aresty_Quantum_Git\\pgmpy\\pgmpy\\pgmpy\\inference\\base.py:65\u001b[0m, in \u001b[0;36mInference.__init__\u001b[1;34m(self, model)\u001b[0m\n\u001b[0;32m     63\u001b[0m \u001b[38;5;28;01mdef\u001b[39;00m \u001b[38;5;21m__init__\u001b[39m(\u001b[38;5;28mself\u001b[39m, model):\n\u001b[0;32m     64\u001b[0m     \u001b[38;5;28mself\u001b[39m\u001b[38;5;241m.\u001b[39mmodel \u001b[38;5;241m=\u001b[39m model\n\u001b[1;32m---> 65\u001b[0m     \u001b[43mmodel\u001b[49m\u001b[38;5;241;43m.\u001b[39;49m\u001b[43mcheck_model\u001b[49m\u001b[43m(\u001b[49m\u001b[43m)\u001b[49m\n\u001b[0;32m     67\u001b[0m     \u001b[38;5;28;01mif\u001b[39;00m \u001b[38;5;28misinstance\u001b[39m(\u001b[38;5;28mself\u001b[39m\u001b[38;5;241m.\u001b[39mmodel, JunctionTree):\n\u001b[0;32m     68\u001b[0m         \u001b[38;5;28mself\u001b[39m\u001b[38;5;241m.\u001b[39mvariables \u001b[38;5;241m=\u001b[39m \u001b[38;5;28mset\u001b[39m(chain(\u001b[38;5;241m*\u001b[39m\u001b[38;5;28mself\u001b[39m\u001b[38;5;241m.\u001b[39mmodel\u001b[38;5;241m.\u001b[39mnodes()))\n",
      "File \u001b[1;32m~\\Desktop\\Aresty_Quantum_Git\\pgmpy\\pgmpy\\pgmpy\\models\\BayesianNetwork.py:423\u001b[0m, in \u001b[0;36mBayesianNetwork.check_model\u001b[1;34m(self)\u001b[0m\n\u001b[0;32m    421\u001b[0m \u001b[38;5;66;03m# Check if the values of the CPD sum to 1.\u001b[39;00m\n\u001b[0;32m    422\u001b[0m \u001b[38;5;28;01mif\u001b[39;00m \u001b[38;5;129;01mnot\u001b[39;00m cpd\u001b[38;5;241m.\u001b[39mis_valid_cpd():\n\u001b[1;32m--> 423\u001b[0m     \u001b[38;5;28;01mraise\u001b[39;00m \u001b[38;5;167;01mValueError\u001b[39;00m(\n\u001b[0;32m    424\u001b[0m         \u001b[38;5;124mf\u001b[39m\u001b[38;5;124m\"\u001b[39m\u001b[38;5;124mSum or integral of conditional probabilites for node \u001b[39m\u001b[38;5;132;01m{\u001b[39;00mnode\u001b[38;5;132;01m}\u001b[39;00m\u001b[38;5;124m is not equal to 1.\u001b[39m\u001b[38;5;124m\"\u001b[39m\n\u001b[0;32m    425\u001b[0m     )\n\u001b[0;32m    427\u001b[0m \u001b[38;5;28;01mif\u001b[39;00m \u001b[38;5;28mlen\u001b[39m(\u001b[38;5;28mset\u001b[39m(cpd\u001b[38;5;241m.\u001b[39mvariables) \u001b[38;5;241m-\u001b[39m \u001b[38;5;28mset\u001b[39m(cpd\u001b[38;5;241m.\u001b[39mstate_names\u001b[38;5;241m.\u001b[39mkeys())) \u001b[38;5;241m>\u001b[39m \u001b[38;5;241m0\u001b[39m:\n\u001b[0;32m    428\u001b[0m     \u001b[38;5;28;01mraise\u001b[39;00m \u001b[38;5;167;01mValueError\u001b[39;00m(\n\u001b[0;32m    429\u001b[0m         \u001b[38;5;124m\"\u001b[39m\u001b[38;5;124mCPD for \u001b[39m\u001b[38;5;132;01m{node}\u001b[39;00m\u001b[38;5;124m doesn\u001b[39m\u001b[38;5;124m'\u001b[39m\u001b[38;5;124mt have state names defined for all the variables.\u001b[39m\u001b[38;5;124m\"\u001b[39m\n\u001b[0;32m    430\u001b[0m     )\n",
      "\u001b[1;31mValueError\u001b[0m: Sum or integral of conditional probabilites for node q0m0 is not equal to 1."
     ]
    }
   ],
   "source": [
    "from pgmpy.models import BayesianNetwork\n",
    "from pgmpy.factors.discrete.CPD import TabularCPD\n",
    "import numpy as np\n",
    "from pgmpy.inference import VariableElimination\n",
    "from math import sqrt\n",
    "\n",
    "\n",
    "\n",
    "bellState = BayesianNetwork([('q0m0', 'q0m1')])\n",
    "\n",
    "if(inputString == \"00\"):\n",
    "    cpd_q0m0 = TabularCPD(variable = 'q0m0', variable_card = 4, values = [[1/2], [0], [0], [1/2]])#, state_names={'q0m0': ['I', 'X', 'Y', 'Z']})\n",
    "    \n",
    "    cpd_q0m1 = TabularCPD(variable='q0m1', variable_card = 4, values = [[1, 0, 0, 0], [0, 1/sqrt(2), 1/sqrt(2), 0], [0, -1/sqrt(2), 1/sqrt(2), 0], [0, 0, 0, 0]], evidence = ['q0m0'], evidence_card = [4])\n",
    "    \n",
    "    bellState.add_cpds(cpd_q0m0, cpd_q0m1)\n",
    "bellStateInfer = VariableElimination(bellState)\n",
    "q1 = bellStateInfer.query(['q0m1'])\n",
    "\n",
    "print(q1)\n",
    "\n",
    "q1Vars = q1.variables\n",
    "q1Values = q1.values\n",
    "\n",
    "print(q1Vars)\n",
    "print(q1Values)\n"
   ]
  },
  {
   "cell_type": "code",
   "execution_count": 3,
   "id": "5436e7ae",
   "metadata": {},
   "outputs": [
    {
     "name": "stdout",
     "output_type": "stream",
     "text": [
      "[ 0.70710678+0.j  0.        +0.j  0.        +0.j -0.70710678+0.j]\n",
      "[[ 0.5+0.j  0. +0.j  0. +0.j -0.5+0.j]\n",
      " [ 0. +0.j  0. +0.j  0. +0.j  0. +0.j]\n",
      " [ 0. +0.j  0. +0.j  0. +0.j  0. +0.j]\n",
      " [-0.5+0.j  0. +0.j  0. +0.j  0.5+0.j]]\n"
     ]
    }
   ],
   "source": [
    "# Here, we obtain the state vector for the system after the cx gate\n",
    "BellState = qi.Statevector.from_instruction(circ)\n",
    "BellStateVec = BellState.__array__()\n",
    "BellStateDM = (qi.DensityMatrix.from_instruction(circ)).__array__()\n",
    "\n",
    "# The format of the state vector is [|00>, |10>, |01>, |11>]\n",
    "print(BellStateVec)\n",
    "print(BellStateDM)"
   ]
  },
  {
   "cell_type": "code",
   "execution_count": 4,
   "id": "a6352c27",
   "metadata": {},
   "outputs": [
    {
     "data": {
      "application/vnd.jupyter.widget-view+json": {
       "model_id": "e795c11610e8470498b1bcc43a041bc7",
       "version_major": 2,
       "version_minor": 0
      },
      "text/plain": [
       "  0%|          | 0/4 [00:00<?, ?it/s]"
      ]
     },
     "metadata": {},
     "output_type": "display_data"
    },
    {
     "data": {
      "application/vnd.jupyter.widget-view+json": {
       "model_id": "4c3d0190a6d146c39b7ffed569c56999",
       "version_major": 2,
       "version_minor": 0
      },
      "text/plain": [
       "  0%|          | 0/4 [00:00<?, ?it/s]"
      ]
     },
     "metadata": {},
     "output_type": "display_data"
    },
    {
     "name": "stdout",
     "output_type": "stream",
     "text": [
      "+---------+---------+------------------+\n",
      "| q0m2    | q1m2    |   phi(q0m2,q1m2) |\n",
      "+=========+=========+==================+\n",
      "| q0m2(0) | q1m2(0) |   0.7071+0.0000j |\n",
      "+---------+---------+------------------+\n",
      "| q0m2(0) | q1m2(1) |   0.0000+0.0000j |\n",
      "+---------+---------+------------------+\n",
      "| q0m2(1) | q1m2(0) |   0.0000+0.0000j |\n",
      "+---------+---------+------------------+\n",
      "| q0m2(1) | q1m2(1) |  -0.7071+0.0000j |\n",
      "+---------+---------+------------------+\n"
     ]
    },
    {
     "name": "stderr",
     "output_type": "stream",
     "text": [
      "C:\\Users\\masch\\Quantum Computing\\QComp\\pgmpy\\pgmpy\\extern\\tabulate.py:282: ComplexWarning: Casting complex values to real discards the imaginary part\n",
      "  n = conv(string)\n"
     ]
    }
   ],
   "source": [
    "# Here, we model the bell state circuit using pgmpy\n",
    "\n",
    "# Comment out these lines\n",
    "import sys\n",
    "sys.path.insert(0, 'C:\\\\Users\\\\masch\\\\QuantumComputing\\\\QComp\\\\pgmpy')\n",
    "\n",
    "# Imports \n",
    "from pgmpy.models import BayesianNetwork\n",
    "from pgmpy.factors.discrete.CPD import TabularCPD\n",
    "import numpy as np\n",
    "from pgmpy.inference import VariableElimination\n",
    "\n",
    "\n",
    "# Initialize Bayesian Network representing bell state circuit\n",
    "# Each random variable is labeled qXmY, which represents the state of qubit qX at moment Y.\n",
    "# The moments match with the circuit diagram in cell 2, starting with moment 0, 1, 2, etc.\n",
    "# Links between random variables are present if their is a dependence between the qubit states.\n",
    "bellState = BayesianNetwork([('q0m0', 'q0m1'), ('q0m1', 'q0m2'), ('q1m0', 'q1m1'), ('q1m1', 'q1m2'), ('q0m1', 'q1m2')])\n",
    "\n",
    "\"\"\"\n",
    "Conditional Amplitude Distribution (CAD) for each qubit state\n",
    "For this circuit, each CAD consists of: \n",
    "    variable name (qubit state, see above). For instance, q0m1\n",
    "    variable cardinality (always 2, representing amplitudes for |0> and |1> for the qubit state of interest)\n",
    "    values - consists of a list of two lists [[...],[...]], the first list corresponds to |0>, the second to |1>\n",
    "        For the first list, the entries correspond to the resulting state of the qubit state of interest, given\n",
    "        a certain input state of evidence variables (in this case, previous qubit states).\n",
    "        \n",
    "(for q0m1): If the evidence is one qubit state q0m0, the values entry is:\n",
    "    [[A(|q0m1> = |0> given |q0m0> = |0>,    A(|q0m1> = |0> given |q0m0> = |1>)], [A(|q0m1> = |1> given |q0m0> = |0>,    A(|q0m1> = |1> given |q0m0> = |1>)]\n",
    "    \n",
    "    evidence (list of qubit states for which the current qubit state depends on)\n",
    "    evidence cardinality (list of 2s, based upon how many evidence qubits there are)\n",
    "\"\"\"\n",
    "# Initialization\n",
    "if(inputString == \"00\"):\n",
    "    cpd_q0m0 = TabularCPD(variable = 'q0m0', variable_card = 2, values = [[1], [0]])\n",
    "    cpd_q1m0 = TabularCPD(variable = 'q1m0', variable_card = 2, values = [[1], [0]])\n",
    "elif(inputString == \"01\"):\n",
    "    cpd_q0m0 = TabularCPD(variable = 'q0m0', variable_card = 2, values = [[1], [0]])\n",
    "    cpd_q1m0 = TabularCPD(variable = 'q1m0', variable_card = 2, values = [[0], [1]])\n",
    "elif(inputString == \"10\"):\n",
    "    cpd_q0m0 = TabularCPD(variable = 'q0m0', variable_card = 2, values = [[0], [1]])\n",
    "    cpd_q1m0 = TabularCPD(variable = 'q1m0', variable_card = 2, values = [[1], [0]])\n",
    "elif(inputString == \"11\"):\n",
    "    cpd_q0m0 = TabularCPD(variable = 'q0m0', variable_card = 2, values = [[0], [1]])\n",
    "    cpd_q1m0 = TabularCPD(variable = 'q1m0', variable_card = 2, values = [[0], [1]])\n",
    "elif(inputString == \"custom\"):\n",
    "    cpd_q0m0 = TabularCPD(variable = 'q0m0', variable_card = 2, values = [[1j], [0]])\n",
    "    cpd_q1m0 = TabularCPD(variable = 'q1m0', variable_card = 2, values = [[1/np.sqrt(2)], [-1j/np.sqrt(2)]])\n",
    "\n",
    "cpd_q0m1 = TabularCPD(variable='q0m1', variable_card = 2, values = [[1/np.sqrt(2), 1/np.sqrt(2)], [1/np.sqrt(2), -1/np.sqrt(2)]], evidence = ['q0m0'], evidence_card = [2])\n",
    "cpd_q1m1 = TabularCPD(variable = 'q1m1', variable_card = 2, values = [[1, 0], [0,1]], evidence = ['q1m0'], evidence_card = [2])\n",
    "cpd_q1m2 = TabularCPD(variable='q1m2', variable_card = 2, values = [[1,0,0,1], [0,1,1,0]], evidence = ['q0m1', 'q1m1'], evidence_card = [2,2])\n",
    "cpd_q0m2 = TabularCPD(variable='q0m2', variable_card = 2, values = [[1, 0], [0, 1]], evidence = ['q0m1'], evidence_card = [2])\n",
    "\n",
    "\n",
    "# Add the CADs to the Bayesian Network, and perform variable elimination to simulate the circuit.\n",
    "bellState.add_cpds(cpd_q0m0, cpd_q1m0, cpd_q0m1, cpd_q0m2, cpd_q1m2, cpd_q1m1)\n",
    "bellStateInfer = VariableElimination(bellState)\n",
    "q1 = bellStateInfer.query(['q1m2', 'q0m2'])\n",
    "\n",
    "# Printing the results will display the state of the qubit system at the end of the circuit\n",
    "# Note that the ordering may not be desirable. This is dealt with below.\n",
    "print(q1)"
   ]
  },
  {
   "cell_type": "code",
   "execution_count": 5,
   "id": "4cc26e97",
   "metadata": {},
   "outputs": [
    {
     "name": "stdout",
     "output_type": "stream",
     "text": [
      "['q0m2', 'q1m2']\n",
      "[[ 0.70710678+0.j  0.        +0.j]\n",
      " [ 0.        +0.j -0.70710678+0.j]]\n"
     ]
    }
   ],
   "source": [
    "# Obtain the ordering of the variables in the display above, as well as their values\n",
    "q1Vars = q1.variables\n",
    "q1Values = q1.values\n",
    "\n",
    "print(q1Vars)\n",
    "print(q1Values)"
   ]
  },
  {
   "cell_type": "code",
   "execution_count": 6,
   "id": "513a1cad",
   "metadata": {},
   "outputs": [
    {
     "data": {
      "text/html": [
       "<pre style=\"word-wrap: normal;white-space: pre;background: #fff0;line-height: 1.1;font-family: &quot;Courier New&quot;,Courier,monospace\">      ░ ┌───┐      ░       ░ ┌───┐\n",
       "q_0: ─░─┤ H ├──────░───■───░─┤ H ├\n",
       "      ░ ├───┤┌───┐ ░ ┌─┴─┐ ░ └───┘\n",
       "q_1: ─░─┤ X ├┤ H ├─░─┤ X ├─░──────\n",
       "      ░ └───┘└───┘ ░ └───┘ ░      \n",
       "c: 2/═════════════════════════════\n",
       "                                  </pre>"
      ],
      "text/plain": [
       "      ░ ┌───┐      ░       ░ ┌───┐\n",
       "q_0: ─░─┤ H ├──────░───■───░─┤ H ├\n",
       "      ░ ├───┤┌───┐ ░ ┌─┴─┐ ░ └───┘\n",
       "q_1: ─░─┤ X ├┤ H ├─░─┤ X ├─░──────\n",
       "      ░ └───┘└───┘ ░ └───┘ ░      \n",
       "c: 2/═════════════════════════════\n",
       "                                  "
      ]
     },
     "execution_count": 6,
     "metadata": {},
     "output_type": "execute_result"
    }
   ],
   "source": [
    "# Here, we construct the deutsch algorithm using Qiskit\n",
    "# The bit input string allows us to choose a specific function: \"ab\" -> f(0) = a, f(1) = b\n",
    "inputString = \"01\"\n",
    "\n",
    "# Circuit setup\n",
    "circ = QuantumCircuit(2,2)\n",
    "circ.barrier()\n",
    "circ.h(0)\n",
    "circ.x(1)\n",
    "circ.h(1)\n",
    "circ.barrier()\n",
    "\n",
    "# Function implementation\n",
    "if(inputString == \"01\"):\n",
    "    circ.cx(0,1)\n",
    "elif(inputString == \"10\"):\n",
    "    circ.cx(0,1)\n",
    "    circ.x(1)\n",
    "elif(inputString == \"11\"):\n",
    "    circ.cx(0,1)\n",
    "    circ.x(1)\n",
    "    circ.cx(0,1)\n",
    "\n",
    "# End of Circuit\n",
    "circ.barrier()\n",
    "circ.h(0)\n",
    "circ.draw()"
   ]
  },
  {
   "cell_type": "code",
   "execution_count": 7,
   "id": "0e4f8efb",
   "metadata": {},
   "outputs": [
    {
     "name": "stdout",
     "output_type": "stream",
     "text": [
      "[ 0.        +0.j  0.70710678+0.j  0.        +0.j -0.70710678+0.j]\n",
      "[[ 0. +0.j  0. +0.j  0. +0.j  0. +0.j]\n",
      " [ 0. +0.j  0.5+0.j  0. +0.j -0.5+0.j]\n",
      " [ 0. +0.j  0. +0.j  0. +0.j  0. +0.j]\n",
      " [ 0. +0.j -0.5+0.j  0. +0.j  0.5+0.j]]\n"
     ]
    }
   ],
   "source": [
    "# Here, we obtain the state vector for the system after the hadamard gate\n",
    "dj = qi.Statevector.from_instruction(circ)\n",
    "djVec = dj.__array__()\n",
    "djDM = (qi.DensityMatrix.from_instruction(circ)).__array__()\n",
    "\n",
    "# The format of the state vector is [|00>, |10>, |01>, |11>]\n",
    "print(djVec)\n",
    "print(djDM)"
   ]
  },
  {
   "cell_type": "code",
   "execution_count": 8,
   "id": "23a52afe",
   "metadata": {},
   "outputs": [
    {
     "data": {
      "application/vnd.jupyter.widget-view+json": {
       "model_id": "2e0b5aeae69541cbbcde1af3bdbdecfe",
       "version_major": 2,
       "version_minor": 0
      },
      "text/plain": [
       "  0%|          | 0/5 [00:00<?, ?it/s]"
      ]
     },
     "metadata": {},
     "output_type": "display_data"
    },
    {
     "data": {
      "application/vnd.jupyter.widget-view+json": {
       "model_id": "e9c810c97b2c4874b39506f2e84e2cf6",
       "version_major": 2,
       "version_minor": 0
      },
      "text/plain": [
       "  0%|          | 0/5 [00:00<?, ?it/s]"
      ]
     },
     "metadata": {},
     "output_type": "display_data"
    },
    {
     "name": "stdout",
     "output_type": "stream",
     "text": [
      "+---------+---------+------------------+\n",
      "| q0m3    | q1m2    |   phi(q0m3,q1m2) |\n",
      "+=========+=========+==================+\n",
      "| q0m3(0) | q1m2(0) |   0.0000+0.0000j |\n",
      "+---------+---------+------------------+\n",
      "| q0m3(0) | q1m2(1) |   0.0000+0.0000j |\n",
      "+---------+---------+------------------+\n",
      "| q0m3(1) | q1m2(0) |   0.7071+0.0000j |\n",
      "+---------+---------+------------------+\n",
      "| q0m3(1) | q1m2(1) |  -0.7071+0.0000j |\n",
      "+---------+---------+------------------+\n"
     ]
    }
   ],
   "source": [
    "# Deutsch Algorithm using pgmpy\n",
    "\n",
    "# In this case, q1m2 = q1m3, so q1m3 is not incorporated here\n",
    "dj = BayesianNetwork([('q0m0', 'q0m1'), ('q1m0', 'q1m1'), ('q0m1', 'q1m2'), ('q0m1', 'q0m2'), ('q0m2', 'q0m3'), ('q1m1', 'q1m2')])\n",
    "\n",
    "# Function determined by inputString (see above)\n",
    "if(inputString == \"00\"):\n",
    "    cad = [[1,0,1,0],[0,1,0,1]]\n",
    "elif(inputString == \"01\"):\n",
    "    cad = [[1,0,0,1],[0,1,1,0]]\n",
    "elif(inputString == \"10\"):\n",
    "    cad = [[0,1,1,0],[1,0,0,1]]\n",
    "elif(inputString == \"11\"):\n",
    "    cad = [[0,1,0,1],[1,0,1,0]]\n",
    "\n",
    "cpd_q0m0 = TabularCPD(variable = 'q0m0', variable_card = 2, values = [[1], [0]])\n",
    "cpd_q1m0 = TabularCPD(variable = 'q1m0', variable_card = 2, values = [[0], [1]])\n",
    "cpd_q0m1 = TabularCPD(variable='q0m1', variable_card = 2, values = [[1/np.sqrt(2), 1/np.sqrt(2)], [1/np.sqrt(2), 1/-np.sqrt(2)]], evidence = ['q0m0'], evidence_card = [2])\n",
    "cpd_q1m1 = TabularCPD(variable='q1m1', variable_card = 2, values = [[1/np.sqrt(2), 1/np.sqrt(2)], [1/np.sqrt(2), 1/-np.sqrt(2)]], evidence = ['q1m0'], evidence_card = [2])\n",
    "cpd_q0m2 = TabularCPD(variable='q0m2', variable_card = 2, values = [[1, 0], [0, 1]], evidence = ['q0m1'], evidence_card = [2])\n",
    "cpd_q1m2 = TabularCPD(variable='q1m2', variable_card = 2, values = cad, evidence = ['q0m1', 'q1m1'], evidence_card = [2,2])\n",
    "cpd_q0m3 = TabularCPD(variable = 'q0m3', variable_card = 2, values = [[1/np.sqrt(2), 1/np.sqrt(2)], [1/np.sqrt(2), 1/-np.sqrt(2)]], evidence = ['q0m2'], evidence_card = [2])\n",
    "\n",
    "\n",
    "dj.add_cpds(cpd_q0m0, cpd_q1m0, cpd_q0m1, cpd_q0m2, cpd_q1m2, cpd_q1m1, cpd_q0m3)\n",
    "\n",
    "djInfer = VariableElimination(dj)\n",
    "\n",
    "q2 = djInfer.query(['q0m3','q1m2'])\n",
    "print(q2)"
   ]
  },
  {
   "cell_type": "code",
   "execution_count": 9,
   "id": "6d6e4162",
   "metadata": {},
   "outputs": [
    {
     "name": "stdout",
     "output_type": "stream",
     "text": [
      "['q0m3', 'q1m2']\n",
      "[[ 0.        +0.j  0.        +0.j]\n",
      " [ 0.70710678+0.j -0.70710678+0.j]]\n"
     ]
    }
   ],
   "source": [
    "# Obtain the ordering of the variables in the display above, as well as their values\n",
    "q2Vars = q2.variables\n",
    "q2Values = q2.values\n",
    "\n",
    "print(q2Vars)\n",
    "print(q2Values)"
   ]
  },
  {
   "cell_type": "code",
   "execution_count": 10,
   "id": "1e7cae89",
   "metadata": {},
   "outputs": [
    {
     "name": "stdout",
     "output_type": "stream",
     "text": [
      "BellStateCircuit\n",
      "{'00': (0.7071+0j), '10': 0j, '01': 0j, '11': (-0.7071+0j)}\n"
     ]
    }
   ],
   "source": [
    "def bitListBack(n):\n",
    "    N = 2**n\n",
    "    numList = []\n",
    "    numFormat = \"0\" + str(n) + \"b\"\n",
    "    for i in range(N):\n",
    "        numList.append((str(format(i,numFormat))[::-1]))\n",
    "    return numList\n",
    "\n",
    "def QiskitDict(stateVec,n):\n",
    "    qbits = bitListBack(n)\n",
    "    QbitDict = {}\n",
    "    for i in range(2**n):\n",
    "        QbitDict[qbits[i]]=np.round(stateVec[i],4)\n",
    "    return QbitDict\n",
    "\n",
    "print(\"BellStateCircuit\")\n",
    "print(QiskitDict(BellStateVec,2))\n"
   ]
  },
  {
   "cell_type": "code",
   "execution_count": 11,
   "id": "b8c994af",
   "metadata": {},
   "outputs": [
    {
     "name": "stdout",
     "output_type": "stream",
     "text": [
      "Deutsch Algorithm\n",
      "{'00': 0j, '10': (0.7071+0j), '01': 0j, '11': (-0.7071+0j)}\n"
     ]
    }
   ],
   "source": [
    "print(\"Deutsch Algorithm\")\n",
    "print(QiskitDict(djVec,2))"
   ]
  },
  {
   "cell_type": "code",
   "execution_count": 12,
   "id": "d55a80f0",
   "metadata": {},
   "outputs": [
    {
     "name": "stdout",
     "output_type": "stream",
     "text": [
      "True\n",
      "True\n",
      "{'00': 0j, '01': 0j, '10': (0.7071+0j), '11': (-0.7071+0j)}\n",
      "{'00': 0j, '10': (0.7071+0j), '01': 0j, '11': (-0.7071+0j)}\n",
      "['00', '01', '10', '11']\n"
     ]
    }
   ],
   "source": [
    "# Obtain the ordering of the variables in the display above, as well as their values\n",
    "valArr = q1.variables\n",
    "valuesArr = q1.values\n",
    "\n",
    "def create_var_order(orderArr):\n",
    "    currNum = 0\n",
    "    numArr = []\n",
    "    for order in orderArr:\n",
    "        if len(order) == 4:\n",
    "            currNum = order[1]\n",
    "        numArr.append(currNum)\n",
    "    return numArr\n",
    "\n",
    "def bitList(n):\n",
    "    N = 2**n\n",
    "    numList = []\n",
    "    numFormat = \"0\" + str(n) + \"b\"\n",
    "    for i in range(N):\n",
    "        numList.append((str(format(i,numFormat))))\n",
    "    return numList\n",
    "\n",
    "\n",
    "def columnize(listOfBits):\n",
    "    n = len(listOfBits[0])\n",
    "    holder = []\n",
    "    for i in range(n):\n",
    "        col = []\n",
    "        for bit in listOfBits:\n",
    "            col.append(bit[i])\n",
    "        holder.append(col)\n",
    "    return holder\n",
    "\n",
    "def reform():\n",
    "    varOrderArr = create_var_order(valArr)\n",
    "    listOfBits = bitList(len(varOrderArr))\n",
    "    columns = columnize(listOfBits)\n",
    "    rearrangedColumns = [None]*len(columns)\n",
    "    for index, order in enumerate(varOrderArr):\n",
    "        rearrangedColumns[index] = columns[int(order)]\n",
    "    numOfCols = len(rearrangedColumns)\n",
    "    bitStr = \"\"\n",
    "    finalBitArr = []\n",
    "    for bitIndex in range(len(rearrangedColumns[0])):\n",
    "        for num in range(numOfCols):\n",
    "            bitStr+=str(rearrangedColumns[num][bitIndex])\n",
    "        finalBitArr.append(bitStr)\n",
    "        bitStr = \"\"\n",
    "    return finalBitArr\n",
    "\n",
    "def createHashTable():\n",
    "    resHash = {}\n",
    "    bitOrder=reform()\n",
    "    valuesFlat = valuesArr.flatten()\n",
    "    for index, key in enumerate(bitOrder):\n",
    "        resHash[key] = np.round(valuesFlat[index], 4)\n",
    "    return resHash\n",
    "\n",
    "q1PgmpyHash = createHashTable()\n",
    "valArr = q2.variables\n",
    "valuesArr = q2.values\n",
    "q2PgmpyHash = createHashTable()\n",
    "\n",
    "print(q1PgmpyHash == QiskitDict(BellStateVec,2))\n",
    "print(q2PgmpyHash == QiskitDict(djVec,2))\n",
    "print(q2PgmpyHash)\n",
    "print(QiskitDict(djVec,2))\n",
    "print(reform())"
   ]
  },
  {
   "cell_type": "code",
   "execution_count": 13,
   "id": "70f6b9b0",
   "metadata": {},
   "outputs": [],
   "source": [
    "def cpd_2_dm(obj,rvs,var):\n",
    "    numQubits = len(var)\n",
    "    numRVs = len(rvs)\n",
    "    varOrder = obj.variables\n",
    "    numVars = len(varOrder)\n",
    "    qubitOrdering = []\n",
    "    rvsOrdering = []\n",
    "    \n",
    "    for i in range(numQubits):\n",
    "        v = var[i]\n",
    "        j = 0\n",
    "        while(j < numVars and v != varOrder[j]):\n",
    "            j += 1\n",
    "        qubitOrdering.append(2**(numVars - j - 1))\n",
    "        \n",
    "    for i in range(numRVs):\n",
    "        v = rvs[i]\n",
    "        j = 0\n",
    "        while(j < numVars and v != varOrder[j]):\n",
    "            j += 1\n",
    "        rvsOrdering.append(2**(numVars - j - 1))\n",
    "\n",
    "    vals = (obj.values).flatten()\n",
    "    dm = np.zeros((2**numQubits,2**numQubits),dtype=\"complex_\")\n",
    "    numEvents = 2**numRVs\n",
    "    numPermutations = 2**numQubits\n",
    "    \n",
    "    for i in range(numEvents):\n",
    "        val1 = 0\n",
    "        for j in range(numRVs):\n",
    "            val1 += ((i//(2**j))%2)*rvsOrdering[numRVs - j - 1]\n",
    "        arr1 = np.zeros((numPermutations,1),dtype=\"complex_\")\n",
    "        arr2 = np.zeros((1,numPermutations),dtype=\"complex_\")\n",
    "        for j in range(numPermutations):\n",
    "            val2 = val1\n",
    "            for k in range(numQubits):\n",
    "                val2 += ((j//(2**k))%2)*qubitOrdering[numQubits - k - 1]\n",
    "            arr1[j][0] = vals[val2]\n",
    "            arr2[0][j] = np.conj(vals[val2])\n",
    "        dm += np.matmul(arr1,arr2)\n",
    "        \n",
    "    return dm"
   ]
  },
  {
   "cell_type": "code",
   "execution_count": 16,
   "id": "411ec0f8",
   "metadata": {},
   "outputs": [
    {
     "name": "stdout",
     "output_type": "stream",
     "text": [
      "[[ 0.5+0.j  0. +0.j  0. +0.j -0.5+0.j]\n",
      " [ 0. +0.j  0. +0.j  0. +0.j  0. +0.j]\n",
      " [ 0. +0.j  0. +0.j  0. +0.j  0. +0.j]\n",
      " [-0.5+0.j  0. +0.j  0. +0.j  0.5+0.j]]\n",
      "[[ 0. +0.j  0. +0.j  0. +0.j  0. +0.j]\n",
      " [ 0. +0.j  0.5+0.j  0. +0.j -0.5+0.j]\n",
      " [ 0. +0.j  0. +0.j  0. +0.j  0. +0.j]\n",
      " [ 0. +0.j -0.5+0.j  0. +0.j  0.5+0.j]]\n"
     ]
    }
   ],
   "source": [
    "X = cpd_2_dm(q1,[],['q1m2', 'q0m2'])\n",
    "print(X)\n",
    "X = cpd_2_dm(q2,[],['q1m2', 'q0m3'])\n",
    "print(X)"
   ]
  },
  {
   "cell_type": "code",
   "execution_count": null,
   "id": "27f8e11f",
   "metadata": {},
   "outputs": [],
   "source": []
  }
 ],
 "metadata": {
  "kernelspec": {
   "display_name": "Python 3 (ipykernel)",
   "language": "python",
   "name": "python3"
  },
  "language_info": {
   "codemirror_mode": {
    "name": "ipython",
    "version": 3
   },
   "file_extension": ".py",
   "mimetype": "text/x-python",
   "name": "python",
   "nbconvert_exporter": "python",
   "pygments_lexer": "ipython3",
   "version": "3.8.8"
  }
 },
 "nbformat": 4,
 "nbformat_minor": 5
}
