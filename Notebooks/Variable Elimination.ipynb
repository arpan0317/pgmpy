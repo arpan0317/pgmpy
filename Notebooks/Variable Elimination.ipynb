{
 "cells": [
  {
   "cell_type": "code",
   "execution_count": 1,
   "id": "b76fe28a",
   "metadata": {},
   "outputs": [
    {
     "data": {
      "text/plain": [
       "'\\nIn this notebook, the bell state circuit and deutsch algorithm will be modeled using both IBM Qiskit and pgmpy.\\nThe results are compared at the end.\\n'"
      ]
     },
     "execution_count": 1,
     "metadata": {},
     "output_type": "execute_result"
    }
   ],
   "source": [
    "\"\"\"\n",
    "In this notebook, the bell state circuit and deutsch algorithm will be modeled using both IBM Qiskit and pgmpy.\n",
    "The results are compared at the end.\n",
    "\"\"\""
   ]
  },
  {
   "cell_type": "code",
   "execution_count": 2,
   "id": "9e3c45a6",
   "metadata": {},
   "outputs": [
    {
     "data": {
      "text/html": [
       "<pre style=\"word-wrap: normal;white-space: pre;background: #fff0;line-height: 1.1;font-family: &quot;Courier New&quot;,Courier,monospace\">     ┌───┐ ░ ┌───┐      ░ \n",
       "q_0: ┤ X ├─░─┤ H ├──■───░─\n",
       "     ├───┤ ░ └───┘┌─┴─┐ ░ \n",
       "q_1: ┤ X ├─░──────┤ X ├─░─\n",
       "     └───┘ ░      └───┘ ░ \n",
       "c: 2/═════════════════════\n",
       "                          </pre>"
      ],
      "text/plain": [
       "     ┌───┐ ░ ┌───┐      ░ \n",
       "q_0: ┤ X ├─░─┤ H ├──■───░─\n",
       "     ├───┤ ░ └───┘┌─┴─┐ ░ \n",
       "q_1: ┤ X ├─░──────┤ X ├─░─\n",
       "     └───┘ ░      └───┘ ░ \n",
       "c: 2/═════════════════════\n",
       "                          "
      ]
     },
     "execution_count": 2,
     "metadata": {},
     "output_type": "execute_result"
    }
   ],
   "source": [
    "# Imports (some imports are probably not necessary)\n",
    "import numpy as np\n",
    "from qiskit import IBMQ, Aer\n",
    "from qiskit.providers.ibmq import least_busy\n",
    "from qiskit import QuantumCircuit, assemble, transpile\n",
    "from qiskit.visualization import plot_histogram\n",
    "import qiskit.quantum_info as qi\n",
    "\n",
    "# Here, we construct the bell state circuit using Qiskit\n",
    "# The bit input string allows us to choose an initialization of either |00>, |01>, |10>, or |11>\n",
    "inputString = \"11\"\n",
    "\n",
    "circ = QuantumCircuit(2,2)\n",
    "if(inputString == \"01\"):\n",
    "    circ.x(1)\n",
    "elif(inputString == \"10\"):\n",
    "    circ.x(0)\n",
    "elif(inputString == \"11\"):\n",
    "    circ.x(0)\n",
    "    circ.x(1)\n",
    "\n",
    "# The rest of the circuit transforms the qubits into a bell state pair\n",
    "circ.barrier()\n",
    "circ.h(0)\n",
    "circ.cx(0,1)\n",
    "circ.barrier()\n",
    "circ.draw()"
   ]
  },
  {
   "cell_type": "code",
   "execution_count": 3,
   "id": "5436e7ae",
   "metadata": {},
   "outputs": [
    {
     "name": "stdout",
     "output_type": "stream",
     "text": [
      "[ 0.        +0.j -0.70710678+0.j  0.70710678+0.j  0.        +0.j]\n"
     ]
    }
   ],
   "source": [
    "# Here, we obtain the state vector for the system after the cx gate\n",
    "BellState = qi.Statevector.from_instruction(circ)\n",
    "BellStateVec = BellState.__array__()\n",
    "\n",
    "# The format of the state vector is [|00>, |10>, |01>, |11>]\n",
    "print(BellStateVec)"
   ]
  },
  {
   "cell_type": "code",
   "execution_count": 4,
   "id": "a6352c27",
   "metadata": {},
   "outputs": [
    {
     "data": {
      "application/vnd.jupyter.widget-view+json": {
       "model_id": "e1b92cba234c4bb391256d0eb15b7dd0",
       "version_major": 2,
       "version_minor": 0
      },
      "text/plain": [
       "  0%|          | 0/4 [00:00<?, ?it/s]"
      ]
     },
     "metadata": {},
     "output_type": "display_data"
    },
    {
     "data": {
      "application/vnd.jupyter.widget-view+json": {
       "model_id": "0299ce89bd0c4385bbc97e9441f1b2d4",
       "version_major": 2,
       "version_minor": 0
      },
      "text/plain": [
       "  0%|          | 0/4 [00:00<?, ?it/s]"
      ]
     },
     "metadata": {},
     "output_type": "display_data"
    },
    {
     "name": "stdout",
     "output_type": "stream",
     "text": [
      "+---------+---------+------------------+\n",
      "| q0m2    | q1m2    |   phi(q0m2,q1m2) |\n",
      "+=========+=========+==================+\n",
      "| q0m2(0) | q1m2(0) |   0.7071+0.0000j |\n",
      "+---------+---------+------------------+\n",
      "| q0m2(0) | q1m2(1) |   0.0000+0.0000j |\n",
      "+---------+---------+------------------+\n",
      "| q0m2(1) | q1m2(0) |   0.0000+0.0000j |\n",
      "+---------+---------+------------------+\n",
      "| q0m2(1) | q1m2(1) |   0.7071+0.0000j |\n",
      "+---------+---------+------------------+\n"
     ]
    },
    {
     "name": "stderr",
     "output_type": "stream",
     "text": [
      "C:\\Users\\masch\\Quantum Computing\\QComp\\pgmpy\\pgmpy\\extern\\tabulate.py:282: ComplexWarning: Casting complex values to real discards the imaginary part\n",
      "  n = conv(string)\n"
     ]
    }
   ],
   "source": [
    "# Here, we model the bell state circuit using pgmpy\n",
    "\n",
    "# Comment out these lines\n",
    "import sys\n",
    "sys.path.insert(0, 'C:\\\\Users\\\\masch\\\\Quantum Computing\\\\QComp\\\\pgmpy')\n",
    "\n",
    "# Imports \n",
    "from pgmpy.models import BayesianNetwork\n",
    "from pgmpy.factors.discrete.CPD import TabularCPD\n",
    "import numpy as np\n",
    "from pgmpy.inference import VariableElimination\n",
    "\n",
    "\n",
    "# Initialize Bayesian Network representing bell state circuit\n",
    "# Each random variable is labeled qXmY, which represents the state of qubit qX at moment Y.\n",
    "# The moments match with the circuit diagram in cell 2, starting with moment 0, 1, 2, etc.\n",
    "# Links between random variables are present if their is a dependence between the qubit states.\n",
    "bellState = BayesianNetwork([('q0m0', 'q0m1'), ('q0m1', 'q0m2'), ('q1m0', 'q1m1'), ('q1m1', 'q1m2'), ('q0m1', 'q1m2')])\n",
    "\n",
    "\"\"\"\n",
    "Conditional Amplitude Distribution (CAD) for each qubit state\n",
    "For this circuit, each CAD consists of: \n",
    "    variable name (qubit state, see above). For instance, q0m1\n",
    "    variable cardinality (always 2, representing amplitudes for |0> and |1> for the qubit state of interest)\n",
    "    values - consists of a list of two lists [[...],[...]], the first list corresponds to |0>, the second to |1>\n",
    "        For the first list, the entries correspond to the resulting state of the qubit state of interest, given\n",
    "        a certain input state of evidence variables (in this case, previous qubit states).\n",
    "        \n",
    "(for q0m1): If the evidence is one qubit state q0m0, the values entry is:\n",
    "    [[A(|q0m1> = |0> given |q0m0> = |0>,    A(|q0m1> = |0> given |q0m0> = |1>)], [A(|q0m1> = |1> given |q0m0> = |0>,    A(|q0m1> = |1> given |q0m0> = |1>)]\n",
    "    \n",
    "    evidence (list of qubit states for which the current qubit state depends on)\n",
    "    evidence cardinality (list of 2s, based upon how many evidence qubits there are)\n",
    "\"\"\"\n",
    "# Initialization\n",
    "if(inputString = \"00\"):\n",
    "    cpd_q0m0 = TabularCPD(variable = 'q0m0', variable_card = 2, values = [[1], [0]])\n",
    "    cpd_q1m0 = TabularCPD(variable = 'q1m0', variable_card = 2, values = [[1], [0]])\n",
    "elif(inputString == \"01\"):\n",
    "    cpd_q0m0 = TabularCPD(variable = 'q0m0', variable_card = 2, values = [[1], [0]])\n",
    "    cpd_q1m0 = TabularCPD(variable = 'q1m0', variable_card = 2, values = [[0], [1]])\n",
    "elif(inputString == \"10\"):\n",
    "    cpd_q0m0 = TabularCPD(variable = 'q0m0', variable_card = 2, values = [[0], [1]])\n",
    "    cpd_q1m0 = TabularCPD(variable = 'q1m0', variable_card = 2, values = [[1], [0]])\n",
    "elif(inputString == \"11\"):\n",
    "    cpd_q0m0 = TabularCPD(variable = 'q0m0', variable_card = 2, values = [[0], [1]])\n",
    "    cpd_q1m0 = TabularCPD(variable = 'q1m0', variable_card = 2, values = [[0], [1]])\n",
    "\n",
    "cpd_q0m1 = TabularCPD(variable='q0m1', variable_card = 2, values = [[1/np.sqrt(2), 1/np.sqrt(2)], [1/np.sqrt(2), -1/np.sqrt(2)]], evidence = ['q0m0'], evidence_card = [2])\n",
    "cpd_q1m1 = TabularCPD(variable = 'q1m1', variable_card = 2, values = [[1, 0], [0,1]], evidence = ['q1m0'], evidence_card = [2])\n",
    "cpd_q1m2 = TabularCPD(variable='q1m2', variable_card = 2, values = [[1,0,0,1], [0,1,1,0]], evidence = ['q0m1', 'q1m1'], evidence_card = [2,2])\n",
    "cpd_q0m2 = TabularCPD(variable='q0m2', variable_card = 2, values = [[1, 0], [0, 1]], evidence = ['q0m1'], evidence_card = [2])\n",
    "\n",
    "\n",
    "# Add the CADs to the Bayesian Network, and perform variable elimination to simulate the circuit.\n",
    "bellState.add_cpds(cpd_q0m0, cpd_q1m0, cpd_q0m1, cpd_q0m2, cpd_q1m2, cpd_q1m1)\n",
    "bellStateInfer = VariableElimination(bellState)\n",
    "q1 = bellStateInfer.query(['q1m2', 'q0m2'])\n",
    "\n",
    "# Printing the results will display the state of the qubit system at the end of the circuit\n",
    "# Note that the ordering may not be desirable. This is dealt with below.\n",
    "print(q1)"
   ]
  },
  {
   "cell_type": "code",
   "execution_count": 5,
   "id": "4cc26e97",
   "metadata": {},
   "outputs": [
    {
     "name": "stdout",
     "output_type": "stream",
     "text": [
      "['q0m2', 'q1m2']\n",
      "[[0.70710678+0.j 0.        +0.j]\n",
      " [0.        +0.j 0.70710678+0.j]]\n"
     ]
    }
   ],
   "source": [
    "# Obtain the ordering of the variables in the display above, as well as their values\n",
    "q1Vars = q1.variables\n",
    "q1Values = q1.values\n",
    "\n",
    "print(q1Vars)\n",
    "print(q1Values)"
   ]
  },
  {
   "cell_type": "code",
   "execution_count": 6,
   "id": "513a1cad",
   "metadata": {},
   "outputs": [
    {
     "data": {
      "text/html": [
       "<pre style=\"word-wrap: normal;white-space: pre;background: #fff0;line-height: 1.1;font-family: &quot;Courier New&quot;,Courier,monospace\">     ┌───┐      ░            ░ ┌───┐\n",
       "q_0: ┤ H ├──────░───■────────░─┤ H ├\n",
       "     ├───┤┌───┐ ░ ┌─┴─┐┌───┐ ░ └───┘\n",
       "q_1: ┤ X ├┤ H ├─░─┤ X ├┤ X ├─░──────\n",
       "     └───┘└───┘ ░ └───┘└───┘ ░      \n",
       "c: 2/═══════════════════════════════\n",
       "                                    </pre>"
      ],
      "text/plain": [
       "     ┌───┐      ░            ░ ┌───┐\n",
       "q_0: ┤ H ├──────░───■────────░─┤ H ├\n",
       "     ├───┤┌───┐ ░ ┌─┴─┐┌───┐ ░ └───┘\n",
       "q_1: ┤ X ├┤ H ├─░─┤ X ├┤ X ├─░──────\n",
       "     └───┘└───┘ ░ └───┘└───┘ ░      \n",
       "c: 2/═══════════════════════════════\n",
       "                                    "
      ]
     },
     "execution_count": 6,
     "metadata": {},
     "output_type": "execute_result"
    }
   ],
   "source": [
    "# Here, we construct the deutsch algorithm using Qiskit\n",
    "# The bit input string allows us to choose a specific function: \"ab\" -> f(0) = a, f(1) = b\n",
    "inputString = \"10\"\n",
    "\n",
    "# Circuit setup\n",
    "circ.barrier()\n",
    "circ = QuantumCircuit(2,2)\n",
    "circ.h(0)\n",
    "circ.x(1)\n",
    "circ.h(1)\n",
    "circ.barrier()\n",
    "\n",
    "# Function implementation\n",
    "if(inputString == \"01\"):\n",
    "    circ.cx(0,1)\n",
    "elif(inputString == \"10\"):\n",
    "    circ.cx(0,1)\n",
    "    circ.x(1)\n",
    "elif(inputString == \"11\"):\n",
    "    circ.cx(0,1)\n",
    "    circ.x(1)\n",
    "    circ.cx(0,1)\n",
    "\n",
    "# End of Circuit\n",
    "circ.barrier()\n",
    "circ.h(0)\n",
    "circ.draw()"
   ]
  },
  {
   "cell_type": "code",
   "execution_count": 7,
   "id": "0e4f8efb",
   "metadata": {},
   "outputs": [
    {
     "name": "stdout",
     "output_type": "stream",
     "text": [
      "[ 0.        +0.j -0.70710678+0.j  0.        +0.j  0.70710678+0.j]\n"
     ]
    }
   ],
   "source": [
    "# Here, we obtain the state vector for the system after the hadamard gate\n",
    "dj = qi.Statevector.from_instruction(circ)\n",
    "djVec = dj.__array__()\n",
    "\n",
    "# The format of the state vector is [|00>, |10>, |01>, |11>]\n",
    "print(djVec)"
   ]
  },
  {
   "cell_type": "code",
   "execution_count": 8,
   "id": "23a52afe",
   "metadata": {},
   "outputs": [
    {
     "data": {
      "application/vnd.jupyter.widget-view+json": {
       "model_id": "3d2557d34a6d4425a192b3cbeecb0f6e",
       "version_major": 2,
       "version_minor": 0
      },
      "text/plain": [
       "  0%|          | 0/5 [00:00<?, ?it/s]"
      ]
     },
     "metadata": {},
     "output_type": "display_data"
    },
    {
     "data": {
      "application/vnd.jupyter.widget-view+json": {
       "model_id": "5519831330be4ae59ecebc3b9698e40a",
       "version_major": 2,
       "version_minor": 0
      },
      "text/plain": [
       "  0%|          | 0/5 [00:00<?, ?it/s]"
      ]
     },
     "metadata": {},
     "output_type": "display_data"
    },
    {
     "name": "stdout",
     "output_type": "stream",
     "text": [
      "+---------+---------+------------------+\n",
      "| q1m2    | q0m3    |   phi(q1m2,q0m3) |\n",
      "+=========+=========+==================+\n",
      "| q1m2(0) | q0m3(0) |   0.0000+0.0000j |\n",
      "+---------+---------+------------------+\n",
      "| q1m2(0) | q0m3(1) |  -0.7071+0.0000j |\n",
      "+---------+---------+------------------+\n",
      "| q1m2(1) | q0m3(0) |   0.0000+0.0000j |\n",
      "+---------+---------+------------------+\n",
      "| q1m2(1) | q0m3(1) |   0.7071+0.0000j |\n",
      "+---------+---------+------------------+\n"
     ]
    }
   ],
   "source": [
    "# Deutsch Algorithm using pgmpy\n",
    "\n",
    "# In this case, q1m2 = q1m3, so q1m3 is not incorporated here\n",
    "dj = BayesianNetwork([('q0m0', 'q0m1'), ('q1m0', 'q1m1'), ('q0m1', 'q1m2'), ('q0m1', 'q0m2'), ('q0m2', 'q0m3'), ('q1m1', 'q1m2')])\n",
    "\n",
    "# Function determined by inputString (see above)\n",
    "if(inputString == \"00\"):\n",
    "    cad = [[1,0,1,0],[0,1,0,1]]\n",
    "elif(inputString == \"01\"):\n",
    "    cad = [[1,0,0,1],[0,1,1,0]]\n",
    "elif(inputString == \"10\"):\n",
    "    cad = [[0,1,1,0],[1,0,0,1]]\n",
    "elif(inputString == \"11\"):\n",
    "    cad = [[0,1,0,1],[1,0,1,0]]\n",
    "\n",
    "cpd_q0m0 = TabularCPD(variable = 'q0m0', variable_card = 2, values = [[1], [0]])\n",
    "cpd_q1m0 = TabularCPD(variable = 'q1m0', variable_card = 2, values = [[0], [1]])\n",
    "cpd_q0m1 = TabularCPD(variable='q0m1', variable_card = 2, values = [[1/np.sqrt(2), 1/np.sqrt(2)], [1/np.sqrt(2), 1/-np.sqrt(2)]], evidence = ['q0m0'], evidence_card = [2])\n",
    "cpd_q1m1 = TabularCPD(variable='q1m1', variable_card = 2, values = [[1/np.sqrt(2), 1/np.sqrt(2)], [1/np.sqrt(2), 1/-np.sqrt(2)]], evidence = ['q1m0'], evidence_card = [2])\n",
    "cpd_q0m2 = TabularCPD(variable='q0m2', variable_card = 2, values = [[1, 0], [0, 1]], evidence = ['q0m1'], evidence_card = [2])\n",
    "cpd_q1m2 = TabularCPD(variable='q1m2', variable_card = 2, values = cad, evidence = ['q0m1', 'q1m1'], evidence_card = [2,2])\n",
    "cpd_q0m3 = TabularCPD(variable = 'q0m3', variable_card = 2, values = [[1/np.sqrt(2), 1/np.sqrt(2)], [1/np.sqrt(2), 1/-np.sqrt(2)]], evidence = ['q0m2'], evidence_card = [2])\n",
    "\n",
    "\n",
    "dj.add_cpds(cpd_q0m0, cpd_q1m0, cpd_q0m1, cpd_q0m2, cpd_q1m2, cpd_q1m1, cpd_q0m3)\n",
    "\n",
    "djInfer = VariableElimination(dj)\n",
    "\n",
    "q2 = djInfer.query(['q0m3','q1m2'])\n",
    "print(q2)"
   ]
  },
  {
   "cell_type": "code",
   "execution_count": 9,
   "id": "6d6e4162",
   "metadata": {},
   "outputs": [
    {
     "name": "stdout",
     "output_type": "stream",
     "text": [
      "['q1m2', 'q0m3']\n",
      "[[ 0.        +0.j -0.70710678+0.j]\n",
      " [ 0.        +0.j  0.70710678+0.j]]\n"
     ]
    }
   ],
   "source": [
    "# Obtain the ordering of the variables in the display above, as well as their values\n",
    "q2Vars = q2.variables\n",
    "q2Values = q2.values\n",
    "\n",
    "print(q2Vars)\n",
    "print(q2Values)"
   ]
  },
  {
   "cell_type": "code",
   "execution_count": 10,
   "id": "a0d33c9f",
   "metadata": {},
   "outputs": [
    {
     "data": {
      "text/html": [
       "<pre style=\"word-wrap: normal;white-space: pre;background: #fff0;line-height: 1.1;font-family: &quot;Courier New&quot;,Courier,monospace\">     ┌───┐      ░                 ░ ┌───┐\n",
       "q_0: ┤ H ├──────░───■─────────■───░─┤ H ├\n",
       "     ├───┤┌───┐ ░ ┌─┴─┐┌───┐┌─┴─┐ ░ └───┘\n",
       "q_1: ┤ X ├┤ H ├─░─┤ X ├┤ X ├┤ X ├─░──────\n",
       "     └───┘└───┘ ░ └───┘└───┘└───┘ ░      \n",
       "c: 2/════════════════════════════════════\n",
       "                                         </pre>"
      ],
      "text/plain": [
       "     ┌───┐      ░                 ░ ┌───┐\n",
       "q_0: ┤ H ├──────░───■─────────■───░─┤ H ├\n",
       "     ├───┤┌───┐ ░ ┌─┴─┐┌───┐┌─┴─┐ ░ └───┘\n",
       "q_1: ┤ X ├┤ H ├─░─┤ X ├┤ X ├┤ X ├─░──────\n",
       "     └───┘└───┘ ░ └───┘└───┘└───┘ ░      \n",
       "c: 2/════════════════════════════════════\n",
       "                                         "
      ]
     },
     "execution_count": 10,
     "metadata": {},
     "output_type": "execute_result"
    }
   ],
   "source": [
    "circ = QuantumCircuit(2,2)\n",
    "circ.h(0)\n",
    "circ.x(1)\n",
    "circ.h(1)\n",
    "circ.barrier()\n",
    "circ.cx(0,1)\n",
    "circ.x(1)\n",
    "circ.cx(0,1)\n",
    "circ.barrier()\n",
    "circ.h(0)\n",
    "circ.draw()"
   ]
  },
  {
   "cell_type": "code",
   "execution_count": 11,
   "id": "11260fc8",
   "metadata": {},
   "outputs": [
    {
     "name": "stdout",
     "output_type": "stream",
     "text": [
      "[-0.70710678+0.j  0.        +0.j  0.70710678+0.j  0.        +0.j]\n"
     ]
    }
   ],
   "source": [
    "stv1 = qi.Statevector.from_instruction(circ)\n",
    "print(stv1.__array__())"
   ]
  },
  {
   "cell_type": "code",
   "execution_count": 12,
   "id": "77d29308",
   "metadata": {},
   "outputs": [
    {
     "data": {
      "application/vnd.jupyter.widget-view+json": {
       "model_id": "567263ffa3674074b187200ffe74c414",
       "version_major": 2,
       "version_minor": 0
      },
      "text/plain": [
       "  0%|          | 0/3 [00:00<?, ?it/s]"
      ]
     },
     "metadata": {},
     "output_type": "display_data"
    },
    {
     "data": {
      "application/vnd.jupyter.widget-view+json": {
       "model_id": "ec61af85ecc94b59bf93f7f44eb8cd8f",
       "version_major": 2,
       "version_minor": 0
      },
      "text/plain": [
       "  0%|          | 0/3 [00:00<?, ?it/s]"
      ]
     },
     "metadata": {},
     "output_type": "display_data"
    },
    {
     "name": "stdout",
     "output_type": "stream",
     "text": [
      "+---------+---------+------------------+\n",
      "| q1m2    | q0m3    |   phi(q1m2,q0m3) |\n",
      "+=========+=========+==================+\n",
      "| q1m2(0) | q0m3(0) |  -0.7071+0.0000j |\n",
      "+---------+---------+------------------+\n",
      "| q1m2(0) | q0m3(1) |   0.0000+0.0000j |\n",
      "+---------+---------+------------------+\n",
      "| q1m2(1) | q0m3(0) |   0.7071+0.0000j |\n",
      "+---------+---------+------------------+\n",
      "| q1m2(1) | q0m3(1) |   0.0000+0.0000j |\n",
      "+---------+---------+------------------+\n"
     ]
    }
   ],
   "source": [
    "#deutsch jozsa --> variable elimination\n",
    "\n",
    "from pgmpy.models import BayesianNetwork\n",
    "from pgmpy.factors.discrete.CPD import TabularCPD\n",
    "import numpy as np\n",
    "from pgmpy.inference import VariableElimination\n",
    "\n",
    "dj = BayesianNetwork([('q0m0', 'q0m1'), ('q1m0', 'q1m1'), ('q0m1', 'q1m2'), ('q0m1', 'q0m2'), ('q0m2', 'q0m3'), ('q1m1', 'q1m2')])\n",
    "\n",
    "cpd_q0m0 = TabularCPD(variable = 'q0m0', variable_card = 2, values = [[1], [0]])\n",
    "cpd_q1m0 = TabularCPD(variable = 'q1m0', variable_card = 2, values = [[0], [1]])\n",
    "cpd_q0m1 = TabularCPD(variable='q0m1', variable_card = 2, values = [[1/np.sqrt(2), 1/np.sqrt(2)], [1/np.sqrt(2), 1/-np.sqrt(2)]], evidence = ['q0m0'], evidence_card = [2])\n",
    "cpd_q1m1 = TabularCPD(variable='q1m1', variable_card = 2, values = [[1/np.sqrt(2), 1/np.sqrt(2)], [1/np.sqrt(2), 1/-np.sqrt(2)]], evidence = ['q1m0'], evidence_card = [2])\n",
    "cpd_q0m2 = TabularCPD(variable='q0m2', variable_card = 2, values = [[1, 0], [0, 1]], evidence = ['q0m1'], evidence_card = [2])\n",
    "cpd_q1m2 = TabularCPD(variable='q1m2', variable_card = 2, values = [[0,1,0,1], [1,0,1,0]], evidence = ['q0m1', 'q1m1'], evidence_card = [2,2])\n",
    "cpd_q0m3 = TabularCPD(variable = 'q0m3', variable_card = 2, values = [[1/np.sqrt(2), 1/np.sqrt(2)], [1/np.sqrt(2), 1/-np.sqrt(2)]], evidence = ['q0m2'], evidence_card = [2])\n",
    "\n",
    "\n",
    "dj.add_cpds(cpd_q0m0, cpd_q1m0, cpd_q0m1, cpd_q0m2, cpd_q1m2, cpd_q1m1, cpd_q0m3)\n",
    "\n",
    "djInfer = VariableElimination(dj)\n",
    "\n",
    "q = djInfer.query(['q0m3', 'q1m2'], evidence = {'q0m0': 0, 'q1m0': 1})\n",
    "print(q)"
   ]
  },
  {
   "cell_type": "code",
   "execution_count": null,
   "id": "1e7cae89",
   "metadata": {},
   "outputs": [],
   "source": []
  }
 ],
 "metadata": {
  "kernelspec": {
   "display_name": "Python 3",
   "language": "python",
   "name": "python3"
  },
  "language_info": {
   "codemirror_mode": {
    "name": "ipython",
    "version": 3
   },
   "file_extension": ".py",
   "mimetype": "text/x-python",
   "name": "python",
   "nbconvert_exporter": "python",
   "pygments_lexer": "ipython3",
   "version": "3.8.8"
  }
 },
 "nbformat": 4,
 "nbformat_minor": 5
}
