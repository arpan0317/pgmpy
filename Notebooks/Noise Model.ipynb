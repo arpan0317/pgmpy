{
 "cells": [
  {
   "cell_type": "code",
   "execution_count": 3,
   "id": "3fdcc595",
   "metadata": {},
   "outputs": [
    {
     "name": "stdout",
     "output_type": "stream",
     "text": [
      "        ┌───┐      ░ ┌─┐   \n",
      "   q_0: ┤ H ├──■───░─┤M├───\n",
      "        └───┘┌─┴─┐ ░ └╥┘┌─┐\n",
      "   q_1: ─────┤ X ├─░──╫─┤M├\n",
      "             └───┘ ░  ║ └╥┘\n",
      "meas: 2/══════════════╩══╩═\n",
      "                      0  1 \n"
     ]
    }
   ],
   "source": [
    "# Imports (some imports may not be necessary)\n",
    "import numpy as np\n",
    "import math\n",
    "from qiskit import IBMQ, Aer\n",
    "from qiskit.providers.ibmq import least_busy\n",
    "from qiskit import QuantumCircuit, assemble, transpile\n",
    "from qiskit.visualization import plot_histogram\n",
    "import qiskit.quantum_info as qi\n",
    "\n",
    "from qiskit.quantum_info import Kraus, SuperOp\n",
    "\n",
    "\n",
    "from qiskit.providers.aer import AerSimulator\n",
    "from qiskit.providers.aer.library import SaveState\n",
    "\n",
    "from qiskit.providers.aer.noise import NoiseModel\n",
    "from qiskit.providers.aer.noise import QuantumError, ReadoutError\n",
    "from qiskit.providers.aer.noise import pauli_error\n",
    "from qiskit.providers.aer.noise import depolarizing_error\n",
    "from qiskit.providers.aer.noise import thermal_relaxation_error\n",
    "\n",
    "\n",
    "from qiskit.test.mock import FakeVigo\n",
    "from qiskit import QuantumCircuit\n",
    "from qiskit.providers.aer import extensions  # import aer snapshot instructions\n",
    "from qiskit import execute\n",
    "\n",
    "# System Specification\n",
    "n_qubits = 2\n",
    "circ = QuantumCircuit(n_qubits)\n",
    "\n",
    "# Test Circuit\n",
    "circ.h(0)\n",
    "for qubit in range(n_qubits - 1):\n",
    "    circ.cx(qubit, qubit + 1)\n",
    "circ.measure_all()\n",
    "print(circ)"
   ]
  },
  {
   "cell_type": "code",
   "execution_count": 4,
   "id": "24df14cf",
   "metadata": {},
   "outputs": [
    {
     "data": {
      "image/png": "[encoded data removed]",
      "text/plain": [
       "<Figure size 504x360 with 1 Axes>"
      ]
     },
     "execution_count": 4,
     "metadata": {},
     "output_type": "execute_result"
    }
   ],
   "source": [
    "simulator = Aer.get_backend('aer_simulator')\n",
    "circ = transpile(circ, simulator)\n",
    "\n",
    "# Run and get counts\n",
    "result = simulator.run(circ).result()\n",
    "counts = result.get_counts(circ)\n",
    "plot_histogram(counts, title='Bell-State counts')"
   ]
  },
  {
   "cell_type": "code",
   "execution_count": 5,
   "id": "a940e1b4",
   "metadata": {},
   "outputs": [
    {
     "name": "stdout",
     "output_type": "stream",
     "text": [
      "NoiseModel:\n",
      "  Basis gates: ['cx', 'id', 'rz', 'sx', 'u1', 'u2', 'u3']\n",
      "  Instructions with noise: ['u3', 'u1', 'u2', 'id']\n",
      "  All-qubits errors: ['id', 'u1', 'u2', 'u3']\n"
     ]
    }
   ],
   "source": [
    "p_bitFlip = 0.36\n",
    "error_gate1 = pauli_error([('X',1-p_bitFlip), ('I',p_bitFlip)])\n",
    "noise_bit_flip = NoiseModel()\n",
    "\n",
    "noise_bit_flip.add_all_qubit_quantum_error(error_gate1, ['id','u1','u2','u3'])\n",
    "\n",
    "print(noise_bit_flip)"
   ]
  },
  {
   "cell_type": "code",
   "execution_count": 8,
   "id": "00ea57c3",
   "metadata": {
    "scrolled": true
   },
   "outputs": [
    {
     "name": "stdout",
     "output_type": "stream",
     "text": [
      "     ┌───┐\n",
      "q_0: ┤ H ├\n",
      "     ├───┤\n",
      "q_1: ┤ I ├\n",
      "     └───┘\n",
      "DensityMatrix([[0.18+0.j, 0.18+0.j, 0.  +0.j, 0.  +0.j],\n",
      "               [0.18+0.j, 0.18+0.j, 0.  +0.j, 0.  +0.j],\n",
      "               [0.  +0.j, 0.  +0.j, 0.32+0.j, 0.32+0.j],\n",
      "               [0.  +0.j, 0.  +0.j, 0.32+0.j, 0.32+0.j]],\n",
      "              dims=(2, 2))\n"
     ]
    }
   ],
   "source": [
    "# Create noisy simulator backend\n",
    "sim_noise = AerSimulator(method = \"density_matrix\", noise_model=noise_bit_flip)\n",
    "\n",
    "\n",
    "# System Specification\n",
    "n_qubits = 2\n",
    "circTest = QuantumCircuit(n_qubits)\n",
    "\n",
    "# Test Circuit\n",
    "circTest.h(0)\n",
    "circTest.id(1)\n",
    "\n",
    "print(circTest)\n",
    "\n",
    "circ_tnoise = transpile(circTest, sim_noise, optimization_level = 0)\n",
    "\n",
    "circ_tnoise.save_state()\n",
    "\n",
    "# Run and get counts\n",
    "result_bit_flip = sim_noise.run(circ_tnoise).result()\n",
    "print(result_bit_flip.results[0].data.density_matrix)\n"
   ]
  },
  {
   "cell_type": "code",
   "execution_count": null,
   "id": "8c9a6175",
   "metadata": {},
   "outputs": [],
   "source": []
  }
 ],
 "metadata": {
  "kernelspec": {
   "display_name": "Python 3 (ipykernel)",
   "language": "python",
   "name": "python3"
  },
  "language_info": {
   "codemirror_mode": {
    "name": "ipython",
    "version": 3
   },
   "file_extension": ".py",
   "mimetype": "text/x-python",
   "name": "python",
   "nbconvert_exporter": "python",
   "pygments_lexer": "ipython3",
   "version": "3.9.7"
  }
 },
 "nbformat": 4,
 "nbformat_minor": 5
}
