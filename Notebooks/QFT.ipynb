{
 "cells": [
  {
   "cell_type": "code",
   "execution_count": 3,
   "id": "7499e1d6",
   "metadata": {},
   "outputs": [
    {
     "name": "stdout",
     "output_type": "stream",
     "text": [
      "['/Users/arpan/Desktop/Aresty_Quantum_Git/pgmpy/pgmpy', '/Users/arpan/Desktop/Aresty_Quantum_GIt/pgmpy/Notebooks', '/opt/anaconda3/lib/python39.zip', '/opt/anaconda3/lib/python3.9', '/opt/anaconda3/lib/python3.9/lib-dynload', '', '/opt/anaconda3/lib/python3.9/site-packages', '/opt/anaconda3/lib/python3.9/site-packages/aeosa', '/opt/anaconda3/lib/python3.9/site-packages/pgmpy-0.1.16-py3.9.egg', '/opt/anaconda3/lib/python3.9/site-packages/pytz-2021.3-py3.9.egg', '/opt/anaconda3/lib/python3.9/site-packages/locket-0.2.1-py3.9.egg', '/opt/anaconda3/lib/python3.9/site-packages/IPython/extensions', '/Users/arpan/.ipython']\n",
      "+---------+--------+\n",
      "| q0m0(0) | (1+0j) |\n",
      "+---------+--------+\n",
      "| q0m0(1) | 0j     |\n",
      "+---------+--------+\n",
      "+---------+-------------------------+-----+\n",
      "| q0m0    | q0m0(0)                 | ... |\n",
      "+---------+-------------------------+-----+\n",
      "| q0m1(0) | (0.7071067811865475+0j) | ... |\n",
      "+---------+-------------------------+-----+\n",
      "| q0m1(1) | (0.7071067811865475+0j) | ... |\n",
      "+---------+-------------------------+-----+\n"
     ]
    },
    {
     "data": {
      "application/vnd.jupyter.widget-view+json": {
       "model_id": "54532aaa6fb742ab91abdf157f4c2d87",
       "version_major": 2,
       "version_minor": 0
      },
      "text/plain": [
       "  0%|          | 0/1 [00:00<?, ?it/s]"
      ]
     },
     "metadata": {},
     "output_type": "display_data"
    },
    {
     "data": {
      "application/vnd.jupyter.widget-view+json": {
       "model_id": "54ce6dd2b44148348fb0cc01fb4fee55",
       "version_major": 2,
       "version_minor": 0
      },
      "text/plain": [
       "  0%|          | 0/1 [00:00<?, ?it/s]"
      ]
     },
     "metadata": {},
     "output_type": "display_data"
    },
    {
     "name": "stdout",
     "output_type": "stream",
     "text": [
      "+---------+----------------+\n",
      "| q0m1    |      phi(q0m1) |\n",
      "+=========+================+\n",
      "| q0m1(0) | 0.7071+0.0000j |\n",
      "+---------+----------------+\n",
      "| q0m1(1) | 0.7071+0.0000j |\n",
      "+---------+----------------+\n"
     ]
    }
   ],
   "source": [
    "import sys\n",
    "#sys.path.insert(0, '/Users/arpan/Desktop/Aresty_Quantum_Git/pgmpy/pgmpy')\n",
    "#QFT with one qubit\n",
    "\n",
    "import cmath\n",
    "import math\n",
    "from pgmpy.models import BayesianNetwork\n",
    "from pgmpy.factors.discrete.CPD import TabularCPD\n",
    "import numpy as np\n",
    "from pgmpy.inference import VariableElimination\n",
    "from pgmpy.inference import BeliefPropagation\n",
    "\n",
    "N = 2\n",
    "omega_N = cmath.exp(2*math.pi*1j/N)\n",
    "qft = BayesianNetwork([('q0m0','q0m1')])\n",
    "cpd_q0m0 = TabularCPD(variable = 'q0m0', variable_card = 2, values = [[1], [0]])\n",
    "cpd_q0m1 = TabularCPD(variable='q0m1', variable_card = 2, values = [[1/np.sqrt(N),1/np.sqrt(N)], [1/np.sqrt(N),omega_N/np.sqrt(N)]], evidence = ['q0m0'], evidence_card = [2])\n",
    "\n",
    "\"\"\"\n",
    "U_QFT =\n",
    "[1/sqrt(2)   1/sqrt(2)]\n",
    "[1/sqrt(2)   -1/sqrt(2)]\n",
    "\"\"\"\n",
    "\n",
    "\n",
    "print(cpd_q0m0)\n",
    "print(cpd_q0m1)\n",
    "qft.add_cpds(cpd_q0m0,cpd_q0m1)\n",
    "qftInfer = VariableElimination(qft)\n",
    "print(qftInfer.query(['q0m1']))"
   ]
  },
  {
   "cell_type": "code",
   "execution_count": 4,
   "id": "497937f5",
   "metadata": {},
   "outputs": [
    {
     "name": "stdout",
     "output_type": "stream",
     "text": [
      "+---------+--------+\n",
      "| q0m0(0) | (1+0j) |\n",
      "+---------+--------+\n",
      "| q0m0(1) | 0j     |\n",
      "+---------+--------+\n",
      "+---------+--------+\n",
      "| q1m0(0) | (1+0j) |\n",
      "+---------+--------+\n",
      "| q1m0(1) | 0j     |\n",
      "+---------+--------+\n",
      "+---------+-------------------------+-----+\n",
      "| q0m0    | q0m0(0)                 | ... |\n",
      "+---------+-------------------------+-----+\n",
      "| q1m0    | q1m0(0)                 | ... |\n",
      "+---------+-------------------------+-----+\n",
      "| q0m1(0) | (0.7071067811865475+0j) | ... |\n",
      "+---------+-------------------------+-----+\n",
      "| q0m1(1) | (0.7071067811865475+0j) | ... |\n",
      "+---------+-------------------------+-----+\n",
      "+---------+-------------------------+-----+\n",
      "| q0m0    | q0m0(0)                 | ... |\n",
      "+---------+-------------------------+-----+\n",
      "| q1m0    | q1m0(0)                 | ... |\n",
      "+---------+-------------------------+-----+\n",
      "| q1m1(0) | (0.7071067811865475+0j) | ... |\n",
      "+---------+-------------------------+-----+\n",
      "| q1m1(1) | (0.7071067811865475+0j) | ... |\n",
      "+---------+-------------------------+-----+\n"
     ]
    },
    {
     "data": {
      "application/vnd.jupyter.widget-view+json": {
       "model_id": "7b32ecfd49d34f0691450ba7e01c7190",
       "version_major": 2,
       "version_minor": 0
      },
      "text/plain": [
       "  0%|          | 0/2 [00:00<?, ?it/s]"
      ]
     },
     "metadata": {},
     "output_type": "display_data"
    },
    {
     "data": {
      "application/vnd.jupyter.widget-view+json": {
       "model_id": "5f3bf885a5c5497fbebea0a2d59494f5",
       "version_major": 2,
       "version_minor": 0
      },
      "text/plain": [
       "  0%|          | 0/2 [00:00<?, ?it/s]"
      ]
     },
     "metadata": {},
     "output_type": "display_data"
    },
    {
     "name": "stdout",
     "output_type": "stream",
     "text": [
      "+---------+---------+------------------+\n",
      "| q0m1    | q1m1    |   phi(q0m1,q1m1) |\n",
      "+=========+=========+==================+\n",
      "| q0m1(0) | q1m1(0) |   0.5000+0.0000j |\n",
      "+---------+---------+------------------+\n",
      "| q0m1(0) | q1m1(1) |   0.5000+0.0000j |\n",
      "+---------+---------+------------------+\n",
      "| q0m1(1) | q1m1(0) |   0.5000+0.0000j |\n",
      "+---------+---------+------------------+\n",
      "| q0m1(1) | q1m1(1) |   0.5000+0.0000j |\n",
      "+---------+---------+------------------+\n"
     ]
    },
    {
     "data": {
      "text/plain": [
       "'\\nU_QFT(00) = 1/2 00 + 1/2 01 + 1/2 10 + 1/2 11 = (1/sqrt(2)* (0 + 1)) * (1/sqrt(2)* (0 + 1))\\nU_QFT(01) = 1/2 00 + i/2 01 - 1/2 10 - i/2 11 = (1/sqrt(2)* (0 - 1)) * (1/sqrt(2)* (0 + i*1))\\n...\\n'"
      ]
     },
     "execution_count": 4,
     "metadata": {},
     "output_type": "execute_result"
    }
   ],
   "source": [
    "#QFT with 2 qubits\n",
    "\n",
    "N = 4\n",
    "omega_N = cmath.exp(2*math.pi*1j/N)\n",
    "qft = BayesianNetwork([('q0m0','q0m1'), ('q1m0','q0m1'), ('q0m0','q1m1'), ('q1m0','q1m1')])\n",
    "cpd_q0m0 = TabularCPD(variable = 'q0m0', variable_card = 2, values = [[1], [0]])\n",
    "cpd_q1m0 = TabularCPD(variable = 'q1m0', variable_card = 2, values = [[1], [0]])\n",
    "cpd_q0m1 = TabularCPD(variable='q0m1', variable_card = 2, values = [[1/np.sqrt(2),1/np.sqrt(2),1/np.sqrt(2),1/np.sqrt(2)], [1/np.sqrt(2),(omega_N**2)/np.sqrt(2),(omega_N**4)/np.sqrt(2),(omega_N**6)/np.sqrt(2)]], evidence = ['q0m0','q1m0'], evidence_card = [2,2])\n",
    "cpd_q1m1 = TabularCPD(variable='q1m1', variable_card = 2, values = [[1/np.sqrt(2),1/np.sqrt(2),1/np.sqrt(2),1/np.sqrt(2)], [1/np.sqrt(2),(omega_N**1)/np.sqrt(2),(omega_N**2)/np.sqrt(2),(omega_N**3)/np.sqrt(2)]], evidence = ['q0m0','q1m0'], evidence_card = [2,2])\n",
    "\n",
    "\"\"\"\n",
    "U_QFT =\n",
    "[1/2   1/2   1/2   1/2]\n",
    "[1/2   i/2   -1/2   -i/2]\n",
    "[1/2   -1/2   1/2   -1/2]\n",
    "[1/2   -i/2   -1/2   i/2]\n",
    "\"\"\"\n",
    "\n",
    "\n",
    "print(cpd_q0m0)\n",
    "print(cpd_q1m0)\n",
    "print(cpd_q0m1)\n",
    "print(cpd_q1m1)\n",
    "qft.add_cpds(cpd_q0m0,cpd_q0m1,cpd_q1m0,cpd_q1m1)\n",
    "qftInfer = VariableElimination(qft)\n",
    "print(qftInfer.query(['q0m1','q1m1']))\n",
    "\n",
    "\"\"\"\n",
    "U_QFT(00) = 1/2 00 + 1/2 01 + 1/2 10 + 1/2 11 = (1/sqrt(2)* (0 + 1)) * (1/sqrt(2)* (0 + 1))\n",
    "U_QFT(01) = 1/2 00 + i/2 01 - 1/2 10 - i/2 11 = (1/sqrt(2)* (0 - 1)) * (1/sqrt(2)* (0 + i*1))\n",
    "...\n",
    "\"\"\""
   ]
  },
  {
   "cell_type": "code",
   "execution_count": 5,
   "id": "dd2cdbac",
   "metadata": {},
   "outputs": [
    {
     "name": "stdout",
     "output_type": "stream",
     "text": [
      "+---------+--------+\n",
      "| q0m0(0) | (1+0j) |\n",
      "+---------+--------+\n",
      "| q0m0(1) | 0j     |\n",
      "+---------+--------+\n",
      "+---------+---------+---------+\n",
      "| q0m0    | q0m0(0) | q0m0(1) |\n",
      "+---------+---------+---------+\n",
      "| q0m1(0) | 0j      | (-0-1j) |\n",
      "+---------+---------+---------+\n",
      "| q0m1(1) | 1j      | 0j      |\n",
      "+---------+---------+---------+\n"
     ]
    },
    {
     "data": {
      "application/vnd.jupyter.widget-view+json": {
       "model_id": "b87ca03e2336469082da9fbc27910918",
       "version_major": 2,
       "version_minor": 0
      },
      "text/plain": [
       "  0%|          | 0/1 [00:00<?, ?it/s]"
      ]
     },
     "metadata": {},
     "output_type": "display_data"
    },
    {
     "data": {
      "application/vnd.jupyter.widget-view+json": {
       "model_id": "d430946f44dc43ba90e434c6d491fae2",
       "version_major": 2,
       "version_minor": 0
      },
      "text/plain": [
       "  0%|          | 0/1 [00:00<?, ?it/s]"
      ]
     },
     "metadata": {},
     "output_type": "display_data"
    },
    {
     "name": "stdout",
     "output_type": "stream",
     "text": [
      "+---------+----------------+\n",
      "| q0m1    |      phi(q0m1) |\n",
      "+=========+================+\n",
      "| q0m1(0) | 0.0000+0.0000j |\n",
      "+---------+----------------+\n",
      "| q0m1(1) | 0.0000+1.0000j |\n",
      "+---------+----------------+\n"
     ]
    }
   ],
   "source": [
    "#Y gate example\n",
    "\n",
    "N = 2\n",
    "omega_N = cmath.exp(2*math.pi*1j/N)\n",
    "qft = BayesianNetwork([('q0m0','q0m1')])\n",
    "cpd_q0m0 = TabularCPD(variable = 'q0m0', variable_card = 2, values = [[1], [0]])\n",
    "cpd_q0m1 = TabularCPD(variable='q0m1', variable_card = 2, values = [[0,-1j], [1j,0]], evidence = ['q0m0'], evidence_card = [2])\n",
    "\n",
    "print(cpd_q0m0)\n",
    "print(cpd_q0m1)\n",
    "qft.add_cpds(cpd_q0m0,cpd_q0m1)\n",
    "qftInfer = VariableElimination(qft)\n",
    "print(qftInfer.query(['q0m1']))"
   ]
  },
  {
   "cell_type": "code",
   "execution_count": 6,
   "id": "efd5293e",
   "metadata": {},
   "outputs": [
    {
     "name": "stdout",
     "output_type": "stream",
     "text": [
      "+---------+--------+\n",
      "| q0m0(0) | 0j     |\n",
      "+---------+--------+\n",
      "| q0m0(1) | (1+0j) |\n",
      "+---------+--------+\n",
      "+---------+--------+\n",
      "| q1m0(0) | (1+0j) |\n",
      "+---------+--------+\n",
      "| q1m0(1) | 0j     |\n",
      "+---------+--------+\n",
      "+---------+---------+---------+---------+---------+\n",
      "| q0m0    | q0m0(0) | q0m0(0) | q0m0(1) | q0m0(1) |\n",
      "+---------+---------+---------+---------+---------+\n",
      "| q1m0    | q1m0(0) | q1m0(1) | q1m0(0) | q1m0(1) |\n",
      "+---------+---------+---------+---------+---------+\n",
      "| q0m1(0) | (1+0j)  | (1+0j)  | 0j      | 0j      |\n",
      "+---------+---------+---------+---------+---------+\n",
      "| q0m1(1) | 0j      | 0j      | (1+0j)  | (1+0j)  |\n",
      "+---------+---------+---------+---------+---------+\n",
      "+---------+---------+---------+---------+---------+\n",
      "| q0m0    | q0m0(0) | q0m0(0) | q0m0(1) | q0m0(1) |\n",
      "+---------+---------+---------+---------+---------+\n",
      "| q1m0    | q1m0(0) | q1m0(1) | q1m0(0) | q1m0(1) |\n",
      "+---------+---------+---------+---------+---------+\n",
      "| q1m1(0) | (1+0j)  | 0j      | (1+0j)  | 0j      |\n",
      "+---------+---------+---------+---------+---------+\n",
      "| q1m1(1) | 0j      | (1+0j)  | 0j      | (1+0j)  |\n",
      "+---------+---------+---------+---------+---------+\n"
     ]
    },
    {
     "data": {
      "application/vnd.jupyter.widget-view+json": {
       "model_id": "3b2dd260d9ec400bad5b9a743a73b1a4",
       "version_major": 2,
       "version_minor": 0
      },
      "text/plain": [
       "  0%|          | 0/2 [00:00<?, ?it/s]"
      ]
     },
     "metadata": {},
     "output_type": "display_data"
    },
    {
     "data": {
      "application/vnd.jupyter.widget-view+json": {
       "model_id": "12667a7f97894182ab7fb28a4b11d849",
       "version_major": 2,
       "version_minor": 0
      },
      "text/plain": [
       "  0%|          | 0/2 [00:00<?, ?it/s]"
      ]
     },
     "metadata": {},
     "output_type": "display_data"
    },
    {
     "name": "stdout",
     "output_type": "stream",
     "text": [
      "+---------+---------+------------------+\n",
      "| q0m1    | q1m1    |   phi(q0m1,q1m1) |\n",
      "+=========+=========+==================+\n",
      "| q0m1(0) | q1m1(0) |   0.0000+0.0000j |\n",
      "+---------+---------+------------------+\n",
      "| q0m1(0) | q1m1(1) |   0.0000+0.0000j |\n",
      "+---------+---------+------------------+\n",
      "| q0m1(1) | q1m1(0) |   1.0000+0.0000j |\n",
      "+---------+---------+------------------+\n",
      "| q0m1(1) | q1m1(1) |   0.0000+0.0000j |\n",
      "+---------+---------+------------------+\n"
     ]
    }
   ],
   "source": [
    "#Identity Gate on 2 qubits\n",
    "\n",
    "N = 4\n",
    "omega_N = cmath.exp(2*math.pi*1j/N)\n",
    "qft = BayesianNetwork([('q0m0','q0m1'), ('q1m0','q0m1'), ('q0m0','q1m1'), ('q1m0','q1m1')])\n",
    "cpd_q0m0 = TabularCPD(variable = 'q0m0', variable_card = 2, values = [[0], [1]])\n",
    "cpd_q1m0 = TabularCPD(variable = 'q1m0', variable_card = 2, values = [[1], [0]])\n",
    "cpd_q0m1 = TabularCPD(variable='q0m1', variable_card = 2, values = [[1,1,0,0], [0,0,1,1]], evidence = ['q0m0','q1m0'], evidence_card = [2,2])\n",
    "cpd_q1m1 = TabularCPD(variable='q1m1', variable_card = 2, values = [[1,0,1,0], [0,1,0,1]], evidence = ['q0m0','q1m0'], evidence_card = [2,2])\n",
    "\n",
    "print(cpd_q0m0)\n",
    "print(cpd_q1m0)\n",
    "print(cpd_q0m1)\n",
    "print(cpd_q1m1)\n",
    "qft.add_cpds(cpd_q0m0,cpd_q0m1,cpd_q1m0,cpd_q1m1)\n",
    "qftInfer = VariableElimination(qft)\n",
    "print(qftInfer.query(['q0m1','q1m1']))"
   ]
  },
  {
   "cell_type": "code",
   "execution_count": 7,
   "id": "26a1a87f",
   "metadata": {},
   "outputs": [
    {
     "name": "stdout",
     "output_type": "stream",
     "text": [
      "+---------+--------+\n",
      "| q0m0(0) | (1+0j) |\n",
      "+---------+--------+\n",
      "| q0m0(1) | 0j     |\n",
      "+---------+--------+\n",
      "+---------+-------------------------+-----+\n",
      "| q0m0    | q0m0(0)                 | ... |\n",
      "+---------+-------------------------+-----+\n",
      "| q0m1(0) | (0.7071067811865475+0j) | ... |\n",
      "+---------+-------------------------+-----+\n",
      "| q0m1(1) | (0.7071067811865475+0j) | ... |\n",
      "+---------+-------------------------+-----+\n"
     ]
    },
    {
     "data": {
      "application/vnd.jupyter.widget-view+json": {
       "model_id": "bad2d5bc9b7c4e67932d7933e1c25886",
       "version_major": 2,
       "version_minor": 0
      },
      "text/plain": [
       "  0%|          | 0/1 [00:00<?, ?it/s]"
      ]
     },
     "metadata": {},
     "output_type": "display_data"
    },
    {
     "name": "stdout",
     "output_type": "stream",
     "text": [
      "+---------+----------------+\n",
      "| q0m1    |      phi(q0m1) |\n",
      "+=========+================+\n",
      "| q0m1(0) | 0.7071+0.0000j |\n",
      "+---------+----------------+\n",
      "| q0m1(1) | 0.7071+0.0000j |\n",
      "+---------+----------------+\n"
     ]
    }
   ],
   "source": [
    "#Belief Propagation for QFT on 1 qubit\n",
    "\n",
    "N = 2\n",
    "omega_N = cmath.exp(2*math.pi*1j/N)\n",
    "qft = BayesianNetwork([('q0m0','q0m1')])\n",
    "cpd_q0m0 = TabularCPD(variable = 'q0m0', variable_card = 2, values = [[1], [0]])\n",
    "cpd_q0m1 = TabularCPD(variable='q0m1', variable_card = 2, values = [[1/np.sqrt(N),1/np.sqrt(N)], [1/np.sqrt(N),omega_N/np.sqrt(N)]], evidence = ['q0m0'], evidence_card = [2])\n",
    "\n",
    "print(cpd_q0m0)\n",
    "print(cpd_q0m1)\n",
    "qft.add_cpds(cpd_q0m0,cpd_q0m1)\n",
    "qftInfer = BeliefPropagation(qft)\n",
    "print(qftInfer.query(['q0m1']))"
   ]
  },
  {
   "cell_type": "code",
   "execution_count": 6,
   "id": "2a7ba45f",
   "metadata": {},
   "outputs": [
    {
     "name": "stdout",
     "output_type": "stream",
     "text": [
      "+---------+--------+\n",
      "| q0m0(0) | 0j     |\n",
      "+---------+--------+\n",
      "| q0m0(1) | (1+0j) |\n",
      "+---------+--------+\n",
      "+---------+--------+\n",
      "| q1m0(0) | 0j     |\n",
      "+---------+--------+\n",
      "| q1m0(1) | (1+0j) |\n",
      "+---------+--------+\n",
      "+---------+-------------------------+-----+-----------------------------------------------+\n",
      "| q0m0    | q0m0(0)                 | ... | q0m0(1)                                       |\n",
      "+---------+-------------------------+-----+-----------------------------------------------+\n",
      "| q1m0    | q1m0(0)                 | ... | q1m0(1)                                       |\n",
      "+---------+-------------------------+-----+-----------------------------------------------+\n",
      "| q0m1(0) | (0.7071067811865475+0j) | ... | (0.7071067811865475+0j)                       |\n",
      "+---------+-------------------------+-----+-----------------------------------------------+\n",
      "| q0m1(1) | (0.7071067811865475+0j) | ... | (-0.7071067811865475+2.5978681687064796e-16j) |\n",
      "+---------+-------------------------+-----+-----------------------------------------------+\n",
      "+---------+-------------------------+-----+-----------------------------------------------+\n",
      "| q0m0    | q0m0(0)                 | ... | q0m0(1)                                       |\n",
      "+---------+-------------------------+-----+-----------------------------------------------+\n",
      "| q1m0    | q1m0(0)                 | ... | q1m0(1)                                       |\n",
      "+---------+-------------------------+-----+-----------------------------------------------+\n",
      "| q1m1(0) | (0.7071067811865475+0j) | ... | (0.7071067811865475+0j)                       |\n",
      "+---------+-------------------------+-----+-----------------------------------------------+\n",
      "| q1m1(1) | (0.7071067811865475+0j) | ... | (-1.2989340843532398e-16-0.7071067811865475j) |\n",
      "+---------+-------------------------+-----+-----------------------------------------------+\n"
     ]
    },
    {
     "name": "stderr",
     "output_type": "stream",
     "text": [
      "C:\\Users\\masch\\Quantum Computing\\pgmpy\\pgmpy\\pgmpy\\pgmpy\\factors\\discrete\\DiscreteFactor.py:825: RuntimeWarning: invalid value encountered in true_divide\n",
      "  phi.values = phi.values / phi1.values\n"
     ]
    },
    {
     "data": {
      "application/vnd.jupyter.widget-view+json": {
       "model_id": "8cdeda4d101649fd8d76e0f4b97945af",
       "version_major": 2,
       "version_minor": 0
      },
      "text/plain": [
       "  0%|          | 0/2 [00:00<?, ?it/s]"
      ]
     },
     "metadata": {},
     "output_type": "display_data"
    },
    {
     "name": "stdout",
     "output_type": "stream",
     "text": [
      "+---------+---------+------------------+\n",
      "| q0m1    | q1m1    |   phi(q0m1,q1m1) |\n",
      "+=========+=========+==================+\n",
      "| q0m1(0) | q1m1(0) |   0.5000+0.0000j |\n",
      "+---------+---------+------------------+\n",
      "| q0m1(0) | q1m1(1) |  -0.0000-0.5000j |\n",
      "+---------+---------+------------------+\n",
      "| q0m1(1) | q1m1(0) |  -0.5000+0.0000j |\n",
      "+---------+---------+------------------+\n",
      "| q0m1(1) | q1m1(1) |   0.0000+0.5000j |\n",
      "+---------+---------+------------------+\n"
     ]
    }
   ],
   "source": [
    "#Belief Propagation with QFT on 2 qubits\n",
    "\n",
    "N = 4\n",
    "omega_N = cmath.exp(2*math.pi*1j/N)\n",
    "qft = BayesianNetwork([('q0m0','q0m1'), ('q1m0','q0m1'), ('q0m0','q1m1'), ('q1m0','q1m1')])\n",
    "cpd_q0m0 = TabularCPD(variable = 'q0m0', variable_card = 2, values = [[0], [1]])\n",
    "cpd_q1m0 = TabularCPD(variable = 'q1m0', variable_card = 2, values = [[0], [1]])\n",
    "cpd_q0m1 = TabularCPD(variable='q0m1', variable_card = 2, values = [[1/np.sqrt(2),1/np.sqrt(2),1/np.sqrt(2),1/np.sqrt(2)], [1/np.sqrt(2),(omega_N**2)/np.sqrt(2),(omega_N**4)/np.sqrt(2),(omega_N**6)/np.sqrt(2)]], evidence = ['q0m0','q1m0'], evidence_card = [2,2])\n",
    "cpd_q1m1 = TabularCPD(variable='q1m1', variable_card = 2, values = [[1/np.sqrt(2),1/np.sqrt(2),1/np.sqrt(2),1/np.sqrt(2)], [1/np.sqrt(2),(omega_N**1)/np.sqrt(2),(omega_N**2)/np.sqrt(2),(omega_N**3)/np.sqrt(2)]], evidence = ['q0m0','q1m0'], evidence_card = [2,2])\n",
    "\n",
    "print(cpd_q0m0)\n",
    "print(cpd_q1m0)\n",
    "print(cpd_q0m1)\n",
    "print(cpd_q1m1)\n",
    "qft.add_cpds(cpd_q0m0,cpd_q0m1,cpd_q1m0,cpd_q1m1)\n",
    "qftInfer = BeliefPropagation(qft)\n",
    "print(qftInfer.query(['q0m1','q1m1']))"
   ]
  },
  {
   "cell_type": "code",
   "execution_count": 8,
   "id": "a0f18e6c",
   "metadata": {},
   "outputs": [
    {
     "data": {
      "application/vnd.jupyter.widget-view+json": {
       "model_id": "e68063bcddcd44dea662c7d4d198d83a",
       "version_major": 2,
       "version_minor": 0
      },
      "text/plain": [
       "  0%|          | 0/3 [00:00<?, ?it/s]"
      ]
     },
     "metadata": {},
     "output_type": "display_data"
    },
    {
     "data": {
      "application/vnd.jupyter.widget-view+json": {
       "model_id": "29dca9ecabec4979a16a6fff07dc4be1",
       "version_major": 2,
       "version_minor": 0
      },
      "text/plain": [
       "  0%|          | 0/3 [00:00<?, ?it/s]"
      ]
     },
     "metadata": {},
     "output_type": "display_data"
    },
    {
     "name": "stdout",
     "output_type": "stream",
     "text": [
      "+---------+---------+---------+-----------------------+\n",
      "| q2m1    | q1m1    | q0m1    |   phi(q2m1,q1m1,q0m1) |\n",
      "+=========+=========+=========+=======================+\n",
      "| q2m1(0) | q1m1(0) | q0m1(0) |        0.3536+0.0000j |\n",
      "+---------+---------+---------+-----------------------+\n",
      "| q2m1(0) | q1m1(0) | q0m1(1) |       -0.3536+0.0000j |\n",
      "+---------+---------+---------+-----------------------+\n",
      "| q2m1(0) | q1m1(1) | q0m1(0) |       -0.0000-0.3536j |\n",
      "+---------+---------+---------+-----------------------+\n",
      "| q2m1(0) | q1m1(1) | q0m1(1) |        0.0000+0.3536j |\n",
      "+---------+---------+---------+-----------------------+\n",
      "| q2m1(1) | q1m1(0) | q0m1(0) |       -0.2500+0.2500j |\n",
      "+---------+---------+---------+-----------------------+\n",
      "| q2m1(1) | q1m1(0) | q0m1(1) |        0.2500-0.2500j |\n",
      "+---------+---------+---------+-----------------------+\n",
      "| q2m1(1) | q1m1(1) | q0m1(0) |        0.2500+0.2500j |\n",
      "+---------+---------+---------+-----------------------+\n",
      "| q2m1(1) | q1m1(1) | q0m1(1) |       -0.2500-0.2500j |\n",
      "+---------+---------+---------+-----------------------+\n"
     ]
    }
   ],
   "source": [
    "#QFT with 3 qubits\n",
    "\n",
    "N = 8\n",
    "A = 1/(np.sqrt(2))\n",
    "omega_N = cmath.exp(2*math.pi*1j/N)\n",
    "qft = BayesianNetwork([('q0m0','q0m1'), ('q0m0','q1m1'), ('q0m0','q2m1'), ('q1m0','q0m1'), ('q1m0','q1m1'), ('q1m0','q2m1'), ('q2m0','q0m1'), ('q2m0','q1m1'), ('q2m0','q2m1')])\n",
    "cpd_q0m0 = TabularCPD(variable = 'q0m0', variable_card = 2, values = [[1], [0]])\n",
    "cpd_q1m0 = TabularCPD(variable = 'q1m0', variable_card = 2, values = [[0], [1]])\n",
    "cpd_q2m0 = TabularCPD(variable = 'q2m0', variable_card = 2, values = [[0], [1]])\n",
    "cpd_q0m1 = TabularCPD(variable='q0m1', variable_card = 2, values = [[A,A,A,A,A,A,A,A], [A,A*(omega_N**4),A*(omega_N**8),A*(omega_N**12),A*(omega_N**16),A*(omega_N**20),A*(omega_N**24),A*(omega_N**28)]], evidence = ['q0m0','q1m0','q2m0'], evidence_card = [2,2,2])\n",
    "cpd_q1m1 = TabularCPD(variable='q1m1', variable_card = 2, values = [[A,A,A,A,A,A,A,A], [A,A*(omega_N**2),A*(omega_N**4),A*(omega_N**6),A*(omega_N**8),A*(omega_N**10),A*(omega_N**12),A*(omega_N**14)]], evidence = ['q0m0','q1m0','q2m0'], evidence_card = [2,2,2])\n",
    "cpd_q2m1 = TabularCPD(variable='q2m1', variable_card = 2, values = [[A,A,A,A,A,A,A,A], [A,A*(omega_N**1),A*(omega_N**2),A*(omega_N**3),A*(omega_N**4),A*(omega_N**5),A*(omega_N**6),A*(omega_N**7)]], evidence = ['q0m0','q1m0','q2m0'], evidence_card = [2,2,2])\n",
    "\n",
    "\"\"\"\n",
    "Let w = e^(i*pi/3)\n",
    "U_QFT =\n",
    "1/(2*sqrt(2))*\n",
    "[1 1   1    1    1    1    1    1   ] \n",
    "[1 w   w^2  w^3  w^4  w^5  w^6  w^7 ]\n",
    "[1 w^2 w^4  w^6  w^8  w^10 w^12 w^14]\n",
    "[1 w^3 w^6  w^9  w^12 w^15 w^18 w^21]\n",
    "[1 w^4 w^8  w^12 w^16 w^20 w^24 w^28]\n",
    "[1 w^5 w^10 w^15 w^20 w^25 w^30 w^35]\n",
    "[1 w^6 w^12 w^18 w^24 w^30 w^36 w^42]\n",
    "[1 w^7 w^14 w^21 w^28 w^35 w^42 w^49]\n",
    "\"\"\"\n",
    "\n",
    "qft.add_cpds(cpd_q0m0,cpd_q0m1,cpd_q1m0,cpd_q1m1,cpd_q2m0,cpd_q2m1)\n",
    "qftInfer = VariableElimination(qft)\n",
    "print(qftInfer.query(['q0m1','q1m1','q2m1']))"
   ]
  },
  {
   "cell_type": "code",
   "execution_count": 11,
   "id": "088ac5c0",
   "metadata": {},
   "outputs": [
    {
     "name": "stdout",
     "output_type": "stream",
     "text": [
      "0.35355339059327373\n"
     ]
    }
   ],
   "source": [
    "print(1/(2*np.sqrt(2)))"
   ]
  },
  {
   "cell_type": "code",
   "execution_count": null,
   "id": "e80a7688",
   "metadata": {},
   "outputs": [],
   "source": []
  }
 ],
 "metadata": {
  "kernelspec": {
   "display_name": "Python 3 (ipykernel)",
   "language": "python",
   "name": "python3"
  },
  "language_info": {
   "codemirror_mode": {
    "name": "ipython",
    "version": 3
   },
   "file_extension": ".py",
   "mimetype": "text/x-python",
   "name": "python",
   "nbconvert_exporter": "python",
   "pygments_lexer": "ipython3",
   "version": "3.9.7"
  }
 },
 "nbformat": 4,
 "nbformat_minor": 5
}
