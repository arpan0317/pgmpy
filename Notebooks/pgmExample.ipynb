{
 "cells": [
  {
   "cell_type": "code",
   "execution_count": null,
   "id": "ef16dae6",
   "metadata": {},
   "outputs": [],
   "source": [
    "from pgmpy.base import DAG\n",
    "G = DAG()"
   ]
  },
  {
   "cell_type": "code",
   "execution_count": null,
   "id": "d72eedf7",
   "metadata": {},
   "outputs": [],
   "source": [
    "G.add_node(node='a')"
   ]
  },
  {
   "cell_type": "code",
   "execution_count": null,
   "id": "54c06836",
   "metadata": {},
   "outputs": [],
   "source": [
    "G.add_nodes_from(nodes=['a', 'b'])"
   ]
  },
  {
   "cell_type": "code",
   "execution_count": null,
   "id": "8b40b408",
   "metadata": {},
   "outputs": [],
   "source": [
    "G.add_edge(u='a', v='b')"
   ]
  },
  {
   "cell_type": "code",
   "execution_count": null,
   "id": "c465dcad",
   "metadata": {},
   "outputs": [],
   "source": [
    "G.add_edges_from(ebunch=[('a', 'b'), ('b', 'c')])"
   ]
  },
  {
   "cell_type": "code",
   "execution_count": null,
   "id": "653b763e",
   "metadata": {},
   "outputs": [],
   "source": [
    "'a' in G"
   ]
  },
  {
   "cell_type": "code",
   "execution_count": null,
   "id": "7e09e9c4",
   "metadata": {},
   "outputs": [],
   "source": [
    "len(G)"
   ]
  },
  {
   "cell_type": "code",
   "execution_count": null,
   "id": "1baa59a3",
   "metadata": {},
   "outputs": [],
   "source": [
    "student = DAG()\n",
    "student.add_nodes_from(['diff', 'intel', 'grades'])\n",
    "student.add_edges_from([('diff', 'grades'), ('intel', 'grades')])\n",
    "student.active_trail_nodes('diff')\n",
    "student.active_trail_nodes(['diff', 'intel'], observed='grades')"
   ]
  },
  {
   "cell_type": "code",
   "execution_count": null,
   "id": "112d6865",
   "metadata": {},
   "outputs": [],
   "source": [
    "G = DAG()\n",
    "G.add_nodes_from(nodes=['Alice', 'Bob', 'Charles'])\n",
    "G.add_edge(u='Alice', v='Bob')\n",
    "G.nodes()"
   ]
  },
  {
   "cell_type": "code",
   "execution_count": null,
   "id": "3f8b71dd",
   "metadata": {},
   "outputs": [],
   "source": [
    "G.edges()"
   ]
  },
  {
   "cell_type": "code",
   "execution_count": null,
   "id": "d64fe4c8",
   "metadata": {},
   "outputs": [],
   "source": [
    "import numpy as np\n",
    "import pandas as pd\n",
    "from pgmpy.models import BayesianNetwork\n",
    "from pgmpy.inference import VariableElimination\n",
    "values = pd.DataFrame(np.random.randint(low=0, high=2, size=(1000, 5)),\n",
    "                      columns=['A', 'B', 'C', 'D', 'E'])\n",
    "model = BayesianNetwork([('A', 'B'), ('C', 'B'), ('C', 'D'), ('B', 'E')])\n",
    "model.fit(values)\n",
    "inference = VariableElimination(model)\n",
    "phi_query = inference.max_marginal(['A', 'B'])"
   ]
  },
  {
   "cell_type": "code",
   "execution_count": null,
   "id": "01dae55c",
   "metadata": {},
   "outputs": [],
   "source": [
    "from pgmpy.inference import VariableElimination\n",
    "from pgmpy.models import BayesianNetwork\n",
    "import numpy as np\n",
    "import pandas as pd\n",
    "values = pd.DataFrame(np.random.randint(low=0, high=2, size=(1000, 5)),\n",
    "                      columns=['A', 'B', 'C', 'D', 'E'])\n",
    "model = BayesianNetwork([('A', 'B'), ('C', 'B'), ('C', 'D'), ('B', 'E')])\n",
    "model.fit(values)\n",
    "inference = VariableElimination(model)\n",
    "phi_query = inference.query(['A', 'B'])"
   ]
  },
  {
   "cell_type": "code",
   "execution_count": null,
   "id": "466ab898",
   "metadata": {},
   "outputs": [],
   "source": [
    "print(phi_query)"
   ]
  },
  {
   "cell_type": "code",
   "execution_count": 1,
   "id": "404b3b3b",
   "metadata": {},
   "outputs": [
    {
     "data": {
      "application/vnd.jupyter.widget-view+json": {
       "model_id": "d930aa32a04f497e92cc97ba0545e31c",
       "version_major": 2,
       "version_minor": 0
      },
      "text/plain": [
       "  0%|          | 0/2 [00:00<?, ?it/s]"
      ]
     },
     "metadata": {},
     "output_type": "display_data"
    },
    {
     "data": {
      "application/vnd.jupyter.widget-view+json": {
       "model_id": "32df33c880a7485fb6b8376722c7bde0",
       "version_major": 2,
       "version_minor": 0
      },
      "text/plain": [
       "  0%|          | 0/2 [00:00<?, ?it/s]"
      ]
     },
     "metadata": {},
     "output_type": "display_data"
    },
    {
     "name": "stdout",
     "output_type": "stream",
     "text": [
      "+---------+---------+------------------+\n",
      "| q0m2    | q1m2    |   phi(q0m2,q1m2) |\n",
      "+=========+=========+==================+\n",
      "| q0m2(0) | q1m2(0) |           0.7071 |\n",
      "+---------+---------+------------------+\n",
      "| q0m2(0) | q1m2(1) |           0.0000 |\n",
      "+---------+---------+------------------+\n",
      "| q0m2(1) | q1m2(0) |           0.0000 |\n",
      "+---------+---------+------------------+\n",
      "| q0m2(1) | q1m2(1) |          -0.7071 |\n",
      "+---------+---------+------------------+\n"
     ]
    }
   ],
   "source": [
    "#bell states --> variable elimination\n",
    "\n",
    "\n",
    "from pgmpy.models import BayesianNetwork\n",
    "from pgmpy.factors.discrete.CPD import TabularCPD\n",
    "import numpy as np\n",
    "from pgmpy.inference import VariableElimination\n",
    "\n",
    "\n",
    "bellState = BayesianNetwork([('q0m0', 'q0m1'), ('q0m1', 'q0m2'), ('q1m0', 'q1m1'), ('q1m1', 'q1m2'), ('q0m1', 'q1m2')])\n",
    "\n",
    "cpd_q0m0 = TabularCPD(variable = 'q0m0', variable_card = 2, values = [[0], [1]])\n",
    "cpd_q1m0 = TabularCPD(variable = 'q1m0', variable_card = 2, values = [[1], [0]])\n",
    "cpd_q0m1 = TabularCPD(variable='q0m1', variable_card = 2, values = [[1/np.sqrt(2), 1/np.sqrt(2)], [1/np.sqrt(2), -1/np.sqrt(2)]], evidence = ['q0m0'], evidence_card = [2])\n",
    "cpd_q1m1 = TabularCPD(variable = 'q1m1', variable_card = 2, values = [[1, 0], [0,1]], evidence = ['q1m0'], evidence_card = [2])\n",
    "cpd_q1m2 = TabularCPD(variable='q1m2', variable_card = 2, values = [[1,0,0,1], [0,1,1,0]], evidence = ['q0m1', 'q1m1'], evidence_card = [2,2])\n",
    "cpd_q0m2 = TabularCPD(variable='q0m2', variable_card = 2, values = [[1, 0], [0, 1]], evidence = ['q0m1'], evidence_card = [2])\n",
    "\n",
    "bellState.add_cpds(cpd_q0m0, cpd_q1m0, cpd_q0m1, cpd_q0m2, cpd_q1m2, cpd_q1m1)\n",
    "bellStateInfer = VariableElimination(bellState)\n",
    "\n",
    "q = bellStateInfer.query(['q1m2', 'q0m2'], evidence = {'q0m0': 1, 'q1m0': 0})\n",
    "print(q)"
   ]
  },
  {
   "cell_type": "code",
   "execution_count": 2,
   "id": "b258d6c7",
   "metadata": {},
   "outputs": [
    {
     "name": "stdout",
     "output_type": "stream",
     "text": [
      "+---------+---+\n",
      "| q0m0(0) | 0 |\n",
      "+---------+---+\n",
      "| q0m0(1) | 1 |\n",
      "+---------+---+\n"
     ]
    }
   ],
   "source": [
    "print(cpd_q0m0)"
   ]
  },
  {
   "cell_type": "code",
   "execution_count": 3,
   "id": "020cf92a",
   "metadata": {},
   "outputs": [
    {
     "name": "stdout",
     "output_type": "stream",
     "text": [
      "+---------+---+\n",
      "| q1m0(0) | 1 |\n",
      "+---------+---+\n",
      "| q1m0(1) | 0 |\n",
      "+---------+---+\n"
     ]
    }
   ],
   "source": [
    "print(cpd_q1m0)"
   ]
  },
  {
   "cell_type": "code",
   "execution_count": 4,
   "id": "f5aadcc3",
   "metadata": {},
   "outputs": [
    {
     "name": "stdout",
     "output_type": "stream",
     "text": [
      "+---------+--------------------+---------------------+\n",
      "| q0m0    | q0m0(0)            | q0m0(1)             |\n",
      "+---------+--------------------+---------------------+\n",
      "| q0m1(0) | 0.7071067811865475 | 0.7071067811865475  |\n",
      "+---------+--------------------+---------------------+\n",
      "| q0m1(1) | 0.7071067811865475 | -0.7071067811865475 |\n",
      "+---------+--------------------+---------------------+\n"
     ]
    }
   ],
   "source": [
    "print(cpd_q0m1)"
   ]
  },
  {
   "cell_type": "code",
   "execution_count": 5,
   "id": "72d3b5c2",
   "metadata": {},
   "outputs": [
    {
     "name": "stdout",
     "output_type": "stream",
     "text": [
      "+---------+---------+---------+\n",
      "| q1m0    | q1m0(0) | q1m0(1) |\n",
      "+---------+---------+---------+\n",
      "| q1m1(0) | 1.0     | 0.0     |\n",
      "+---------+---------+---------+\n",
      "| q1m1(1) | 0.0     | 1.0     |\n",
      "+---------+---------+---------+\n"
     ]
    }
   ],
   "source": [
    "print(cpd_q1m1)"
   ]
  },
  {
   "cell_type": "code",
   "execution_count": 6,
   "id": "2821aa39",
   "metadata": {},
   "outputs": [
    {
     "name": "stdout",
     "output_type": "stream",
     "text": [
      "+---------+---------+---------+\n",
      "| q0m1    | q0m1(0) | q0m1(1) |\n",
      "+---------+---------+---------+\n",
      "| q0m2(0) | 1.0     | 0.0     |\n",
      "+---------+---------+---------+\n",
      "| q0m2(1) | 0.0     | 1.0     |\n",
      "+---------+---------+---------+\n"
     ]
    }
   ],
   "source": [
    "print(cpd_q0m2)"
   ]
  },
  {
   "cell_type": "code",
   "execution_count": 7,
   "id": "8adb0255",
   "metadata": {},
   "outputs": [
    {
     "name": "stdout",
     "output_type": "stream",
     "text": [
      "+---------+---------+---------+---------+---------+\n",
      "| q0m1    | q0m1(0) | q0m1(0) | q0m1(1) | q0m1(1) |\n",
      "+---------+---------+---------+---------+---------+\n",
      "| q1m1    | q1m1(0) | q1m1(1) | q1m1(0) | q1m1(1) |\n",
      "+---------+---------+---------+---------+---------+\n",
      "| q1m2(0) | 1.0     | 0.0     | 0.0     | 1.0     |\n",
      "+---------+---------+---------+---------+---------+\n",
      "| q1m2(1) | 0.0     | 1.0     | 1.0     | 0.0     |\n",
      "+---------+---------+---------+---------+---------+\n"
     ]
    }
   ],
   "source": [
    "print(cpd_q1m2)"
   ]
  },
  {
   "cell_type": "code",
   "execution_count": null,
   "id": "0dfb2368",
   "metadata": {},
   "outputs": [],
   "source": []
  }
 ],
 "metadata": {
  "kernelspec": {
   "display_name": "Python 3",
   "language": "python",
   "name": "python3"
  },
  "language_info": {
   "codemirror_mode": {
    "name": "ipython",
    "version": 3
   },
   "file_extension": ".py",
   "mimetype": "text/x-python",
   "name": "python",
   "nbconvert_exporter": "python",
   "pygments_lexer": "ipython3",
   "version": "3.8.8"
  }
 },
 "nbformat": 4,
 "nbformat_minor": 5
}
